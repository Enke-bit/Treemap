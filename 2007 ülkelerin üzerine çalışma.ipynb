{
 "cells": [
  {
   "cell_type": "markdown",
   "id": "7a99a065",
   "metadata": {},
   "source": [
    "### Treemap Görselleştirmesi: 2007 Yılı Dünya Nüfusu ve Yaşam Süresi\n",
    "\n",
    "Bu treemap görselleştirmesi, 2007 yılı itibarıyla dünya nüfusunu ve yaşam süresini kıta ve ülke bazında gösterir. Her bir kutu, dünya üzerindeki bir ülkeyi temsil ederken, kutunun büyüklüğü o ülkenin nüfusunu, rengi ise ortalama yaşam süresini ifade eder. Bu görselleştirme, farklı ülkelerin nüfus büyüklüklerini ve yaşam sürelerini karşılaştırarak, küresel sağlık ve demografik eğilimleri anlamanızı sağlar. Veriler, Plotly Express'in gapminder veri setinden alınmıştır."
   ]
  },
  {
   "cell_type": "code",
   "execution_count": 2,
   "id": "ed89cfcd",
   "metadata": {},
   "outputs": [],
   "source": [
    "import plotly.express as px\n",
    "import pandas as pd"
   ]
  },
  {
   "cell_type": "code",
   "execution_count": 3,
   "id": "769e43fc",
   "metadata": {},
   "outputs": [],
   "source": [
    "# gapminder veri setini yükleme\n",
    "gap = px.data.gapminder()"
   ]
  },
  {
   "cell_type": "code",
   "execution_count": 4,
   "id": "cde9bede",
   "metadata": {},
   "outputs": [],
   "source": [
    "# 2007 yılındaki verileri filtreleme\n",
    "temp_df = gap[gap['year'] == 2007]"
   ]
  },
  {
   "cell_type": "code",
   "execution_count": 5,
   "id": "c5713962",
   "metadata": {},
   "outputs": [],
   "source": [
    "# Treemap görselleştirmesi\n",
    "fig = px.treemap(temp_df, \n",
    "                 path=[px.Constant('World'), 'continent', 'country'], \n",
    "                 values='pop', \n",
    "                 color='lifeExp',\n",
    "                 color_continuous_scale='RdBu',\n",
    "                 title='2007 Dünya Nüfusu ve Yaşam Süresi')"
   ]
  },
  {
   "cell_type": "code",
   "execution_count": 6,
   "id": "3ba62fb7",
   "metadata": {},
   "outputs": [
    {
     "data": {
      "application/vnd.plotly.v1+json": {
       "config": {
        "plotlyServerURL": "https://plot.ly"
       },
       "data": [
        {
         "branchvalues": "total",
         "customdata": [
          [
           43.828
          ],
          [
           76.423
          ],
          [
           72.301
          ],
          [
           42.731
          ],
          [
           75.32
          ],
          [
           81.235
          ],
          [
           79.829
          ],
          [
           75.635
          ],
          [
           64.062
          ],
          [
           79.441
          ],
          [
           56.728
          ],
          [
           65.554
          ],
          [
           74.852
          ],
          [
           50.728
          ],
          [
           72.39
          ],
          [
           73.005
          ],
          [
           52.295
          ],
          [
           49.58
          ],
          [
           59.723
          ],
          [
           50.43
          ],
          [
           80.65300000000002
          ],
          [
           44.74100000000001
          ],
          [
           50.651
          ],
          [
           78.553
          ],
          [
           72.961
          ],
          [
           72.889
          ],
          [
           65.152
          ],
          [
           46.462
          ],
          [
           55.322
          ],
          [
           78.782
          ],
          [
           48.328
          ],
          [
           75.748
          ],
          [
           78.273
          ],
          [
           76.486
          ],
          [
           78.332
          ],
          [
           54.791
          ],
          [
           72.235
          ],
          [
           74.994
          ],
          [
           71.33800000000002
          ],
          [
           71.878
          ],
          [
           51.57899999999999
          ],
          [
           58.03999999999999
          ],
          [
           52.947
          ],
          [
           79.313
          ],
          [
           80.65699999999998
          ],
          [
           56.73500000000001
          ],
          [
           59.448
          ],
          [
           79.406
          ],
          [
           60.02199999999999
          ],
          [
           79.483
          ],
          [
           70.259
          ],
          [
           56.007
          ],
          [
           46.38800000000001
          ],
          [
           60.916
          ],
          [
           70.19800000000001
          ],
          [
           82.208
          ],
          [
           73.33800000000002
          ],
          [
           81.757
          ],
          [
           64.69800000000001
          ],
          [
           70.65
          ],
          [
           70.964
          ],
          [
           59.545
          ],
          [
           78.885
          ],
          [
           80.745
          ],
          [
           80.546
          ],
          [
           72.567
          ],
          [
           82.603
          ],
          [
           72.535
          ],
          [
           54.11
          ],
          [
           67.297
          ],
          [
           78.623
          ],
          [
           77.58800000000002
          ],
          [
           71.993
          ],
          [
           42.592
          ],
          [
           45.678
          ],
          [
           73.952
          ],
          [
           59.443000000000005
          ],
          [
           48.303
          ],
          [
           74.241
          ],
          [
           54.467
          ],
          [
           64.164
          ],
          [
           72.801
          ],
          [
           76.195
          ],
          [
           66.803
          ],
          [
           74.543
          ],
          [
           71.164
          ],
          [
           42.082
          ],
          [
           62.06900000000001
          ],
          [
           52.90600000000001
          ],
          [
           63.785
          ],
          [
           79.762
          ],
          [
           80.204
          ],
          [
           72.899
          ],
          [
           56.867
          ],
          [
           46.859
          ],
          [
           80.196
          ],
          [
           75.64
          ],
          [
           65.483
          ],
          [
           75.53699999999998
          ],
          [
           71.752
          ],
          [
           71.421
          ],
          [
           71.688
          ],
          [
           75.563
          ],
          [
           78.098
          ],
          [
           78.74600000000002
          ],
          [
           76.442
          ],
          [
           72.476
          ],
          [
           46.242
          ],
          [
           65.528
          ],
          [
           72.777
          ],
          [
           63.062
          ],
          [
           74.002
          ],
          [
           42.56800000000001
          ],
          [
           79.972
          ],
          [
           74.663
          ],
          [
           77.926
          ],
          [
           48.159
          ],
          [
           49.339
          ],
          [
           80.941
          ],
          [
           72.396
          ],
          [
           58.55599999999999
          ],
          [
           39.613
          ],
          [
           80.884
          ],
          [
           81.70100000000002
          ],
          [
           74.143
          ],
          [
           78.4
          ],
          [
           52.517
          ],
          [
           70.616
          ],
          [
           58.42
          ],
          [
           69.819
          ],
          [
           73.923
          ],
          [
           71.777
          ],
          [
           51.542
          ],
          [
           79.425
          ],
          [
           78.242
          ],
          [
           76.384
          ],
          [
           73.747
          ],
          [
           74.249
          ],
          [
           73.422
          ],
          [
           62.698
          ],
          [
           42.38399999999999
          ],
          [
           43.487
          ],
          [
           54.56441057558197
          ],
          [
           75.35668222743027
          ],
          [
           69.44386304205017
          ],
          [
           77.89057081069897
          ],
          [
           81.06215400970112
          ],
          [
           68.91909251904043
          ]
         ],
         "domain": {
          "x": [
           0,
           1
          ],
          "y": [
           0,
           1
          ]
         },
         "hovertemplate": "labels=%{label}<br>pop=%{value}<br>parent=%{parent}<br>id=%{id}<br>lifeExp=%{color}<extra></extra>",
         "ids": [
          "World/Asia/Afghanistan",
          "World/Europe/Albania",
          "World/Africa/Algeria",
          "World/Africa/Angola",
          "World/Americas/Argentina",
          "World/Oceania/Australia",
          "World/Europe/Austria",
          "World/Asia/Bahrain",
          "World/Asia/Bangladesh",
          "World/Europe/Belgium",
          "World/Africa/Benin",
          "World/Americas/Bolivia",
          "World/Europe/Bosnia and Herzegovina",
          "World/Africa/Botswana",
          "World/Americas/Brazil",
          "World/Europe/Bulgaria",
          "World/Africa/Burkina Faso",
          "World/Africa/Burundi",
          "World/Asia/Cambodia",
          "World/Africa/Cameroon",
          "World/Americas/Canada",
          "World/Africa/Central African Republic",
          "World/Africa/Chad",
          "World/Americas/Chile",
          "World/Asia/China",
          "World/Americas/Colombia",
          "World/Africa/Comoros",
          "World/Africa/Congo, Dem. Rep.",
          "World/Africa/Congo, Rep.",
          "World/Americas/Costa Rica",
          "World/Africa/Cote d'Ivoire",
          "World/Europe/Croatia",
          "World/Americas/Cuba",
          "World/Europe/Czech Republic",
          "World/Europe/Denmark",
          "World/Africa/Djibouti",
          "World/Americas/Dominican Republic",
          "World/Americas/Ecuador",
          "World/Africa/Egypt",
          "World/Americas/El Salvador",
          "World/Africa/Equatorial Guinea",
          "World/Africa/Eritrea",
          "World/Africa/Ethiopia",
          "World/Europe/Finland",
          "World/Europe/France",
          "World/Africa/Gabon",
          "World/Africa/Gambia",
          "World/Europe/Germany",
          "World/Africa/Ghana",
          "World/Europe/Greece",
          "World/Americas/Guatemala",
          "World/Africa/Guinea",
          "World/Africa/Guinea-Bissau",
          "World/Americas/Haiti",
          "World/Americas/Honduras",
          "World/Asia/Hong Kong, China",
          "World/Europe/Hungary",
          "World/Europe/Iceland",
          "World/Asia/India",
          "World/Asia/Indonesia",
          "World/Asia/Iran",
          "World/Asia/Iraq",
          "World/Europe/Ireland",
          "World/Asia/Israel",
          "World/Europe/Italy",
          "World/Americas/Jamaica",
          "World/Asia/Japan",
          "World/Asia/Jordan",
          "World/Africa/Kenya",
          "World/Asia/Korea, Dem. Rep.",
          "World/Asia/Korea, Rep.",
          "World/Asia/Kuwait",
          "World/Asia/Lebanon",
          "World/Africa/Lesotho",
          "World/Africa/Liberia",
          "World/Africa/Libya",
          "World/Africa/Madagascar",
          "World/Africa/Malawi",
          "World/Asia/Malaysia",
          "World/Africa/Mali",
          "World/Africa/Mauritania",
          "World/Africa/Mauritius",
          "World/Americas/Mexico",
          "World/Asia/Mongolia",
          "World/Europe/Montenegro",
          "World/Africa/Morocco",
          "World/Africa/Mozambique",
          "World/Asia/Myanmar",
          "World/Africa/Namibia",
          "World/Asia/Nepal",
          "World/Europe/Netherlands",
          "World/Oceania/New Zealand",
          "World/Americas/Nicaragua",
          "World/Africa/Niger",
          "World/Africa/Nigeria",
          "World/Europe/Norway",
          "World/Asia/Oman",
          "World/Asia/Pakistan",
          "World/Americas/Panama",
          "World/Americas/Paraguay",
          "World/Americas/Peru",
          "World/Asia/Philippines",
          "World/Europe/Poland",
          "World/Europe/Portugal",
          "World/Americas/Puerto Rico",
          "World/Africa/Reunion",
          "World/Europe/Romania",
          "World/Africa/Rwanda",
          "World/Africa/Sao Tome and Principe",
          "World/Asia/Saudi Arabia",
          "World/Africa/Senegal",
          "World/Europe/Serbia",
          "World/Africa/Sierra Leone",
          "World/Asia/Singapore",
          "World/Europe/Slovak Republic",
          "World/Europe/Slovenia",
          "World/Africa/Somalia",
          "World/Africa/South Africa",
          "World/Europe/Spain",
          "World/Asia/Sri Lanka",
          "World/Africa/Sudan",
          "World/Africa/Swaziland",
          "World/Europe/Sweden",
          "World/Europe/Switzerland",
          "World/Asia/Syria",
          "World/Asia/Taiwan",
          "World/Africa/Tanzania",
          "World/Asia/Thailand",
          "World/Africa/Togo",
          "World/Americas/Trinidad and Tobago",
          "World/Africa/Tunisia",
          "World/Europe/Turkey",
          "World/Africa/Uganda",
          "World/Europe/United Kingdom",
          "World/Americas/United States",
          "World/Americas/Uruguay",
          "World/Americas/Venezuela",
          "World/Asia/Vietnam",
          "World/Asia/West Bank and Gaza",
          "World/Asia/Yemen, Rep.",
          "World/Africa/Zambia",
          "World/Africa/Zimbabwe",
          "World/Africa",
          "World/Americas",
          "World/Asia",
          "World/Europe",
          "World/Oceania",
          "World"
         ],
         "labels": [
          "Afghanistan",
          "Albania",
          "Algeria",
          "Angola",
          "Argentina",
          "Australia",
          "Austria",
          "Bahrain",
          "Bangladesh",
          "Belgium",
          "Benin",
          "Bolivia",
          "Bosnia and Herzegovina",
          "Botswana",
          "Brazil",
          "Bulgaria",
          "Burkina Faso",
          "Burundi",
          "Cambodia",
          "Cameroon",
          "Canada",
          "Central African Republic",
          "Chad",
          "Chile",
          "China",
          "Colombia",
          "Comoros",
          "Congo, Dem. Rep.",
          "Congo, Rep.",
          "Costa Rica",
          "Cote d'Ivoire",
          "Croatia",
          "Cuba",
          "Czech Republic",
          "Denmark",
          "Djibouti",
          "Dominican Republic",
          "Ecuador",
          "Egypt",
          "El Salvador",
          "Equatorial Guinea",
          "Eritrea",
          "Ethiopia",
          "Finland",
          "France",
          "Gabon",
          "Gambia",
          "Germany",
          "Ghana",
          "Greece",
          "Guatemala",
          "Guinea",
          "Guinea-Bissau",
          "Haiti",
          "Honduras",
          "Hong Kong, China",
          "Hungary",
          "Iceland",
          "India",
          "Indonesia",
          "Iran",
          "Iraq",
          "Ireland",
          "Israel",
          "Italy",
          "Jamaica",
          "Japan",
          "Jordan",
          "Kenya",
          "Korea, Dem. Rep.",
          "Korea, Rep.",
          "Kuwait",
          "Lebanon",
          "Lesotho",
          "Liberia",
          "Libya",
          "Madagascar",
          "Malawi",
          "Malaysia",
          "Mali",
          "Mauritania",
          "Mauritius",
          "Mexico",
          "Mongolia",
          "Montenegro",
          "Morocco",
          "Mozambique",
          "Myanmar",
          "Namibia",
          "Nepal",
          "Netherlands",
          "New Zealand",
          "Nicaragua",
          "Niger",
          "Nigeria",
          "Norway",
          "Oman",
          "Pakistan",
          "Panama",
          "Paraguay",
          "Peru",
          "Philippines",
          "Poland",
          "Portugal",
          "Puerto Rico",
          "Reunion",
          "Romania",
          "Rwanda",
          "Sao Tome and Principe",
          "Saudi Arabia",
          "Senegal",
          "Serbia",
          "Sierra Leone",
          "Singapore",
          "Slovak Republic",
          "Slovenia",
          "Somalia",
          "South Africa",
          "Spain",
          "Sri Lanka",
          "Sudan",
          "Swaziland",
          "Sweden",
          "Switzerland",
          "Syria",
          "Taiwan",
          "Tanzania",
          "Thailand",
          "Togo",
          "Trinidad and Tobago",
          "Tunisia",
          "Turkey",
          "Uganda",
          "United Kingdom",
          "United States",
          "Uruguay",
          "Venezuela",
          "Vietnam",
          "West Bank and Gaza",
          "Yemen, Rep.",
          "Zambia",
          "Zimbabwe",
          "Africa",
          "Americas",
          "Asia",
          "Europe",
          "Oceania",
          "World"
         ],
         "marker": {
          "coloraxis": "coloraxis",
          "colors": [
           43.828,
           76.423,
           72.301,
           42.731,
           75.32,
           81.235,
           79.829,
           75.635,
           64.062,
           79.441,
           56.728,
           65.554,
           74.852,
           50.728,
           72.39,
           73.005,
           52.295,
           49.58,
           59.723,
           50.43,
           80.65300000000002,
           44.74100000000001,
           50.651,
           78.553,
           72.961,
           72.889,
           65.152,
           46.462,
           55.322,
           78.782,
           48.328,
           75.748,
           78.273,
           76.486,
           78.332,
           54.791,
           72.235,
           74.994,
           71.33800000000002,
           71.878,
           51.57899999999999,
           58.03999999999999,
           52.947,
           79.313,
           80.65699999999998,
           56.73500000000001,
           59.448,
           79.406,
           60.02199999999999,
           79.483,
           70.259,
           56.007,
           46.38800000000001,
           60.916,
           70.19800000000001,
           82.208,
           73.33800000000002,
           81.757,
           64.69800000000001,
           70.65,
           70.964,
           59.545,
           78.885,
           80.745,
           80.546,
           72.567,
           82.603,
           72.535,
           54.11,
           67.297,
           78.623,
           77.58800000000002,
           71.993,
           42.592,
           45.678,
           73.952,
           59.443000000000005,
           48.303,
           74.241,
           54.467,
           64.164,
           72.801,
           76.195,
           66.803,
           74.543,
           71.164,
           42.082,
           62.06900000000001,
           52.90600000000001,
           63.785,
           79.762,
           80.204,
           72.899,
           56.867,
           46.859,
           80.196,
           75.64,
           65.483,
           75.53699999999998,
           71.752,
           71.421,
           71.688,
           75.563,
           78.098,
           78.74600000000002,
           76.442,
           72.476,
           46.242,
           65.528,
           72.777,
           63.062,
           74.002,
           42.56800000000001,
           79.972,
           74.663,
           77.926,
           48.159,
           49.339,
           80.941,
           72.396,
           58.55599999999999,
           39.613,
           80.884,
           81.70100000000002,
           74.143,
           78.4,
           52.517,
           70.616,
           58.42,
           69.819,
           73.923,
           71.777,
           51.542,
           79.425,
           78.242,
           76.384,
           73.747,
           74.249,
           73.422,
           62.698,
           42.38399999999999,
           43.487,
           54.56441057558197,
           75.35668222743027,
           69.44386304205017,
           77.89057081069897,
           81.06215400970112,
           68.91909251904043
          ]
         },
         "name": "",
         "parents": [
          "World/Asia",
          "World/Europe",
          "World/Africa",
          "World/Africa",
          "World/Americas",
          "World/Oceania",
          "World/Europe",
          "World/Asia",
          "World/Asia",
          "World/Europe",
          "World/Africa",
          "World/Americas",
          "World/Europe",
          "World/Africa",
          "World/Americas",
          "World/Europe",
          "World/Africa",
          "World/Africa",
          "World/Asia",
          "World/Africa",
          "World/Americas",
          "World/Africa",
          "World/Africa",
          "World/Americas",
          "World/Asia",
          "World/Americas",
          "World/Africa",
          "World/Africa",
          "World/Africa",
          "World/Americas",
          "World/Africa",
          "World/Europe",
          "World/Americas",
          "World/Europe",
          "World/Europe",
          "World/Africa",
          "World/Americas",
          "World/Americas",
          "World/Africa",
          "World/Americas",
          "World/Africa",
          "World/Africa",
          "World/Africa",
          "World/Europe",
          "World/Europe",
          "World/Africa",
          "World/Africa",
          "World/Europe",
          "World/Africa",
          "World/Europe",
          "World/Americas",
          "World/Africa",
          "World/Africa",
          "World/Americas",
          "World/Americas",
          "World/Asia",
          "World/Europe",
          "World/Europe",
          "World/Asia",
          "World/Asia",
          "World/Asia",
          "World/Asia",
          "World/Europe",
          "World/Asia",
          "World/Europe",
          "World/Americas",
          "World/Asia",
          "World/Asia",
          "World/Africa",
          "World/Asia",
          "World/Asia",
          "World/Asia",
          "World/Asia",
          "World/Africa",
          "World/Africa",
          "World/Africa",
          "World/Africa",
          "World/Africa",
          "World/Asia",
          "World/Africa",
          "World/Africa",
          "World/Africa",
          "World/Americas",
          "World/Asia",
          "World/Europe",
          "World/Africa",
          "World/Africa",
          "World/Asia",
          "World/Africa",
          "World/Asia",
          "World/Europe",
          "World/Oceania",
          "World/Americas",
          "World/Africa",
          "World/Africa",
          "World/Europe",
          "World/Asia",
          "World/Asia",
          "World/Americas",
          "World/Americas",
          "World/Americas",
          "World/Asia",
          "World/Europe",
          "World/Europe",
          "World/Americas",
          "World/Africa",
          "World/Europe",
          "World/Africa",
          "World/Africa",
          "World/Asia",
          "World/Africa",
          "World/Europe",
          "World/Africa",
          "World/Asia",
          "World/Europe",
          "World/Europe",
          "World/Africa",
          "World/Africa",
          "World/Europe",
          "World/Asia",
          "World/Africa",
          "World/Africa",
          "World/Europe",
          "World/Europe",
          "World/Asia",
          "World/Asia",
          "World/Africa",
          "World/Asia",
          "World/Africa",
          "World/Americas",
          "World/Africa",
          "World/Europe",
          "World/Africa",
          "World/Europe",
          "World/Americas",
          "World/Americas",
          "World/Americas",
          "World/Asia",
          "World/Asia",
          "World/Asia",
          "World/Africa",
          "World/Africa",
          "World",
          "World",
          "World",
          "World",
          "World",
          ""
         ],
         "type": "treemap",
         "values": [
          31889923,
          3600523,
          33333216,
          12420476,
          40301927,
          20434176,
          8199783,
          708573,
          150448339,
          10392226,
          8078314,
          9119152,
          4552198,
          1639131,
          190010647,
          7322858,
          14326203,
          8390505,
          14131858,
          17696293,
          33390141,
          4369038,
          10238807,
          16284741,
          1318683096,
          44227550,
          710960,
          64606759,
          3800610,
          4133884,
          18013409,
          4493312,
          11416987,
          10228744,
          5468120,
          496374,
          9319622,
          13755680,
          80264543,
          6939688,
          551201,
          4906585,
          76511887,
          5238460,
          61083916,
          1454867,
          1688359,
          82400996,
          22873338,
          10706290,
          12572928,
          9947814,
          1472041,
          8502814,
          7483763,
          6980412,
          9956108,
          301931,
          1110396331,
          223547000,
          69453570,
          27499638,
          4109086,
          6426679,
          58147733,
          2780132,
          127467972,
          6053193,
          35610177,
          23301725,
          49044790,
          2505559,
          3921278,
          2012649,
          3193942,
          6036914,
          19167654,
          13327079,
          24821286,
          12031795,
          3270065,
          1250882,
          108700891,
          2874127,
          684736,
          33757175,
          19951656,
          47761980,
          2055080,
          28901790,
          16570613,
          4115771,
          5675356,
          12894865,
          135031164,
          4627926,
          3204897,
          169270617,
          3242173,
          6667147,
          28674757,
          91077287,
          38518241,
          10642836,
          3942491,
          798094,
          22276056,
          8860588,
          199579,
          27601038,
          12267493,
          10150265,
          6144562,
          4553009,
          5447502,
          2009245,
          9118773,
          43997828,
          40448191,
          20378239,
          42292929,
          1133066,
          9031088,
          7554661,
          19314747,
          23174294,
          38139640,
          65068149,
          5701579,
          1056608,
          10276158,
          71158647,
          29170398,
          60776238,
          301139947,
          3447496,
          26084662,
          85262356,
          4018332,
          22211743,
          11746035,
          12311143,
          929539692,
          898871184,
          3811953827,
          586098529,
          24549947,
          6251013179
         ]
        }
       ],
       "layout": {
        "coloraxis": {
         "colorbar": {
          "title": {
           "text": "lifeExp"
          }
         },
         "colorscale": [
          [
           0,
           "rgb(103,0,31)"
          ],
          [
           0.1,
           "rgb(178,24,43)"
          ],
          [
           0.2,
           "rgb(214,96,77)"
          ],
          [
           0.3,
           "rgb(244,165,130)"
          ],
          [
           0.4,
           "rgb(253,219,199)"
          ],
          [
           0.5,
           "rgb(247,247,247)"
          ],
          [
           0.6,
           "rgb(209,229,240)"
          ],
          [
           0.7,
           "rgb(146,197,222)"
          ],
          [
           0.8,
           "rgb(67,147,195)"
          ],
          [
           0.9,
           "rgb(33,102,172)"
          ],
          [
           1,
           "rgb(5,48,97)"
          ]
         ]
        },
        "legend": {
         "tracegroupgap": 0
        },
        "template": {
         "data": {
          "bar": [
           {
            "error_x": {
             "color": "#2a3f5f"
            },
            "error_y": {
             "color": "#2a3f5f"
            },
            "marker": {
             "line": {
              "color": "#E5ECF6",
              "width": 0.5
             },
             "pattern": {
              "fillmode": "overlay",
              "size": 10,
              "solidity": 0.2
             }
            },
            "type": "bar"
           }
          ],
          "barpolar": [
           {
            "marker": {
             "line": {
              "color": "#E5ECF6",
              "width": 0.5
             },
             "pattern": {
              "fillmode": "overlay",
              "size": 10,
              "solidity": 0.2
             }
            },
            "type": "barpolar"
           }
          ],
          "carpet": [
           {
            "aaxis": {
             "endlinecolor": "#2a3f5f",
             "gridcolor": "white",
             "linecolor": "white",
             "minorgridcolor": "white",
             "startlinecolor": "#2a3f5f"
            },
            "baxis": {
             "endlinecolor": "#2a3f5f",
             "gridcolor": "white",
             "linecolor": "white",
             "minorgridcolor": "white",
             "startlinecolor": "#2a3f5f"
            },
            "type": "carpet"
           }
          ],
          "choropleth": [
           {
            "colorbar": {
             "outlinewidth": 0,
             "ticks": ""
            },
            "type": "choropleth"
           }
          ],
          "contour": [
           {
            "colorbar": {
             "outlinewidth": 0,
             "ticks": ""
            },
            "colorscale": [
             [
              0,
              "#0d0887"
             ],
             [
              0.1111111111111111,
              "#46039f"
             ],
             [
              0.2222222222222222,
              "#7201a8"
             ],
             [
              0.3333333333333333,
              "#9c179e"
             ],
             [
              0.4444444444444444,
              "#bd3786"
             ],
             [
              0.5555555555555556,
              "#d8576b"
             ],
             [
              0.6666666666666666,
              "#ed7953"
             ],
             [
              0.7777777777777778,
              "#fb9f3a"
             ],
             [
              0.8888888888888888,
              "#fdca26"
             ],
             [
              1,
              "#f0f921"
             ]
            ],
            "type": "contour"
           }
          ],
          "contourcarpet": [
           {
            "colorbar": {
             "outlinewidth": 0,
             "ticks": ""
            },
            "type": "contourcarpet"
           }
          ],
          "heatmap": [
           {
            "colorbar": {
             "outlinewidth": 0,
             "ticks": ""
            },
            "colorscale": [
             [
              0,
              "#0d0887"
             ],
             [
              0.1111111111111111,
              "#46039f"
             ],
             [
              0.2222222222222222,
              "#7201a8"
             ],
             [
              0.3333333333333333,
              "#9c179e"
             ],
             [
              0.4444444444444444,
              "#bd3786"
             ],
             [
              0.5555555555555556,
              "#d8576b"
             ],
             [
              0.6666666666666666,
              "#ed7953"
             ],
             [
              0.7777777777777778,
              "#fb9f3a"
             ],
             [
              0.8888888888888888,
              "#fdca26"
             ],
             [
              1,
              "#f0f921"
             ]
            ],
            "type": "heatmap"
           }
          ],
          "heatmapgl": [
           {
            "colorbar": {
             "outlinewidth": 0,
             "ticks": ""
            },
            "colorscale": [
             [
              0,
              "#0d0887"
             ],
             [
              0.1111111111111111,
              "#46039f"
             ],
             [
              0.2222222222222222,
              "#7201a8"
             ],
             [
              0.3333333333333333,
              "#9c179e"
             ],
             [
              0.4444444444444444,
              "#bd3786"
             ],
             [
              0.5555555555555556,
              "#d8576b"
             ],
             [
              0.6666666666666666,
              "#ed7953"
             ],
             [
              0.7777777777777778,
              "#fb9f3a"
             ],
             [
              0.8888888888888888,
              "#fdca26"
             ],
             [
              1,
              "#f0f921"
             ]
            ],
            "type": "heatmapgl"
           }
          ],
          "histogram": [
           {
            "marker": {
             "pattern": {
              "fillmode": "overlay",
              "size": 10,
              "solidity": 0.2
             }
            },
            "type": "histogram"
           }
          ],
          "histogram2d": [
           {
            "colorbar": {
             "outlinewidth": 0,
             "ticks": ""
            },
            "colorscale": [
             [
              0,
              "#0d0887"
             ],
             [
              0.1111111111111111,
              "#46039f"
             ],
             [
              0.2222222222222222,
              "#7201a8"
             ],
             [
              0.3333333333333333,
              "#9c179e"
             ],
             [
              0.4444444444444444,
              "#bd3786"
             ],
             [
              0.5555555555555556,
              "#d8576b"
             ],
             [
              0.6666666666666666,
              "#ed7953"
             ],
             [
              0.7777777777777778,
              "#fb9f3a"
             ],
             [
              0.8888888888888888,
              "#fdca26"
             ],
             [
              1,
              "#f0f921"
             ]
            ],
            "type": "histogram2d"
           }
          ],
          "histogram2dcontour": [
           {
            "colorbar": {
             "outlinewidth": 0,
             "ticks": ""
            },
            "colorscale": [
             [
              0,
              "#0d0887"
             ],
             [
              0.1111111111111111,
              "#46039f"
             ],
             [
              0.2222222222222222,
              "#7201a8"
             ],
             [
              0.3333333333333333,
              "#9c179e"
             ],
             [
              0.4444444444444444,
              "#bd3786"
             ],
             [
              0.5555555555555556,
              "#d8576b"
             ],
             [
              0.6666666666666666,
              "#ed7953"
             ],
             [
              0.7777777777777778,
              "#fb9f3a"
             ],
             [
              0.8888888888888888,
              "#fdca26"
             ],
             [
              1,
              "#f0f921"
             ]
            ],
            "type": "histogram2dcontour"
           }
          ],
          "mesh3d": [
           {
            "colorbar": {
             "outlinewidth": 0,
             "ticks": ""
            },
            "type": "mesh3d"
           }
          ],
          "parcoords": [
           {
            "line": {
             "colorbar": {
              "outlinewidth": 0,
              "ticks": ""
             }
            },
            "type": "parcoords"
           }
          ],
          "pie": [
           {
            "automargin": true,
            "type": "pie"
           }
          ],
          "scatter": [
           {
            "fillpattern": {
             "fillmode": "overlay",
             "size": 10,
             "solidity": 0.2
            },
            "type": "scatter"
           }
          ],
          "scatter3d": [
           {
            "line": {
             "colorbar": {
              "outlinewidth": 0,
              "ticks": ""
             }
            },
            "marker": {
             "colorbar": {
              "outlinewidth": 0,
              "ticks": ""
             }
            },
            "type": "scatter3d"
           }
          ],
          "scattercarpet": [
           {
            "marker": {
             "colorbar": {
              "outlinewidth": 0,
              "ticks": ""
             }
            },
            "type": "scattercarpet"
           }
          ],
          "scattergeo": [
           {
            "marker": {
             "colorbar": {
              "outlinewidth": 0,
              "ticks": ""
             }
            },
            "type": "scattergeo"
           }
          ],
          "scattergl": [
           {
            "marker": {
             "colorbar": {
              "outlinewidth": 0,
              "ticks": ""
             }
            },
            "type": "scattergl"
           }
          ],
          "scattermapbox": [
           {
            "marker": {
             "colorbar": {
              "outlinewidth": 0,
              "ticks": ""
             }
            },
            "type": "scattermapbox"
           }
          ],
          "scatterpolar": [
           {
            "marker": {
             "colorbar": {
              "outlinewidth": 0,
              "ticks": ""
             }
            },
            "type": "scatterpolar"
           }
          ],
          "scatterpolargl": [
           {
            "marker": {
             "colorbar": {
              "outlinewidth": 0,
              "ticks": ""
             }
            },
            "type": "scatterpolargl"
           }
          ],
          "scatterternary": [
           {
            "marker": {
             "colorbar": {
              "outlinewidth": 0,
              "ticks": ""
             }
            },
            "type": "scatterternary"
           }
          ],
          "surface": [
           {
            "colorbar": {
             "outlinewidth": 0,
             "ticks": ""
            },
            "colorscale": [
             [
              0,
              "#0d0887"
             ],
             [
              0.1111111111111111,
              "#46039f"
             ],
             [
              0.2222222222222222,
              "#7201a8"
             ],
             [
              0.3333333333333333,
              "#9c179e"
             ],
             [
              0.4444444444444444,
              "#bd3786"
             ],
             [
              0.5555555555555556,
              "#d8576b"
             ],
             [
              0.6666666666666666,
              "#ed7953"
             ],
             [
              0.7777777777777778,
              "#fb9f3a"
             ],
             [
              0.8888888888888888,
              "#fdca26"
             ],
             [
              1,
              "#f0f921"
             ]
            ],
            "type": "surface"
           }
          ],
          "table": [
           {
            "cells": {
             "fill": {
              "color": "#EBF0F8"
             },
             "line": {
              "color": "white"
             }
            },
            "header": {
             "fill": {
              "color": "#C8D4E3"
             },
             "line": {
              "color": "white"
             }
            },
            "type": "table"
           }
          ]
         },
         "layout": {
          "annotationdefaults": {
           "arrowcolor": "#2a3f5f",
           "arrowhead": 0,
           "arrowwidth": 1
          },
          "autotypenumbers": "strict",
          "coloraxis": {
           "colorbar": {
            "outlinewidth": 0,
            "ticks": ""
           }
          },
          "colorscale": {
           "diverging": [
            [
             0,
             "#8e0152"
            ],
            [
             0.1,
             "#c51b7d"
            ],
            [
             0.2,
             "#de77ae"
            ],
            [
             0.3,
             "#f1b6da"
            ],
            [
             0.4,
             "#fde0ef"
            ],
            [
             0.5,
             "#f7f7f7"
            ],
            [
             0.6,
             "#e6f5d0"
            ],
            [
             0.7,
             "#b8e186"
            ],
            [
             0.8,
             "#7fbc41"
            ],
            [
             0.9,
             "#4d9221"
            ],
            [
             1,
             "#276419"
            ]
           ],
           "sequential": [
            [
             0,
             "#0d0887"
            ],
            [
             0.1111111111111111,
             "#46039f"
            ],
            [
             0.2222222222222222,
             "#7201a8"
            ],
            [
             0.3333333333333333,
             "#9c179e"
            ],
            [
             0.4444444444444444,
             "#bd3786"
            ],
            [
             0.5555555555555556,
             "#d8576b"
            ],
            [
             0.6666666666666666,
             "#ed7953"
            ],
            [
             0.7777777777777778,
             "#fb9f3a"
            ],
            [
             0.8888888888888888,
             "#fdca26"
            ],
            [
             1,
             "#f0f921"
            ]
           ],
           "sequentialminus": [
            [
             0,
             "#0d0887"
            ],
            [
             0.1111111111111111,
             "#46039f"
            ],
            [
             0.2222222222222222,
             "#7201a8"
            ],
            [
             0.3333333333333333,
             "#9c179e"
            ],
            [
             0.4444444444444444,
             "#bd3786"
            ],
            [
             0.5555555555555556,
             "#d8576b"
            ],
            [
             0.6666666666666666,
             "#ed7953"
            ],
            [
             0.7777777777777778,
             "#fb9f3a"
            ],
            [
             0.8888888888888888,
             "#fdca26"
            ],
            [
             1,
             "#f0f921"
            ]
           ]
          },
          "colorway": [
           "#636efa",
           "#EF553B",
           "#00cc96",
           "#ab63fa",
           "#FFA15A",
           "#19d3f3",
           "#FF6692",
           "#B6E880",
           "#FF97FF",
           "#FECB52"
          ],
          "font": {
           "color": "#2a3f5f"
          },
          "geo": {
           "bgcolor": "white",
           "lakecolor": "white",
           "landcolor": "#E5ECF6",
           "showlakes": true,
           "showland": true,
           "subunitcolor": "white"
          },
          "hoverlabel": {
           "align": "left"
          },
          "hovermode": "closest",
          "mapbox": {
           "style": "light"
          },
          "paper_bgcolor": "white",
          "plot_bgcolor": "#E5ECF6",
          "polar": {
           "angularaxis": {
            "gridcolor": "white",
            "linecolor": "white",
            "ticks": ""
           },
           "bgcolor": "#E5ECF6",
           "radialaxis": {
            "gridcolor": "white",
            "linecolor": "white",
            "ticks": ""
           }
          },
          "scene": {
           "xaxis": {
            "backgroundcolor": "#E5ECF6",
            "gridcolor": "white",
            "gridwidth": 2,
            "linecolor": "white",
            "showbackground": true,
            "ticks": "",
            "zerolinecolor": "white"
           },
           "yaxis": {
            "backgroundcolor": "#E5ECF6",
            "gridcolor": "white",
            "gridwidth": 2,
            "linecolor": "white",
            "showbackground": true,
            "ticks": "",
            "zerolinecolor": "white"
           },
           "zaxis": {
            "backgroundcolor": "#E5ECF6",
            "gridcolor": "white",
            "gridwidth": 2,
            "linecolor": "white",
            "showbackground": true,
            "ticks": "",
            "zerolinecolor": "white"
           }
          },
          "shapedefaults": {
           "line": {
            "color": "#2a3f5f"
           }
          },
          "ternary": {
           "aaxis": {
            "gridcolor": "white",
            "linecolor": "white",
            "ticks": ""
           },
           "baxis": {
            "gridcolor": "white",
            "linecolor": "white",
            "ticks": ""
           },
           "bgcolor": "#E5ECF6",
           "caxis": {
            "gridcolor": "white",
            "linecolor": "white",
            "ticks": ""
           }
          },
          "title": {
           "x": 0.05
          },
          "xaxis": {
           "automargin": true,
           "gridcolor": "white",
           "linecolor": "white",
           "ticks": "",
           "title": {
            "standoff": 15
           },
           "zerolinecolor": "white",
           "zerolinewidth": 2
          },
          "yaxis": {
           "automargin": true,
           "gridcolor": "white",
           "linecolor": "white",
           "ticks": "",
           "title": {
            "standoff": 15
           },
           "zerolinecolor": "white",
           "zerolinewidth": 2
          }
         }
        },
        "title": {
         "text": "2007 Dünya Nüfusu ve Yaşam Süresi"
        }
       }
      },
      "text/html": [
       "<div>                            <div id=\"d76a6458-a46c-42ea-8079-d7bce8d4125f\" class=\"plotly-graph-div\" style=\"height:525px; width:100%;\"></div>            <script type=\"text/javascript\">                require([\"plotly\"], function(Plotly) {                    window.PLOTLYENV=window.PLOTLYENV || {};                                    if (document.getElementById(\"d76a6458-a46c-42ea-8079-d7bce8d4125f\")) {                    Plotly.newPlot(                        \"d76a6458-a46c-42ea-8079-d7bce8d4125f\",                        [{\"branchvalues\":\"total\",\"customdata\":[[43.828],[76.423],[72.301],[42.731],[75.32],[81.235],[79.829],[75.635],[64.062],[79.441],[56.728],[65.554],[74.852],[50.728],[72.39],[73.005],[52.295],[49.58],[59.723],[50.43],[80.65300000000002],[44.74100000000001],[50.651],[78.553],[72.961],[72.889],[65.152],[46.462],[55.322],[78.782],[48.328],[75.748],[78.273],[76.486],[78.332],[54.791],[72.235],[74.994],[71.33800000000002],[71.878],[51.57899999999999],[58.03999999999999],[52.947],[79.313],[80.65699999999998],[56.73500000000001],[59.448],[79.406],[60.02199999999999],[79.483],[70.259],[56.007],[46.38800000000001],[60.916],[70.19800000000001],[82.208],[73.33800000000002],[81.757],[64.69800000000001],[70.65],[70.964],[59.545],[78.885],[80.745],[80.546],[72.567],[82.603],[72.535],[54.11],[67.297],[78.623],[77.58800000000002],[71.993],[42.592],[45.678],[73.952],[59.443000000000005],[48.303],[74.241],[54.467],[64.164],[72.801],[76.195],[66.803],[74.543],[71.164],[42.082],[62.06900000000001],[52.90600000000001],[63.785],[79.762],[80.204],[72.899],[56.867],[46.859],[80.196],[75.64],[65.483],[75.53699999999998],[71.752],[71.421],[71.688],[75.563],[78.098],[78.74600000000002],[76.442],[72.476],[46.242],[65.528],[72.777],[63.062],[74.002],[42.56800000000001],[79.972],[74.663],[77.926],[48.159],[49.339],[80.941],[72.396],[58.55599999999999],[39.613],[80.884],[81.70100000000002],[74.143],[78.4],[52.517],[70.616],[58.42],[69.819],[73.923],[71.777],[51.542],[79.425],[78.242],[76.384],[73.747],[74.249],[73.422],[62.698],[42.38399999999999],[43.487],[54.56441057558197],[75.35668222743027],[69.44386304205017],[77.89057081069897],[81.06215400970112],[68.91909251904043]],\"domain\":{\"x\":[0.0,1.0],\"y\":[0.0,1.0]},\"hovertemplate\":\"labels=%{label}<br>pop=%{value}<br>parent=%{parent}<br>id=%{id}<br>lifeExp=%{color}<extra></extra>\",\"ids\":[\"World/Asia/Afghanistan\",\"World/Europe/Albania\",\"World/Africa/Algeria\",\"World/Africa/Angola\",\"World/Americas/Argentina\",\"World/Oceania/Australia\",\"World/Europe/Austria\",\"World/Asia/Bahrain\",\"World/Asia/Bangladesh\",\"World/Europe/Belgium\",\"World/Africa/Benin\",\"World/Americas/Bolivia\",\"World/Europe/Bosnia and Herzegovina\",\"World/Africa/Botswana\",\"World/Americas/Brazil\",\"World/Europe/Bulgaria\",\"World/Africa/Burkina Faso\",\"World/Africa/Burundi\",\"World/Asia/Cambodia\",\"World/Africa/Cameroon\",\"World/Americas/Canada\",\"World/Africa/Central African Republic\",\"World/Africa/Chad\",\"World/Americas/Chile\",\"World/Asia/China\",\"World/Americas/Colombia\",\"World/Africa/Comoros\",\"World/Africa/Congo, Dem. Rep.\",\"World/Africa/Congo, Rep.\",\"World/Americas/Costa Rica\",\"World/Africa/Cote d'Ivoire\",\"World/Europe/Croatia\",\"World/Americas/Cuba\",\"World/Europe/Czech Republic\",\"World/Europe/Denmark\",\"World/Africa/Djibouti\",\"World/Americas/Dominican Republic\",\"World/Americas/Ecuador\",\"World/Africa/Egypt\",\"World/Americas/El Salvador\",\"World/Africa/Equatorial Guinea\",\"World/Africa/Eritrea\",\"World/Africa/Ethiopia\",\"World/Europe/Finland\",\"World/Europe/France\",\"World/Africa/Gabon\",\"World/Africa/Gambia\",\"World/Europe/Germany\",\"World/Africa/Ghana\",\"World/Europe/Greece\",\"World/Americas/Guatemala\",\"World/Africa/Guinea\",\"World/Africa/Guinea-Bissau\",\"World/Americas/Haiti\",\"World/Americas/Honduras\",\"World/Asia/Hong Kong, China\",\"World/Europe/Hungary\",\"World/Europe/Iceland\",\"World/Asia/India\",\"World/Asia/Indonesia\",\"World/Asia/Iran\",\"World/Asia/Iraq\",\"World/Europe/Ireland\",\"World/Asia/Israel\",\"World/Europe/Italy\",\"World/Americas/Jamaica\",\"World/Asia/Japan\",\"World/Asia/Jordan\",\"World/Africa/Kenya\",\"World/Asia/Korea, Dem. Rep.\",\"World/Asia/Korea, Rep.\",\"World/Asia/Kuwait\",\"World/Asia/Lebanon\",\"World/Africa/Lesotho\",\"World/Africa/Liberia\",\"World/Africa/Libya\",\"World/Africa/Madagascar\",\"World/Africa/Malawi\",\"World/Asia/Malaysia\",\"World/Africa/Mali\",\"World/Africa/Mauritania\",\"World/Africa/Mauritius\",\"World/Americas/Mexico\",\"World/Asia/Mongolia\",\"World/Europe/Montenegro\",\"World/Africa/Morocco\",\"World/Africa/Mozambique\",\"World/Asia/Myanmar\",\"World/Africa/Namibia\",\"World/Asia/Nepal\",\"World/Europe/Netherlands\",\"World/Oceania/New Zealand\",\"World/Americas/Nicaragua\",\"World/Africa/Niger\",\"World/Africa/Nigeria\",\"World/Europe/Norway\",\"World/Asia/Oman\",\"World/Asia/Pakistan\",\"World/Americas/Panama\",\"World/Americas/Paraguay\",\"World/Americas/Peru\",\"World/Asia/Philippines\",\"World/Europe/Poland\",\"World/Europe/Portugal\",\"World/Americas/Puerto Rico\",\"World/Africa/Reunion\",\"World/Europe/Romania\",\"World/Africa/Rwanda\",\"World/Africa/Sao Tome and Principe\",\"World/Asia/Saudi Arabia\",\"World/Africa/Senegal\",\"World/Europe/Serbia\",\"World/Africa/Sierra Leone\",\"World/Asia/Singapore\",\"World/Europe/Slovak Republic\",\"World/Europe/Slovenia\",\"World/Africa/Somalia\",\"World/Africa/South Africa\",\"World/Europe/Spain\",\"World/Asia/Sri Lanka\",\"World/Africa/Sudan\",\"World/Africa/Swaziland\",\"World/Europe/Sweden\",\"World/Europe/Switzerland\",\"World/Asia/Syria\",\"World/Asia/Taiwan\",\"World/Africa/Tanzania\",\"World/Asia/Thailand\",\"World/Africa/Togo\",\"World/Americas/Trinidad and Tobago\",\"World/Africa/Tunisia\",\"World/Europe/Turkey\",\"World/Africa/Uganda\",\"World/Europe/United Kingdom\",\"World/Americas/United States\",\"World/Americas/Uruguay\",\"World/Americas/Venezuela\",\"World/Asia/Vietnam\",\"World/Asia/West Bank and Gaza\",\"World/Asia/Yemen, Rep.\",\"World/Africa/Zambia\",\"World/Africa/Zimbabwe\",\"World/Africa\",\"World/Americas\",\"World/Asia\",\"World/Europe\",\"World/Oceania\",\"World\"],\"labels\":[\"Afghanistan\",\"Albania\",\"Algeria\",\"Angola\",\"Argentina\",\"Australia\",\"Austria\",\"Bahrain\",\"Bangladesh\",\"Belgium\",\"Benin\",\"Bolivia\",\"Bosnia and Herzegovina\",\"Botswana\",\"Brazil\",\"Bulgaria\",\"Burkina Faso\",\"Burundi\",\"Cambodia\",\"Cameroon\",\"Canada\",\"Central African Republic\",\"Chad\",\"Chile\",\"China\",\"Colombia\",\"Comoros\",\"Congo, Dem. Rep.\",\"Congo, Rep.\",\"Costa Rica\",\"Cote d'Ivoire\",\"Croatia\",\"Cuba\",\"Czech Republic\",\"Denmark\",\"Djibouti\",\"Dominican Republic\",\"Ecuador\",\"Egypt\",\"El Salvador\",\"Equatorial Guinea\",\"Eritrea\",\"Ethiopia\",\"Finland\",\"France\",\"Gabon\",\"Gambia\",\"Germany\",\"Ghana\",\"Greece\",\"Guatemala\",\"Guinea\",\"Guinea-Bissau\",\"Haiti\",\"Honduras\",\"Hong Kong, China\",\"Hungary\",\"Iceland\",\"India\",\"Indonesia\",\"Iran\",\"Iraq\",\"Ireland\",\"Israel\",\"Italy\",\"Jamaica\",\"Japan\",\"Jordan\",\"Kenya\",\"Korea, Dem. Rep.\",\"Korea, Rep.\",\"Kuwait\",\"Lebanon\",\"Lesotho\",\"Liberia\",\"Libya\",\"Madagascar\",\"Malawi\",\"Malaysia\",\"Mali\",\"Mauritania\",\"Mauritius\",\"Mexico\",\"Mongolia\",\"Montenegro\",\"Morocco\",\"Mozambique\",\"Myanmar\",\"Namibia\",\"Nepal\",\"Netherlands\",\"New Zealand\",\"Nicaragua\",\"Niger\",\"Nigeria\",\"Norway\",\"Oman\",\"Pakistan\",\"Panama\",\"Paraguay\",\"Peru\",\"Philippines\",\"Poland\",\"Portugal\",\"Puerto Rico\",\"Reunion\",\"Romania\",\"Rwanda\",\"Sao Tome and Principe\",\"Saudi Arabia\",\"Senegal\",\"Serbia\",\"Sierra Leone\",\"Singapore\",\"Slovak Republic\",\"Slovenia\",\"Somalia\",\"South Africa\",\"Spain\",\"Sri Lanka\",\"Sudan\",\"Swaziland\",\"Sweden\",\"Switzerland\",\"Syria\",\"Taiwan\",\"Tanzania\",\"Thailand\",\"Togo\",\"Trinidad and Tobago\",\"Tunisia\",\"Turkey\",\"Uganda\",\"United Kingdom\",\"United States\",\"Uruguay\",\"Venezuela\",\"Vietnam\",\"West Bank and Gaza\",\"Yemen, Rep.\",\"Zambia\",\"Zimbabwe\",\"Africa\",\"Americas\",\"Asia\",\"Europe\",\"Oceania\",\"World\"],\"marker\":{\"coloraxis\":\"coloraxis\",\"colors\":[43.828,76.423,72.301,42.731,75.32,81.235,79.829,75.635,64.062,79.441,56.728,65.554,74.852,50.728,72.39,73.005,52.295,49.58,59.723,50.43,80.65300000000002,44.74100000000001,50.651,78.553,72.961,72.889,65.152,46.462,55.322,78.782,48.328,75.748,78.273,76.486,78.332,54.791,72.235,74.994,71.33800000000002,71.878,51.57899999999999,58.03999999999999,52.947,79.313,80.65699999999998,56.73500000000001,59.448,79.406,60.02199999999999,79.483,70.259,56.007,46.38800000000001,60.916,70.19800000000001,82.208,73.33800000000002,81.757,64.69800000000001,70.65,70.964,59.545,78.885,80.745,80.546,72.567,82.603,72.535,54.11,67.297,78.623,77.58800000000002,71.993,42.592,45.678,73.952,59.443000000000005,48.303,74.241,54.467,64.164,72.801,76.195,66.803,74.543,71.164,42.082,62.06900000000001,52.90600000000001,63.785,79.762,80.204,72.899,56.867,46.859,80.196,75.64,65.483,75.53699999999998,71.752,71.421,71.688,75.563,78.098,78.74600000000002,76.442,72.476,46.242,65.528,72.777,63.062,74.002,42.56800000000001,79.972,74.663,77.926,48.159,49.339,80.941,72.396,58.55599999999999,39.613,80.884,81.70100000000002,74.143,78.4,52.517,70.616,58.42,69.819,73.923,71.777,51.542,79.425,78.242,76.384,73.747,74.249,73.422,62.698,42.38399999999999,43.487,54.56441057558197,75.35668222743027,69.44386304205017,77.89057081069897,81.06215400970112,68.91909251904043]},\"name\":\"\",\"parents\":[\"World/Asia\",\"World/Europe\",\"World/Africa\",\"World/Africa\",\"World/Americas\",\"World/Oceania\",\"World/Europe\",\"World/Asia\",\"World/Asia\",\"World/Europe\",\"World/Africa\",\"World/Americas\",\"World/Europe\",\"World/Africa\",\"World/Americas\",\"World/Europe\",\"World/Africa\",\"World/Africa\",\"World/Asia\",\"World/Africa\",\"World/Americas\",\"World/Africa\",\"World/Africa\",\"World/Americas\",\"World/Asia\",\"World/Americas\",\"World/Africa\",\"World/Africa\",\"World/Africa\",\"World/Americas\",\"World/Africa\",\"World/Europe\",\"World/Americas\",\"World/Europe\",\"World/Europe\",\"World/Africa\",\"World/Americas\",\"World/Americas\",\"World/Africa\",\"World/Americas\",\"World/Africa\",\"World/Africa\",\"World/Africa\",\"World/Europe\",\"World/Europe\",\"World/Africa\",\"World/Africa\",\"World/Europe\",\"World/Africa\",\"World/Europe\",\"World/Americas\",\"World/Africa\",\"World/Africa\",\"World/Americas\",\"World/Americas\",\"World/Asia\",\"World/Europe\",\"World/Europe\",\"World/Asia\",\"World/Asia\",\"World/Asia\",\"World/Asia\",\"World/Europe\",\"World/Asia\",\"World/Europe\",\"World/Americas\",\"World/Asia\",\"World/Asia\",\"World/Africa\",\"World/Asia\",\"World/Asia\",\"World/Asia\",\"World/Asia\",\"World/Africa\",\"World/Africa\",\"World/Africa\",\"World/Africa\",\"World/Africa\",\"World/Asia\",\"World/Africa\",\"World/Africa\",\"World/Africa\",\"World/Americas\",\"World/Asia\",\"World/Europe\",\"World/Africa\",\"World/Africa\",\"World/Asia\",\"World/Africa\",\"World/Asia\",\"World/Europe\",\"World/Oceania\",\"World/Americas\",\"World/Africa\",\"World/Africa\",\"World/Europe\",\"World/Asia\",\"World/Asia\",\"World/Americas\",\"World/Americas\",\"World/Americas\",\"World/Asia\",\"World/Europe\",\"World/Europe\",\"World/Americas\",\"World/Africa\",\"World/Europe\",\"World/Africa\",\"World/Africa\",\"World/Asia\",\"World/Africa\",\"World/Europe\",\"World/Africa\",\"World/Asia\",\"World/Europe\",\"World/Europe\",\"World/Africa\",\"World/Africa\",\"World/Europe\",\"World/Asia\",\"World/Africa\",\"World/Africa\",\"World/Europe\",\"World/Europe\",\"World/Asia\",\"World/Asia\",\"World/Africa\",\"World/Asia\",\"World/Africa\",\"World/Americas\",\"World/Africa\",\"World/Europe\",\"World/Africa\",\"World/Europe\",\"World/Americas\",\"World/Americas\",\"World/Americas\",\"World/Asia\",\"World/Asia\",\"World/Asia\",\"World/Africa\",\"World/Africa\",\"World\",\"World\",\"World\",\"World\",\"World\",\"\"],\"values\":[31889923,3600523,33333216,12420476,40301927,20434176,8199783,708573,150448339,10392226,8078314,9119152,4552198,1639131,190010647,7322858,14326203,8390505,14131858,17696293,33390141,4369038,10238807,16284741,1318683096,44227550,710960,64606759,3800610,4133884,18013409,4493312,11416987,10228744,5468120,496374,9319622,13755680,80264543,6939688,551201,4906585,76511887,5238460,61083916,1454867,1688359,82400996,22873338,10706290,12572928,9947814,1472041,8502814,7483763,6980412,9956108,301931,1110396331,223547000,69453570,27499638,4109086,6426679,58147733,2780132,127467972,6053193,35610177,23301725,49044790,2505559,3921278,2012649,3193942,6036914,19167654,13327079,24821286,12031795,3270065,1250882,108700891,2874127,684736,33757175,19951656,47761980,2055080,28901790,16570613,4115771,5675356,12894865,135031164,4627926,3204897,169270617,3242173,6667147,28674757,91077287,38518241,10642836,3942491,798094,22276056,8860588,199579,27601038,12267493,10150265,6144562,4553009,5447502,2009245,9118773,43997828,40448191,20378239,42292929,1133066,9031088,7554661,19314747,23174294,38139640,65068149,5701579,1056608,10276158,71158647,29170398,60776238,301139947,3447496,26084662,85262356,4018332,22211743,11746035,12311143,929539692,898871184,3811953827,586098529,24549947,6251013179],\"type\":\"treemap\"}],                        {\"template\":{\"data\":{\"histogram2dcontour\":[{\"type\":\"histogram2dcontour\",\"colorbar\":{\"outlinewidth\":0,\"ticks\":\"\"},\"colorscale\":[[0.0,\"#0d0887\"],[0.1111111111111111,\"#46039f\"],[0.2222222222222222,\"#7201a8\"],[0.3333333333333333,\"#9c179e\"],[0.4444444444444444,\"#bd3786\"],[0.5555555555555556,\"#d8576b\"],[0.6666666666666666,\"#ed7953\"],[0.7777777777777778,\"#fb9f3a\"],[0.8888888888888888,\"#fdca26\"],[1.0,\"#f0f921\"]]}],\"choropleth\":[{\"type\":\"choropleth\",\"colorbar\":{\"outlinewidth\":0,\"ticks\":\"\"}}],\"histogram2d\":[{\"type\":\"histogram2d\",\"colorbar\":{\"outlinewidth\":0,\"ticks\":\"\"},\"colorscale\":[[0.0,\"#0d0887\"],[0.1111111111111111,\"#46039f\"],[0.2222222222222222,\"#7201a8\"],[0.3333333333333333,\"#9c179e\"],[0.4444444444444444,\"#bd3786\"],[0.5555555555555556,\"#d8576b\"],[0.6666666666666666,\"#ed7953\"],[0.7777777777777778,\"#fb9f3a\"],[0.8888888888888888,\"#fdca26\"],[1.0,\"#f0f921\"]]}],\"heatmap\":[{\"type\":\"heatmap\",\"colorbar\":{\"outlinewidth\":0,\"ticks\":\"\"},\"colorscale\":[[0.0,\"#0d0887\"],[0.1111111111111111,\"#46039f\"],[0.2222222222222222,\"#7201a8\"],[0.3333333333333333,\"#9c179e\"],[0.4444444444444444,\"#bd3786\"],[0.5555555555555556,\"#d8576b\"],[0.6666666666666666,\"#ed7953\"],[0.7777777777777778,\"#fb9f3a\"],[0.8888888888888888,\"#fdca26\"],[1.0,\"#f0f921\"]]}],\"heatmapgl\":[{\"type\":\"heatmapgl\",\"colorbar\":{\"outlinewidth\":0,\"ticks\":\"\"},\"colorscale\":[[0.0,\"#0d0887\"],[0.1111111111111111,\"#46039f\"],[0.2222222222222222,\"#7201a8\"],[0.3333333333333333,\"#9c179e\"],[0.4444444444444444,\"#bd3786\"],[0.5555555555555556,\"#d8576b\"],[0.6666666666666666,\"#ed7953\"],[0.7777777777777778,\"#fb9f3a\"],[0.8888888888888888,\"#fdca26\"],[1.0,\"#f0f921\"]]}],\"contourcarpet\":[{\"type\":\"contourcarpet\",\"colorbar\":{\"outlinewidth\":0,\"ticks\":\"\"}}],\"contour\":[{\"type\":\"contour\",\"colorbar\":{\"outlinewidth\":0,\"ticks\":\"\"},\"colorscale\":[[0.0,\"#0d0887\"],[0.1111111111111111,\"#46039f\"],[0.2222222222222222,\"#7201a8\"],[0.3333333333333333,\"#9c179e\"],[0.4444444444444444,\"#bd3786\"],[0.5555555555555556,\"#d8576b\"],[0.6666666666666666,\"#ed7953\"],[0.7777777777777778,\"#fb9f3a\"],[0.8888888888888888,\"#fdca26\"],[1.0,\"#f0f921\"]]}],\"surface\":[{\"type\":\"surface\",\"colorbar\":{\"outlinewidth\":0,\"ticks\":\"\"},\"colorscale\":[[0.0,\"#0d0887\"],[0.1111111111111111,\"#46039f\"],[0.2222222222222222,\"#7201a8\"],[0.3333333333333333,\"#9c179e\"],[0.4444444444444444,\"#bd3786\"],[0.5555555555555556,\"#d8576b\"],[0.6666666666666666,\"#ed7953\"],[0.7777777777777778,\"#fb9f3a\"],[0.8888888888888888,\"#fdca26\"],[1.0,\"#f0f921\"]]}],\"mesh3d\":[{\"type\":\"mesh3d\",\"colorbar\":{\"outlinewidth\":0,\"ticks\":\"\"}}],\"scatter\":[{\"fillpattern\":{\"fillmode\":\"overlay\",\"size\":10,\"solidity\":0.2},\"type\":\"scatter\"}],\"parcoords\":[{\"type\":\"parcoords\",\"line\":{\"colorbar\":{\"outlinewidth\":0,\"ticks\":\"\"}}}],\"scatterpolargl\":[{\"type\":\"scatterpolargl\",\"marker\":{\"colorbar\":{\"outlinewidth\":0,\"ticks\":\"\"}}}],\"bar\":[{\"error_x\":{\"color\":\"#2a3f5f\"},\"error_y\":{\"color\":\"#2a3f5f\"},\"marker\":{\"line\":{\"color\":\"#E5ECF6\",\"width\":0.5},\"pattern\":{\"fillmode\":\"overlay\",\"size\":10,\"solidity\":0.2}},\"type\":\"bar\"}],\"scattergeo\":[{\"type\":\"scattergeo\",\"marker\":{\"colorbar\":{\"outlinewidth\":0,\"ticks\":\"\"}}}],\"scatterpolar\":[{\"type\":\"scatterpolar\",\"marker\":{\"colorbar\":{\"outlinewidth\":0,\"ticks\":\"\"}}}],\"histogram\":[{\"marker\":{\"pattern\":{\"fillmode\":\"overlay\",\"size\":10,\"solidity\":0.2}},\"type\":\"histogram\"}],\"scattergl\":[{\"type\":\"scattergl\",\"marker\":{\"colorbar\":{\"outlinewidth\":0,\"ticks\":\"\"}}}],\"scatter3d\":[{\"type\":\"scatter3d\",\"line\":{\"colorbar\":{\"outlinewidth\":0,\"ticks\":\"\"}},\"marker\":{\"colorbar\":{\"outlinewidth\":0,\"ticks\":\"\"}}}],\"scattermapbox\":[{\"type\":\"scattermapbox\",\"marker\":{\"colorbar\":{\"outlinewidth\":0,\"ticks\":\"\"}}}],\"scatterternary\":[{\"type\":\"scatterternary\",\"marker\":{\"colorbar\":{\"outlinewidth\":0,\"ticks\":\"\"}}}],\"scattercarpet\":[{\"type\":\"scattercarpet\",\"marker\":{\"colorbar\":{\"outlinewidth\":0,\"ticks\":\"\"}}}],\"carpet\":[{\"aaxis\":{\"endlinecolor\":\"#2a3f5f\",\"gridcolor\":\"white\",\"linecolor\":\"white\",\"minorgridcolor\":\"white\",\"startlinecolor\":\"#2a3f5f\"},\"baxis\":{\"endlinecolor\":\"#2a3f5f\",\"gridcolor\":\"white\",\"linecolor\":\"white\",\"minorgridcolor\":\"white\",\"startlinecolor\":\"#2a3f5f\"},\"type\":\"carpet\"}],\"table\":[{\"cells\":{\"fill\":{\"color\":\"#EBF0F8\"},\"line\":{\"color\":\"white\"}},\"header\":{\"fill\":{\"color\":\"#C8D4E3\"},\"line\":{\"color\":\"white\"}},\"type\":\"table\"}],\"barpolar\":[{\"marker\":{\"line\":{\"color\":\"#E5ECF6\",\"width\":0.5},\"pattern\":{\"fillmode\":\"overlay\",\"size\":10,\"solidity\":0.2}},\"type\":\"barpolar\"}],\"pie\":[{\"automargin\":true,\"type\":\"pie\"}]},\"layout\":{\"autotypenumbers\":\"strict\",\"colorway\":[\"#636efa\",\"#EF553B\",\"#00cc96\",\"#ab63fa\",\"#FFA15A\",\"#19d3f3\",\"#FF6692\",\"#B6E880\",\"#FF97FF\",\"#FECB52\"],\"font\":{\"color\":\"#2a3f5f\"},\"hovermode\":\"closest\",\"hoverlabel\":{\"align\":\"left\"},\"paper_bgcolor\":\"white\",\"plot_bgcolor\":\"#E5ECF6\",\"polar\":{\"bgcolor\":\"#E5ECF6\",\"angularaxis\":{\"gridcolor\":\"white\",\"linecolor\":\"white\",\"ticks\":\"\"},\"radialaxis\":{\"gridcolor\":\"white\",\"linecolor\":\"white\",\"ticks\":\"\"}},\"ternary\":{\"bgcolor\":\"#E5ECF6\",\"aaxis\":{\"gridcolor\":\"white\",\"linecolor\":\"white\",\"ticks\":\"\"},\"baxis\":{\"gridcolor\":\"white\",\"linecolor\":\"white\",\"ticks\":\"\"},\"caxis\":{\"gridcolor\":\"white\",\"linecolor\":\"white\",\"ticks\":\"\"}},\"coloraxis\":{\"colorbar\":{\"outlinewidth\":0,\"ticks\":\"\"}},\"colorscale\":{\"sequential\":[[0.0,\"#0d0887\"],[0.1111111111111111,\"#46039f\"],[0.2222222222222222,\"#7201a8\"],[0.3333333333333333,\"#9c179e\"],[0.4444444444444444,\"#bd3786\"],[0.5555555555555556,\"#d8576b\"],[0.6666666666666666,\"#ed7953\"],[0.7777777777777778,\"#fb9f3a\"],[0.8888888888888888,\"#fdca26\"],[1.0,\"#f0f921\"]],\"sequentialminus\":[[0.0,\"#0d0887\"],[0.1111111111111111,\"#46039f\"],[0.2222222222222222,\"#7201a8\"],[0.3333333333333333,\"#9c179e\"],[0.4444444444444444,\"#bd3786\"],[0.5555555555555556,\"#d8576b\"],[0.6666666666666666,\"#ed7953\"],[0.7777777777777778,\"#fb9f3a\"],[0.8888888888888888,\"#fdca26\"],[1.0,\"#f0f921\"]],\"diverging\":[[0,\"#8e0152\"],[0.1,\"#c51b7d\"],[0.2,\"#de77ae\"],[0.3,\"#f1b6da\"],[0.4,\"#fde0ef\"],[0.5,\"#f7f7f7\"],[0.6,\"#e6f5d0\"],[0.7,\"#b8e186\"],[0.8,\"#7fbc41\"],[0.9,\"#4d9221\"],[1,\"#276419\"]]},\"xaxis\":{\"gridcolor\":\"white\",\"linecolor\":\"white\",\"ticks\":\"\",\"title\":{\"standoff\":15},\"zerolinecolor\":\"white\",\"automargin\":true,\"zerolinewidth\":2},\"yaxis\":{\"gridcolor\":\"white\",\"linecolor\":\"white\",\"ticks\":\"\",\"title\":{\"standoff\":15},\"zerolinecolor\":\"white\",\"automargin\":true,\"zerolinewidth\":2},\"scene\":{\"xaxis\":{\"backgroundcolor\":\"#E5ECF6\",\"gridcolor\":\"white\",\"linecolor\":\"white\",\"showbackground\":true,\"ticks\":\"\",\"zerolinecolor\":\"white\",\"gridwidth\":2},\"yaxis\":{\"backgroundcolor\":\"#E5ECF6\",\"gridcolor\":\"white\",\"linecolor\":\"white\",\"showbackground\":true,\"ticks\":\"\",\"zerolinecolor\":\"white\",\"gridwidth\":2},\"zaxis\":{\"backgroundcolor\":\"#E5ECF6\",\"gridcolor\":\"white\",\"linecolor\":\"white\",\"showbackground\":true,\"ticks\":\"\",\"zerolinecolor\":\"white\",\"gridwidth\":2}},\"shapedefaults\":{\"line\":{\"color\":\"#2a3f5f\"}},\"annotationdefaults\":{\"arrowcolor\":\"#2a3f5f\",\"arrowhead\":0,\"arrowwidth\":1},\"geo\":{\"bgcolor\":\"white\",\"landcolor\":\"#E5ECF6\",\"subunitcolor\":\"white\",\"showland\":true,\"showlakes\":true,\"lakecolor\":\"white\"},\"title\":{\"x\":0.05},\"mapbox\":{\"style\":\"light\"}}},\"coloraxis\":{\"colorbar\":{\"title\":{\"text\":\"lifeExp\"}},\"colorscale\":[[0.0,\"rgb(103,0,31)\"],[0.1,\"rgb(178,24,43)\"],[0.2,\"rgb(214,96,77)\"],[0.3,\"rgb(244,165,130)\"],[0.4,\"rgb(253,219,199)\"],[0.5,\"rgb(247,247,247)\"],[0.6,\"rgb(209,229,240)\"],[0.7,\"rgb(146,197,222)\"],[0.8,\"rgb(67,147,195)\"],[0.9,\"rgb(33,102,172)\"],[1.0,\"rgb(5,48,97)\"]]},\"legend\":{\"tracegroupgap\":0},\"title\":{\"text\":\"2007 D\\u00fcnya N\\u00fcfusu ve Ya\\u015fam S\\u00fcresi\"}},                        {\"responsive\": true}                    ).then(function(){\n",
       "                            \n",
       "var gd = document.getElementById('d76a6458-a46c-42ea-8079-d7bce8d4125f');\n",
       "var x = new MutationObserver(function (mutations, observer) {{\n",
       "        var display = window.getComputedStyle(gd).display;\n",
       "        if (!display || display === 'none') {{\n",
       "            console.log([gd, 'removed!']);\n",
       "            Plotly.purge(gd);\n",
       "            observer.disconnect();\n",
       "        }}\n",
       "}});\n",
       "\n",
       "// Listen for the removal of the full notebook cells\n",
       "var notebookContainer = gd.closest('#notebook-container');\n",
       "if (notebookContainer) {{\n",
       "    x.observe(notebookContainer, {childList: true});\n",
       "}}\n",
       "\n",
       "// Listen for the clearing of the current output cell\n",
       "var outputEl = gd.closest('.output');\n",
       "if (outputEl) {{\n",
       "    x.observe(outputEl, {childList: true});\n",
       "}}\n",
       "\n",
       "                        })                };                });            </script>        </div>"
      ]
     },
     "metadata": {},
     "output_type": "display_data"
    }
   ],
   "source": [
    "# Görselleştirmeyi gösterme\n",
    "fig.show()"
   ]
  },
  {
   "cell_type": "code",
   "execution_count": 7,
   "id": "907be610",
   "metadata": {},
   "outputs": [
    {
     "data": {
      "application/vnd.plotly.v1+json": {
       "config": {
        "plotlyServerURL": "https://plot.ly"
       },
       "data": [
        {
         "branchvalues": "total",
         "customdata": [
          [
           974.5803384
          ],
          [
           5937.029525999998
          ],
          [
           6223.367465
          ],
          [
           4797.231267
          ],
          [
           12779.37964
          ],
          [
           34435.367439999995
          ],
          [
           36126.4927
          ],
          [
           29796.04834
          ],
          [
           1391.253792
          ],
          [
           33692.60508
          ],
          [
           1441.284873
          ],
          [
           3822.137084
          ],
          [
           7446.298803
          ],
          [
           12569.85177
          ],
          [
           9065.800825
          ],
          [
           10680.79282
          ],
          [
           1217.032994
          ],
          [
           430.0706916
          ],
          [
           1713.7786859999999
          ],
          [
           2042.09524
          ],
          [
           36319.23501
          ],
          [
           706.016537
          ],
          [
           1704.063724
          ],
          [
           13171.63885
          ],
          [
           4959.114854
          ],
          [
           7006.580419
          ],
          [
           986.1478792
          ],
          [
           277.5518587
          ],
          [
           3632.557798
          ],
          [
           9645.06142
          ],
          [
           1544.7501119999997
          ],
          [
           14619.222719999996
          ],
          [
           8948.102923
          ],
          [
           22833.30851
          ],
          [
           35278.41874
          ],
          [
           2082.4815670000007
          ],
          [
           6025.3747520000015
          ],
          [
           6873.262326000001
          ],
          [
           5581.180998
          ],
          [
           5728.353514
          ],
          [
           12154.08975
          ],
          [
           641.3695236000002
          ],
          [
           690.8055759
          ],
          [
           33207.0844
          ],
          [
           30470.0167
          ],
          [
           13206.484519999998
          ],
          [
           752.7497264999998
          ],
          [
           32170.37442
          ],
          [
           1327.60891
          ],
          [
           27538.41188
          ],
          [
           5186.050003
          ],
          [
           942.6542111
          ],
          [
           579.2317429999998
          ],
          [
           1201.637154
          ],
          [
           3548.3308460000007
          ],
          [
           39724.97867
          ],
          [
           18008.94444
          ],
          [
           36180.78919
          ],
          [
           2452.210407
          ],
          [
           3540.651564
          ],
          [
           11605.71449
          ],
          [
           4471.061906
          ],
          [
           40675.99635
          ],
          [
           25523.277100000003
          ],
          [
           28569.7197
          ],
          [
           7320.8802620000015
          ],
          [
           31656.06806
          ],
          [
           4519.461171
          ],
          [
           1463.249282
          ],
          [
           1593.0654800000002
          ],
          [
           23348.13973000001
          ],
          [
           47306.98978
          ],
          [
           10461.05868
          ],
          [
           1569.3314419999997
          ],
          [
           414.5073415
          ],
          [
           12057.499279999998
          ],
          [
           1044.770126
          ],
          [
           759.3499101
          ],
          [
           12451.655800000002
          ],
          [
           1042.581557
          ],
          [
           1803.151496
          ],
          [
           10956.99112
          ],
          [
           11977.574960000002
          ],
          [
           3095.7722710000003
          ],
          [
           9253.896111
          ],
          [
           3820.17523
          ],
          [
           823.6856205
          ],
          [
           944
          ],
          [
           4811.060429
          ],
          [
           1091.359778
          ],
          [
           36797.93332
          ],
          [
           25185.00911
          ],
          [
           2749.320965
          ],
          [
           619.6768923999998
          ],
          [
           2013.977305
          ],
          [
           49357.19017
          ],
          [
           22316.19287
          ],
          [
           2605.94758
          ],
          [
           9809.185636
          ],
          [
           4172.838464
          ],
          [
           7408.905561
          ],
          [
           3190.4810159999997
          ],
          [
           15389.924680000002
          ],
          [
           20509.64777
          ],
          [
           19328.70901
          ],
          [
           7670.122558
          ],
          [
           10808.47561
          ],
          [
           863.0884639000002
          ],
          [
           1598.435089
          ],
          [
           21654.83194
          ],
          [
           1712.472136
          ],
          [
           9786.534714
          ],
          [
           862.5407561000002
          ],
          [
           47143.17964
          ],
          [
           18678.31435
          ],
          [
           25768.25759
          ],
          [
           926.1410683
          ],
          [
           9269.657808
          ],
          [
           28821.0637
          ],
          [
           3970.095407
          ],
          [
           2602.394995
          ],
          [
           4513.480643
          ],
          [
           33859.74835
          ],
          [
           37506.41907
          ],
          [
           4184.548089
          ],
          [
           28718.27684
          ],
          [
           1107.482182
          ],
          [
           7458.396326999998
          ],
          [
           882.9699437999998
          ],
          [
           18008.50924
          ],
          [
           7092.923025
          ],
          [
           8458.276384
          ],
          [
           1056.380121
          ],
          [
           33203.26128
          ],
          [
           42951.65309
          ],
          [
           10611.46299
          ],
          [
           11415.80569
          ],
          [
           2441.576404
          ],
          [
           3025.349798
          ],
          [
           2280.769906
          ],
          [
           1271.211593
          ],
          [
           469.70929810000007
          ],
          [
           7245.464936475502
          ],
          [
           19234.6336635938
          ],
          [
           28049.89284137433
          ],
          [
           30427.030186460728
          ],
          [
           30527.804752662116
          ],
          [
           25739.34792144935
          ]
         ],
         "domain": {
          "x": [
           0,
           1
          ],
          "y": [
           0,
           1
          ]
         },
         "hovertemplate": "labels=%{label}<br>gdpPercap_sum=%{value}<br>parent=%{parent}<br>id=%{id}<br>gdpPercap=%{color}<extra></extra>",
         "ids": [
          "World/Asia/Afghanistan",
          "World/Europe/Albania",
          "World/Africa/Algeria",
          "World/Africa/Angola",
          "World/Americas/Argentina",
          "World/Oceania/Australia",
          "World/Europe/Austria",
          "World/Asia/Bahrain",
          "World/Asia/Bangladesh",
          "World/Europe/Belgium",
          "World/Africa/Benin",
          "World/Americas/Bolivia",
          "World/Europe/Bosnia and Herzegovina",
          "World/Africa/Botswana",
          "World/Americas/Brazil",
          "World/Europe/Bulgaria",
          "World/Africa/Burkina Faso",
          "World/Africa/Burundi",
          "World/Asia/Cambodia",
          "World/Africa/Cameroon",
          "World/Americas/Canada",
          "World/Africa/Central African Republic",
          "World/Africa/Chad",
          "World/Americas/Chile",
          "World/Asia/China",
          "World/Americas/Colombia",
          "World/Africa/Comoros",
          "World/Africa/Congo, Dem. Rep.",
          "World/Africa/Congo, Rep.",
          "World/Americas/Costa Rica",
          "World/Africa/Cote d'Ivoire",
          "World/Europe/Croatia",
          "World/Americas/Cuba",
          "World/Europe/Czech Republic",
          "World/Europe/Denmark",
          "World/Africa/Djibouti",
          "World/Americas/Dominican Republic",
          "World/Americas/Ecuador",
          "World/Africa/Egypt",
          "World/Americas/El Salvador",
          "World/Africa/Equatorial Guinea",
          "World/Africa/Eritrea",
          "World/Africa/Ethiopia",
          "World/Europe/Finland",
          "World/Europe/France",
          "World/Africa/Gabon",
          "World/Africa/Gambia",
          "World/Europe/Germany",
          "World/Africa/Ghana",
          "World/Europe/Greece",
          "World/Americas/Guatemala",
          "World/Africa/Guinea",
          "World/Africa/Guinea-Bissau",
          "World/Americas/Haiti",
          "World/Americas/Honduras",
          "World/Asia/Hong Kong, China",
          "World/Europe/Hungary",
          "World/Europe/Iceland",
          "World/Asia/India",
          "World/Asia/Indonesia",
          "World/Asia/Iran",
          "World/Asia/Iraq",
          "World/Europe/Ireland",
          "World/Asia/Israel",
          "World/Europe/Italy",
          "World/Americas/Jamaica",
          "World/Asia/Japan",
          "World/Asia/Jordan",
          "World/Africa/Kenya",
          "World/Asia/Korea, Dem. Rep.",
          "World/Asia/Korea, Rep.",
          "World/Asia/Kuwait",
          "World/Asia/Lebanon",
          "World/Africa/Lesotho",
          "World/Africa/Liberia",
          "World/Africa/Libya",
          "World/Africa/Madagascar",
          "World/Africa/Malawi",
          "World/Asia/Malaysia",
          "World/Africa/Mali",
          "World/Africa/Mauritania",
          "World/Africa/Mauritius",
          "World/Americas/Mexico",
          "World/Asia/Mongolia",
          "World/Europe/Montenegro",
          "World/Africa/Morocco",
          "World/Africa/Mozambique",
          "World/Asia/Myanmar",
          "World/Africa/Namibia",
          "World/Asia/Nepal",
          "World/Europe/Netherlands",
          "World/Oceania/New Zealand",
          "World/Americas/Nicaragua",
          "World/Africa/Niger",
          "World/Africa/Nigeria",
          "World/Europe/Norway",
          "World/Asia/Oman",
          "World/Asia/Pakistan",
          "World/Americas/Panama",
          "World/Americas/Paraguay",
          "World/Americas/Peru",
          "World/Asia/Philippines",
          "World/Europe/Poland",
          "World/Europe/Portugal",
          "World/Americas/Puerto Rico",
          "World/Africa/Reunion",
          "World/Europe/Romania",
          "World/Africa/Rwanda",
          "World/Africa/Sao Tome and Principe",
          "World/Asia/Saudi Arabia",
          "World/Africa/Senegal",
          "World/Europe/Serbia",
          "World/Africa/Sierra Leone",
          "World/Asia/Singapore",
          "World/Europe/Slovak Republic",
          "World/Europe/Slovenia",
          "World/Africa/Somalia",
          "World/Africa/South Africa",
          "World/Europe/Spain",
          "World/Asia/Sri Lanka",
          "World/Africa/Sudan",
          "World/Africa/Swaziland",
          "World/Europe/Sweden",
          "World/Europe/Switzerland",
          "World/Asia/Syria",
          "World/Asia/Taiwan",
          "World/Africa/Tanzania",
          "World/Asia/Thailand",
          "World/Africa/Togo",
          "World/Americas/Trinidad and Tobago",
          "World/Africa/Tunisia",
          "World/Europe/Turkey",
          "World/Africa/Uganda",
          "World/Europe/United Kingdom",
          "World/Americas/United States",
          "World/Americas/Uruguay",
          "World/Americas/Venezuela",
          "World/Asia/Vietnam",
          "World/Asia/West Bank and Gaza",
          "World/Asia/Yemen, Rep.",
          "World/Africa/Zambia",
          "World/Africa/Zimbabwe",
          "World/Africa",
          "World/Americas",
          "World/Asia",
          "World/Europe",
          "World/Oceania",
          "World"
         ],
         "labels": [
          "Afghanistan",
          "Albania",
          "Algeria",
          "Angola",
          "Argentina",
          "Australia",
          "Austria",
          "Bahrain",
          "Bangladesh",
          "Belgium",
          "Benin",
          "Bolivia",
          "Bosnia and Herzegovina",
          "Botswana",
          "Brazil",
          "Bulgaria",
          "Burkina Faso",
          "Burundi",
          "Cambodia",
          "Cameroon",
          "Canada",
          "Central African Republic",
          "Chad",
          "Chile",
          "China",
          "Colombia",
          "Comoros",
          "Congo, Dem. Rep.",
          "Congo, Rep.",
          "Costa Rica",
          "Cote d'Ivoire",
          "Croatia",
          "Cuba",
          "Czech Republic",
          "Denmark",
          "Djibouti",
          "Dominican Republic",
          "Ecuador",
          "Egypt",
          "El Salvador",
          "Equatorial Guinea",
          "Eritrea",
          "Ethiopia",
          "Finland",
          "France",
          "Gabon",
          "Gambia",
          "Germany",
          "Ghana",
          "Greece",
          "Guatemala",
          "Guinea",
          "Guinea-Bissau",
          "Haiti",
          "Honduras",
          "Hong Kong, China",
          "Hungary",
          "Iceland",
          "India",
          "Indonesia",
          "Iran",
          "Iraq",
          "Ireland",
          "Israel",
          "Italy",
          "Jamaica",
          "Japan",
          "Jordan",
          "Kenya",
          "Korea, Dem. Rep.",
          "Korea, Rep.",
          "Kuwait",
          "Lebanon",
          "Lesotho",
          "Liberia",
          "Libya",
          "Madagascar",
          "Malawi",
          "Malaysia",
          "Mali",
          "Mauritania",
          "Mauritius",
          "Mexico",
          "Mongolia",
          "Montenegro",
          "Morocco",
          "Mozambique",
          "Myanmar",
          "Namibia",
          "Nepal",
          "Netherlands",
          "New Zealand",
          "Nicaragua",
          "Niger",
          "Nigeria",
          "Norway",
          "Oman",
          "Pakistan",
          "Panama",
          "Paraguay",
          "Peru",
          "Philippines",
          "Poland",
          "Portugal",
          "Puerto Rico",
          "Reunion",
          "Romania",
          "Rwanda",
          "Sao Tome and Principe",
          "Saudi Arabia",
          "Senegal",
          "Serbia",
          "Sierra Leone",
          "Singapore",
          "Slovak Republic",
          "Slovenia",
          "Somalia",
          "South Africa",
          "Spain",
          "Sri Lanka",
          "Sudan",
          "Swaziland",
          "Sweden",
          "Switzerland",
          "Syria",
          "Taiwan",
          "Tanzania",
          "Thailand",
          "Togo",
          "Trinidad and Tobago",
          "Tunisia",
          "Turkey",
          "Uganda",
          "United Kingdom",
          "United States",
          "Uruguay",
          "Venezuela",
          "Vietnam",
          "West Bank and Gaza",
          "Yemen, Rep.",
          "Zambia",
          "Zimbabwe",
          "Africa",
          "Americas",
          "Asia",
          "Europe",
          "Oceania",
          "World"
         ],
         "marker": {
          "coloraxis": "coloraxis",
          "colors": [
           974.5803384,
           5937.029525999998,
           6223.367465,
           4797.231267,
           12779.37964,
           34435.367439999995,
           36126.4927,
           29796.04834,
           1391.253792,
           33692.60508,
           1441.284873,
           3822.137084,
           7446.298803,
           12569.85177,
           9065.800825,
           10680.79282,
           1217.032994,
           430.0706916,
           1713.7786859999999,
           2042.09524,
           36319.23501,
           706.016537,
           1704.063724,
           13171.63885,
           4959.114854,
           7006.580419,
           986.1478792,
           277.5518587,
           3632.557798,
           9645.06142,
           1544.7501119999997,
           14619.222719999996,
           8948.102923,
           22833.30851,
           35278.41874,
           2082.4815670000007,
           6025.3747520000015,
           6873.262326000001,
           5581.180998,
           5728.353514,
           12154.08975,
           641.3695236000002,
           690.8055759,
           33207.0844,
           30470.0167,
           13206.484519999998,
           752.7497264999998,
           32170.37442,
           1327.60891,
           27538.41188,
           5186.050003,
           942.6542111,
           579.2317429999998,
           1201.637154,
           3548.3308460000007,
           39724.97867,
           18008.94444,
           36180.78919,
           2452.210407,
           3540.651564,
           11605.71449,
           4471.061906,
           40675.99635,
           25523.277100000003,
           28569.7197,
           7320.8802620000015,
           31656.06806,
           4519.461171,
           1463.249282,
           1593.0654800000002,
           23348.13973000001,
           47306.98978,
           10461.05868,
           1569.3314419999997,
           414.5073415,
           12057.499279999998,
           1044.770126,
           759.3499101,
           12451.655800000002,
           1042.581557,
           1803.151496,
           10956.99112,
           11977.574960000002,
           3095.7722710000003,
           9253.896111,
           3820.17523,
           823.6856205,
           944,
           4811.060429,
           1091.359778,
           36797.93332,
           25185.00911,
           2749.320965,
           619.6768923999998,
           2013.977305,
           49357.19017,
           22316.19287,
           2605.94758,
           9809.185636,
           4172.838464,
           7408.905561,
           3190.4810159999997,
           15389.924680000002,
           20509.64777,
           19328.70901,
           7670.122558,
           10808.47561,
           863.0884639000002,
           1598.435089,
           21654.83194,
           1712.472136,
           9786.534714,
           862.5407561000002,
           47143.17964,
           18678.31435,
           25768.25759,
           926.1410683,
           9269.657808,
           28821.0637,
           3970.095407,
           2602.394995,
           4513.480643,
           33859.74835,
           37506.41907,
           4184.548089,
           28718.27684,
           1107.482182,
           7458.396326999998,
           882.9699437999998,
           18008.50924,
           7092.923025,
           8458.276384,
           1056.380121,
           33203.26128,
           42951.65309,
           10611.46299,
           11415.80569,
           2441.576404,
           3025.349798,
           2280.769906,
           1271.211593,
           469.70929810000007,
           7245.464936475502,
           19234.6336635938,
           28049.89284137433,
           30427.030186460728,
           30527.804752662116,
           25739.34792144935
          ]
         },
         "name": "",
         "parents": [
          "World/Asia",
          "World/Europe",
          "World/Africa",
          "World/Africa",
          "World/Americas",
          "World/Oceania",
          "World/Europe",
          "World/Asia",
          "World/Asia",
          "World/Europe",
          "World/Africa",
          "World/Americas",
          "World/Europe",
          "World/Africa",
          "World/Americas",
          "World/Europe",
          "World/Africa",
          "World/Africa",
          "World/Asia",
          "World/Africa",
          "World/Americas",
          "World/Africa",
          "World/Africa",
          "World/Americas",
          "World/Asia",
          "World/Americas",
          "World/Africa",
          "World/Africa",
          "World/Africa",
          "World/Americas",
          "World/Africa",
          "World/Europe",
          "World/Americas",
          "World/Europe",
          "World/Europe",
          "World/Africa",
          "World/Americas",
          "World/Americas",
          "World/Africa",
          "World/Americas",
          "World/Africa",
          "World/Africa",
          "World/Africa",
          "World/Europe",
          "World/Europe",
          "World/Africa",
          "World/Africa",
          "World/Europe",
          "World/Africa",
          "World/Europe",
          "World/Americas",
          "World/Africa",
          "World/Africa",
          "World/Americas",
          "World/Americas",
          "World/Asia",
          "World/Europe",
          "World/Europe",
          "World/Asia",
          "World/Asia",
          "World/Asia",
          "World/Asia",
          "World/Europe",
          "World/Asia",
          "World/Europe",
          "World/Americas",
          "World/Asia",
          "World/Asia",
          "World/Africa",
          "World/Asia",
          "World/Asia",
          "World/Asia",
          "World/Asia",
          "World/Africa",
          "World/Africa",
          "World/Africa",
          "World/Africa",
          "World/Africa",
          "World/Asia",
          "World/Africa",
          "World/Africa",
          "World/Africa",
          "World/Americas",
          "World/Asia",
          "World/Europe",
          "World/Africa",
          "World/Africa",
          "World/Asia",
          "World/Africa",
          "World/Asia",
          "World/Europe",
          "World/Oceania",
          "World/Americas",
          "World/Africa",
          "World/Africa",
          "World/Europe",
          "World/Asia",
          "World/Asia",
          "World/Americas",
          "World/Americas",
          "World/Americas",
          "World/Asia",
          "World/Europe",
          "World/Europe",
          "World/Americas",
          "World/Africa",
          "World/Europe",
          "World/Africa",
          "World/Africa",
          "World/Asia",
          "World/Africa",
          "World/Europe",
          "World/Africa",
          "World/Asia",
          "World/Europe",
          "World/Europe",
          "World/Africa",
          "World/Africa",
          "World/Europe",
          "World/Asia",
          "World/Africa",
          "World/Africa",
          "World/Europe",
          "World/Europe",
          "World/Asia",
          "World/Asia",
          "World/Africa",
          "World/Asia",
          "World/Africa",
          "World/Americas",
          "World/Africa",
          "World/Europe",
          "World/Africa",
          "World/Europe",
          "World/Americas",
          "World/Americas",
          "World/Americas",
          "World/Asia",
          "World/Asia",
          "World/Asia",
          "World/Africa",
          "World/Africa",
          "World",
          "World",
          "World",
          "World",
          "World",
          ""
         ],
         "type": "treemap",
         "values": [
          974.5803384,
          5937.029525999998,
          6223.367465,
          4797.231267,
          12779.37964,
          34435.367439999995,
          36126.4927,
          29796.04834,
          1391.253792,
          33692.60508,
          1441.284873,
          3822.137084,
          7446.298803,
          12569.85177,
          9065.800825,
          10680.79282,
          1217.032994,
          430.0706916,
          1713.778686,
          2042.09524,
          36319.23501,
          706.016537,
          1704.063724,
          13171.63885,
          4959.114854,
          7006.580419,
          986.1478792,
          277.5518587,
          3632.557798,
          9645.06142,
          1544.750112,
          14619.222719999998,
          8948.102923,
          22833.30851,
          35278.41874,
          2082.4815670000007,
          6025.3747520000015,
          6873.262326000001,
          5581.180998,
          5728.353514,
          12154.08975,
          641.3695236000002,
          690.8055759,
          33207.0844,
          30470.0167,
          13206.48452,
          752.7497265,
          32170.37442,
          1327.60891,
          27538.41188,
          5186.050003,
          942.6542111,
          579.2317429999998,
          1201.637154,
          3548.3308460000007,
          39724.97867,
          18008.94444,
          36180.78919,
          2452.210407,
          3540.651564,
          11605.71449,
          4471.061906,
          40675.99635,
          25523.2771,
          28569.7197,
          7320.8802620000015,
          31656.06806,
          4519.461171,
          1463.249282,
          1593.06548,
          23348.139730000006,
          47306.98978,
          10461.05868,
          1569.331442,
          414.5073415,
          12057.49928,
          1044.770126,
          759.3499101,
          12451.6558,
          1042.581557,
          1803.151496,
          10956.99112,
          11977.57496,
          3095.7722710000007,
          9253.896111,
          3820.17523,
          823.6856205,
          944,
          4811.060429,
          1091.359778,
          36797.93332,
          25185.00911,
          2749.320965,
          619.6768923999998,
          2013.977305,
          49357.19017,
          22316.19287,
          2605.94758,
          9809.185636,
          4172.838464,
          7408.905561,
          3190.481016,
          15389.924680000002,
          20509.64777,
          19328.70901,
          7670.122558,
          10808.47561,
          863.0884639000002,
          1598.435089,
          21654.83194,
          1712.472136,
          9786.534714,
          862.5407561000002,
          47143.17964,
          18678.31435,
          25768.25759,
          926.1410683,
          9269.657808,
          28821.0637,
          3970.095407,
          2602.394995,
          4513.480643,
          33859.74835,
          37506.41907,
          4184.548089,
          28718.27684,
          1107.482182,
          7458.396326999998,
          882.9699437999999,
          18008.50924,
          7092.923025,
          8458.276384,
          1056.380121,
          33203.26128,
          42951.65309,
          10611.46299,
          11415.80569,
          2441.576404,
          3025.349798,
          2280.769906,
          1271.211593,
          469.70929810000007,
          160629.6954463,
          275075.790634,
          411609.8867144,
          751634.449078,
          59620.37654999999,
          1658570.1984227
         ]
        }
       ],
       "layout": {
        "coloraxis": {
         "colorbar": {
          "title": {
           "text": "gdpPercap"
          }
         },
         "colorscale": [
          [
           0,
           "#440154"
          ],
          [
           0.1111111111111111,
           "#482878"
          ],
          [
           0.2222222222222222,
           "#3e4989"
          ],
          [
           0.3333333333333333,
           "#31688e"
          ],
          [
           0.4444444444444444,
           "#26828e"
          ],
          [
           0.5555555555555556,
           "#1f9e89"
          ],
          [
           0.6666666666666666,
           "#35b779"
          ],
          [
           0.7777777777777778,
           "#6ece58"
          ],
          [
           0.8888888888888888,
           "#b5de2b"
          ],
          [
           1,
           "#fde725"
          ]
         ]
        },
        "legend": {
         "tracegroupgap": 0
        },
        "template": {
         "data": {
          "bar": [
           {
            "error_x": {
             "color": "#2a3f5f"
            },
            "error_y": {
             "color": "#2a3f5f"
            },
            "marker": {
             "line": {
              "color": "#E5ECF6",
              "width": 0.5
             },
             "pattern": {
              "fillmode": "overlay",
              "size": 10,
              "solidity": 0.2
             }
            },
            "type": "bar"
           }
          ],
          "barpolar": [
           {
            "marker": {
             "line": {
              "color": "#E5ECF6",
              "width": 0.5
             },
             "pattern": {
              "fillmode": "overlay",
              "size": 10,
              "solidity": 0.2
             }
            },
            "type": "barpolar"
           }
          ],
          "carpet": [
           {
            "aaxis": {
             "endlinecolor": "#2a3f5f",
             "gridcolor": "white",
             "linecolor": "white",
             "minorgridcolor": "white",
             "startlinecolor": "#2a3f5f"
            },
            "baxis": {
             "endlinecolor": "#2a3f5f",
             "gridcolor": "white",
             "linecolor": "white",
             "minorgridcolor": "white",
             "startlinecolor": "#2a3f5f"
            },
            "type": "carpet"
           }
          ],
          "choropleth": [
           {
            "colorbar": {
             "outlinewidth": 0,
             "ticks": ""
            },
            "type": "choropleth"
           }
          ],
          "contour": [
           {
            "colorbar": {
             "outlinewidth": 0,
             "ticks": ""
            },
            "colorscale": [
             [
              0,
              "#0d0887"
             ],
             [
              0.1111111111111111,
              "#46039f"
             ],
             [
              0.2222222222222222,
              "#7201a8"
             ],
             [
              0.3333333333333333,
              "#9c179e"
             ],
             [
              0.4444444444444444,
              "#bd3786"
             ],
             [
              0.5555555555555556,
              "#d8576b"
             ],
             [
              0.6666666666666666,
              "#ed7953"
             ],
             [
              0.7777777777777778,
              "#fb9f3a"
             ],
             [
              0.8888888888888888,
              "#fdca26"
             ],
             [
              1,
              "#f0f921"
             ]
            ],
            "type": "contour"
           }
          ],
          "contourcarpet": [
           {
            "colorbar": {
             "outlinewidth": 0,
             "ticks": ""
            },
            "type": "contourcarpet"
           }
          ],
          "heatmap": [
           {
            "colorbar": {
             "outlinewidth": 0,
             "ticks": ""
            },
            "colorscale": [
             [
              0,
              "#0d0887"
             ],
             [
              0.1111111111111111,
              "#46039f"
             ],
             [
              0.2222222222222222,
              "#7201a8"
             ],
             [
              0.3333333333333333,
              "#9c179e"
             ],
             [
              0.4444444444444444,
              "#bd3786"
             ],
             [
              0.5555555555555556,
              "#d8576b"
             ],
             [
              0.6666666666666666,
              "#ed7953"
             ],
             [
              0.7777777777777778,
              "#fb9f3a"
             ],
             [
              0.8888888888888888,
              "#fdca26"
             ],
             [
              1,
              "#f0f921"
             ]
            ],
            "type": "heatmap"
           }
          ],
          "heatmapgl": [
           {
            "colorbar": {
             "outlinewidth": 0,
             "ticks": ""
            },
            "colorscale": [
             [
              0,
              "#0d0887"
             ],
             [
              0.1111111111111111,
              "#46039f"
             ],
             [
              0.2222222222222222,
              "#7201a8"
             ],
             [
              0.3333333333333333,
              "#9c179e"
             ],
             [
              0.4444444444444444,
              "#bd3786"
             ],
             [
              0.5555555555555556,
              "#d8576b"
             ],
             [
              0.6666666666666666,
              "#ed7953"
             ],
             [
              0.7777777777777778,
              "#fb9f3a"
             ],
             [
              0.8888888888888888,
              "#fdca26"
             ],
             [
              1,
              "#f0f921"
             ]
            ],
            "type": "heatmapgl"
           }
          ],
          "histogram": [
           {
            "marker": {
             "pattern": {
              "fillmode": "overlay",
              "size": 10,
              "solidity": 0.2
             }
            },
            "type": "histogram"
           }
          ],
          "histogram2d": [
           {
            "colorbar": {
             "outlinewidth": 0,
             "ticks": ""
            },
            "colorscale": [
             [
              0,
              "#0d0887"
             ],
             [
              0.1111111111111111,
              "#46039f"
             ],
             [
              0.2222222222222222,
              "#7201a8"
             ],
             [
              0.3333333333333333,
              "#9c179e"
             ],
             [
              0.4444444444444444,
              "#bd3786"
             ],
             [
              0.5555555555555556,
              "#d8576b"
             ],
             [
              0.6666666666666666,
              "#ed7953"
             ],
             [
              0.7777777777777778,
              "#fb9f3a"
             ],
             [
              0.8888888888888888,
              "#fdca26"
             ],
             [
              1,
              "#f0f921"
             ]
            ],
            "type": "histogram2d"
           }
          ],
          "histogram2dcontour": [
           {
            "colorbar": {
             "outlinewidth": 0,
             "ticks": ""
            },
            "colorscale": [
             [
              0,
              "#0d0887"
             ],
             [
              0.1111111111111111,
              "#46039f"
             ],
             [
              0.2222222222222222,
              "#7201a8"
             ],
             [
              0.3333333333333333,
              "#9c179e"
             ],
             [
              0.4444444444444444,
              "#bd3786"
             ],
             [
              0.5555555555555556,
              "#d8576b"
             ],
             [
              0.6666666666666666,
              "#ed7953"
             ],
             [
              0.7777777777777778,
              "#fb9f3a"
             ],
             [
              0.8888888888888888,
              "#fdca26"
             ],
             [
              1,
              "#f0f921"
             ]
            ],
            "type": "histogram2dcontour"
           }
          ],
          "mesh3d": [
           {
            "colorbar": {
             "outlinewidth": 0,
             "ticks": ""
            },
            "type": "mesh3d"
           }
          ],
          "parcoords": [
           {
            "line": {
             "colorbar": {
              "outlinewidth": 0,
              "ticks": ""
             }
            },
            "type": "parcoords"
           }
          ],
          "pie": [
           {
            "automargin": true,
            "type": "pie"
           }
          ],
          "scatter": [
           {
            "fillpattern": {
             "fillmode": "overlay",
             "size": 10,
             "solidity": 0.2
            },
            "type": "scatter"
           }
          ],
          "scatter3d": [
           {
            "line": {
             "colorbar": {
              "outlinewidth": 0,
              "ticks": ""
             }
            },
            "marker": {
             "colorbar": {
              "outlinewidth": 0,
              "ticks": ""
             }
            },
            "type": "scatter3d"
           }
          ],
          "scattercarpet": [
           {
            "marker": {
             "colorbar": {
              "outlinewidth": 0,
              "ticks": ""
             }
            },
            "type": "scattercarpet"
           }
          ],
          "scattergeo": [
           {
            "marker": {
             "colorbar": {
              "outlinewidth": 0,
              "ticks": ""
             }
            },
            "type": "scattergeo"
           }
          ],
          "scattergl": [
           {
            "marker": {
             "colorbar": {
              "outlinewidth": 0,
              "ticks": ""
             }
            },
            "type": "scattergl"
           }
          ],
          "scattermapbox": [
           {
            "marker": {
             "colorbar": {
              "outlinewidth": 0,
              "ticks": ""
             }
            },
            "type": "scattermapbox"
           }
          ],
          "scatterpolar": [
           {
            "marker": {
             "colorbar": {
              "outlinewidth": 0,
              "ticks": ""
             }
            },
            "type": "scatterpolar"
           }
          ],
          "scatterpolargl": [
           {
            "marker": {
             "colorbar": {
              "outlinewidth": 0,
              "ticks": ""
             }
            },
            "type": "scatterpolargl"
           }
          ],
          "scatterternary": [
           {
            "marker": {
             "colorbar": {
              "outlinewidth": 0,
              "ticks": ""
             }
            },
            "type": "scatterternary"
           }
          ],
          "surface": [
           {
            "colorbar": {
             "outlinewidth": 0,
             "ticks": ""
            },
            "colorscale": [
             [
              0,
              "#0d0887"
             ],
             [
              0.1111111111111111,
              "#46039f"
             ],
             [
              0.2222222222222222,
              "#7201a8"
             ],
             [
              0.3333333333333333,
              "#9c179e"
             ],
             [
              0.4444444444444444,
              "#bd3786"
             ],
             [
              0.5555555555555556,
              "#d8576b"
             ],
             [
              0.6666666666666666,
              "#ed7953"
             ],
             [
              0.7777777777777778,
              "#fb9f3a"
             ],
             [
              0.8888888888888888,
              "#fdca26"
             ],
             [
              1,
              "#f0f921"
             ]
            ],
            "type": "surface"
           }
          ],
          "table": [
           {
            "cells": {
             "fill": {
              "color": "#EBF0F8"
             },
             "line": {
              "color": "white"
             }
            },
            "header": {
             "fill": {
              "color": "#C8D4E3"
             },
             "line": {
              "color": "white"
             }
            },
            "type": "table"
           }
          ]
         },
         "layout": {
          "annotationdefaults": {
           "arrowcolor": "#2a3f5f",
           "arrowhead": 0,
           "arrowwidth": 1
          },
          "autotypenumbers": "strict",
          "coloraxis": {
           "colorbar": {
            "outlinewidth": 0,
            "ticks": ""
           }
          },
          "colorscale": {
           "diverging": [
            [
             0,
             "#8e0152"
            ],
            [
             0.1,
             "#c51b7d"
            ],
            [
             0.2,
             "#de77ae"
            ],
            [
             0.3,
             "#f1b6da"
            ],
            [
             0.4,
             "#fde0ef"
            ],
            [
             0.5,
             "#f7f7f7"
            ],
            [
             0.6,
             "#e6f5d0"
            ],
            [
             0.7,
             "#b8e186"
            ],
            [
             0.8,
             "#7fbc41"
            ],
            [
             0.9,
             "#4d9221"
            ],
            [
             1,
             "#276419"
            ]
           ],
           "sequential": [
            [
             0,
             "#0d0887"
            ],
            [
             0.1111111111111111,
             "#46039f"
            ],
            [
             0.2222222222222222,
             "#7201a8"
            ],
            [
             0.3333333333333333,
             "#9c179e"
            ],
            [
             0.4444444444444444,
             "#bd3786"
            ],
            [
             0.5555555555555556,
             "#d8576b"
            ],
            [
             0.6666666666666666,
             "#ed7953"
            ],
            [
             0.7777777777777778,
             "#fb9f3a"
            ],
            [
             0.8888888888888888,
             "#fdca26"
            ],
            [
             1,
             "#f0f921"
            ]
           ],
           "sequentialminus": [
            [
             0,
             "#0d0887"
            ],
            [
             0.1111111111111111,
             "#46039f"
            ],
            [
             0.2222222222222222,
             "#7201a8"
            ],
            [
             0.3333333333333333,
             "#9c179e"
            ],
            [
             0.4444444444444444,
             "#bd3786"
            ],
            [
             0.5555555555555556,
             "#d8576b"
            ],
            [
             0.6666666666666666,
             "#ed7953"
            ],
            [
             0.7777777777777778,
             "#fb9f3a"
            ],
            [
             0.8888888888888888,
             "#fdca26"
            ],
            [
             1,
             "#f0f921"
            ]
           ]
          },
          "colorway": [
           "#636efa",
           "#EF553B",
           "#00cc96",
           "#ab63fa",
           "#FFA15A",
           "#19d3f3",
           "#FF6692",
           "#B6E880",
           "#FF97FF",
           "#FECB52"
          ],
          "font": {
           "color": "#2a3f5f"
          },
          "geo": {
           "bgcolor": "white",
           "lakecolor": "white",
           "landcolor": "#E5ECF6",
           "showlakes": true,
           "showland": true,
           "subunitcolor": "white"
          },
          "hoverlabel": {
           "align": "left"
          },
          "hovermode": "closest",
          "mapbox": {
           "style": "light"
          },
          "paper_bgcolor": "white",
          "plot_bgcolor": "#E5ECF6",
          "polar": {
           "angularaxis": {
            "gridcolor": "white",
            "linecolor": "white",
            "ticks": ""
           },
           "bgcolor": "#E5ECF6",
           "radialaxis": {
            "gridcolor": "white",
            "linecolor": "white",
            "ticks": ""
           }
          },
          "scene": {
           "xaxis": {
            "backgroundcolor": "#E5ECF6",
            "gridcolor": "white",
            "gridwidth": 2,
            "linecolor": "white",
            "showbackground": true,
            "ticks": "",
            "zerolinecolor": "white"
           },
           "yaxis": {
            "backgroundcolor": "#E5ECF6",
            "gridcolor": "white",
            "gridwidth": 2,
            "linecolor": "white",
            "showbackground": true,
            "ticks": "",
            "zerolinecolor": "white"
           },
           "zaxis": {
            "backgroundcolor": "#E5ECF6",
            "gridcolor": "white",
            "gridwidth": 2,
            "linecolor": "white",
            "showbackground": true,
            "ticks": "",
            "zerolinecolor": "white"
           }
          },
          "shapedefaults": {
           "line": {
            "color": "#2a3f5f"
           }
          },
          "ternary": {
           "aaxis": {
            "gridcolor": "white",
            "linecolor": "white",
            "ticks": ""
           },
           "baxis": {
            "gridcolor": "white",
            "linecolor": "white",
            "ticks": ""
           },
           "bgcolor": "#E5ECF6",
           "caxis": {
            "gridcolor": "white",
            "linecolor": "white",
            "ticks": ""
           }
          },
          "title": {
           "x": 0.05
          },
          "xaxis": {
           "automargin": true,
           "gridcolor": "white",
           "linecolor": "white",
           "ticks": "",
           "title": {
            "standoff": 15
           },
           "zerolinecolor": "white",
           "zerolinewidth": 2
          },
          "yaxis": {
           "automargin": true,
           "gridcolor": "white",
           "linecolor": "white",
           "ticks": "",
           "title": {
            "standoff": 15
           },
           "zerolinecolor": "white",
           "zerolinewidth": 2
          }
         }
        },
        "title": {
         "text": "2007 Dünya Kişi Başına Düşen Milli Gelir"
        }
       }
      },
      "text/html": [
       "<div>                            <div id=\"fc65f809-ec03-4a50-abc9-b6040141f009\" class=\"plotly-graph-div\" style=\"height:525px; width:100%;\"></div>            <script type=\"text/javascript\">                require([\"plotly\"], function(Plotly) {                    window.PLOTLYENV=window.PLOTLYENV || {};                                    if (document.getElementById(\"fc65f809-ec03-4a50-abc9-b6040141f009\")) {                    Plotly.newPlot(                        \"fc65f809-ec03-4a50-abc9-b6040141f009\",                        [{\"branchvalues\":\"total\",\"customdata\":[[974.5803384],[5937.029525999998],[6223.367465],[4797.231267],[12779.37964],[34435.367439999995],[36126.4927],[29796.04834],[1391.253792],[33692.60508],[1441.284873],[3822.137084],[7446.298803],[12569.85177],[9065.800825],[10680.79282],[1217.032994],[430.0706916],[1713.7786859999999],[2042.09524],[36319.23501],[706.016537],[1704.063724],[13171.63885],[4959.114854],[7006.580419],[986.1478792],[277.5518587],[3632.557798],[9645.06142],[1544.7501119999997],[14619.222719999996],[8948.102923],[22833.30851],[35278.41874],[2082.4815670000007],[6025.3747520000015],[6873.262326000001],[5581.180998],[5728.353514],[12154.08975],[641.3695236000002],[690.8055759],[33207.0844],[30470.0167],[13206.484519999998],[752.7497264999998],[32170.37442],[1327.60891],[27538.41188],[5186.050003],[942.6542111],[579.2317429999998],[1201.637154],[3548.3308460000007],[39724.97867],[18008.94444],[36180.78919],[2452.210407],[3540.651564],[11605.71449],[4471.061906],[40675.99635],[25523.277100000003],[28569.7197],[7320.8802620000015],[31656.06806],[4519.461171],[1463.249282],[1593.0654800000002],[23348.13973000001],[47306.98978],[10461.05868],[1569.3314419999997],[414.5073415],[12057.499279999998],[1044.770126],[759.3499101],[12451.655800000002],[1042.581557],[1803.151496],[10956.99112],[11977.574960000002],[3095.7722710000003],[9253.896111],[3820.17523],[823.6856205],[944.0],[4811.060429],[1091.359778],[36797.93332],[25185.00911],[2749.320965],[619.6768923999998],[2013.977305],[49357.19017],[22316.19287],[2605.94758],[9809.185636],[4172.838464],[7408.905561],[3190.4810159999997],[15389.924680000002],[20509.64777],[19328.70901],[7670.122558],[10808.47561],[863.0884639000002],[1598.435089],[21654.83194],[1712.472136],[9786.534714],[862.5407561000002],[47143.17964],[18678.31435],[25768.25759],[926.1410683],[9269.657808],[28821.0637],[3970.095407],[2602.394995],[4513.480643],[33859.74835],[37506.41907],[4184.548089],[28718.27684],[1107.482182],[7458.396326999998],[882.9699437999998],[18008.50924],[7092.923025],[8458.276384],[1056.380121],[33203.26128],[42951.65309],[10611.46299],[11415.80569],[2441.576404],[3025.349798],[2280.769906],[1271.211593],[469.70929810000007],[7245.464936475502],[19234.6336635938],[28049.89284137433],[30427.030186460728],[30527.804752662116],[25739.34792144935]],\"domain\":{\"x\":[0.0,1.0],\"y\":[0.0,1.0]},\"hovertemplate\":\"labels=%{label}<br>gdpPercap_sum=%{value}<br>parent=%{parent}<br>id=%{id}<br>gdpPercap=%{color}<extra></extra>\",\"ids\":[\"World/Asia/Afghanistan\",\"World/Europe/Albania\",\"World/Africa/Algeria\",\"World/Africa/Angola\",\"World/Americas/Argentina\",\"World/Oceania/Australia\",\"World/Europe/Austria\",\"World/Asia/Bahrain\",\"World/Asia/Bangladesh\",\"World/Europe/Belgium\",\"World/Africa/Benin\",\"World/Americas/Bolivia\",\"World/Europe/Bosnia and Herzegovina\",\"World/Africa/Botswana\",\"World/Americas/Brazil\",\"World/Europe/Bulgaria\",\"World/Africa/Burkina Faso\",\"World/Africa/Burundi\",\"World/Asia/Cambodia\",\"World/Africa/Cameroon\",\"World/Americas/Canada\",\"World/Africa/Central African Republic\",\"World/Africa/Chad\",\"World/Americas/Chile\",\"World/Asia/China\",\"World/Americas/Colombia\",\"World/Africa/Comoros\",\"World/Africa/Congo, Dem. Rep.\",\"World/Africa/Congo, Rep.\",\"World/Americas/Costa Rica\",\"World/Africa/Cote d'Ivoire\",\"World/Europe/Croatia\",\"World/Americas/Cuba\",\"World/Europe/Czech Republic\",\"World/Europe/Denmark\",\"World/Africa/Djibouti\",\"World/Americas/Dominican Republic\",\"World/Americas/Ecuador\",\"World/Africa/Egypt\",\"World/Americas/El Salvador\",\"World/Africa/Equatorial Guinea\",\"World/Africa/Eritrea\",\"World/Africa/Ethiopia\",\"World/Europe/Finland\",\"World/Europe/France\",\"World/Africa/Gabon\",\"World/Africa/Gambia\",\"World/Europe/Germany\",\"World/Africa/Ghana\",\"World/Europe/Greece\",\"World/Americas/Guatemala\",\"World/Africa/Guinea\",\"World/Africa/Guinea-Bissau\",\"World/Americas/Haiti\",\"World/Americas/Honduras\",\"World/Asia/Hong Kong, China\",\"World/Europe/Hungary\",\"World/Europe/Iceland\",\"World/Asia/India\",\"World/Asia/Indonesia\",\"World/Asia/Iran\",\"World/Asia/Iraq\",\"World/Europe/Ireland\",\"World/Asia/Israel\",\"World/Europe/Italy\",\"World/Americas/Jamaica\",\"World/Asia/Japan\",\"World/Asia/Jordan\",\"World/Africa/Kenya\",\"World/Asia/Korea, Dem. Rep.\",\"World/Asia/Korea, Rep.\",\"World/Asia/Kuwait\",\"World/Asia/Lebanon\",\"World/Africa/Lesotho\",\"World/Africa/Liberia\",\"World/Africa/Libya\",\"World/Africa/Madagascar\",\"World/Africa/Malawi\",\"World/Asia/Malaysia\",\"World/Africa/Mali\",\"World/Africa/Mauritania\",\"World/Africa/Mauritius\",\"World/Americas/Mexico\",\"World/Asia/Mongolia\",\"World/Europe/Montenegro\",\"World/Africa/Morocco\",\"World/Africa/Mozambique\",\"World/Asia/Myanmar\",\"World/Africa/Namibia\",\"World/Asia/Nepal\",\"World/Europe/Netherlands\",\"World/Oceania/New Zealand\",\"World/Americas/Nicaragua\",\"World/Africa/Niger\",\"World/Africa/Nigeria\",\"World/Europe/Norway\",\"World/Asia/Oman\",\"World/Asia/Pakistan\",\"World/Americas/Panama\",\"World/Americas/Paraguay\",\"World/Americas/Peru\",\"World/Asia/Philippines\",\"World/Europe/Poland\",\"World/Europe/Portugal\",\"World/Americas/Puerto Rico\",\"World/Africa/Reunion\",\"World/Europe/Romania\",\"World/Africa/Rwanda\",\"World/Africa/Sao Tome and Principe\",\"World/Asia/Saudi Arabia\",\"World/Africa/Senegal\",\"World/Europe/Serbia\",\"World/Africa/Sierra Leone\",\"World/Asia/Singapore\",\"World/Europe/Slovak Republic\",\"World/Europe/Slovenia\",\"World/Africa/Somalia\",\"World/Africa/South Africa\",\"World/Europe/Spain\",\"World/Asia/Sri Lanka\",\"World/Africa/Sudan\",\"World/Africa/Swaziland\",\"World/Europe/Sweden\",\"World/Europe/Switzerland\",\"World/Asia/Syria\",\"World/Asia/Taiwan\",\"World/Africa/Tanzania\",\"World/Asia/Thailand\",\"World/Africa/Togo\",\"World/Americas/Trinidad and Tobago\",\"World/Africa/Tunisia\",\"World/Europe/Turkey\",\"World/Africa/Uganda\",\"World/Europe/United Kingdom\",\"World/Americas/United States\",\"World/Americas/Uruguay\",\"World/Americas/Venezuela\",\"World/Asia/Vietnam\",\"World/Asia/West Bank and Gaza\",\"World/Asia/Yemen, Rep.\",\"World/Africa/Zambia\",\"World/Africa/Zimbabwe\",\"World/Africa\",\"World/Americas\",\"World/Asia\",\"World/Europe\",\"World/Oceania\",\"World\"],\"labels\":[\"Afghanistan\",\"Albania\",\"Algeria\",\"Angola\",\"Argentina\",\"Australia\",\"Austria\",\"Bahrain\",\"Bangladesh\",\"Belgium\",\"Benin\",\"Bolivia\",\"Bosnia and Herzegovina\",\"Botswana\",\"Brazil\",\"Bulgaria\",\"Burkina Faso\",\"Burundi\",\"Cambodia\",\"Cameroon\",\"Canada\",\"Central African Republic\",\"Chad\",\"Chile\",\"China\",\"Colombia\",\"Comoros\",\"Congo, Dem. Rep.\",\"Congo, Rep.\",\"Costa Rica\",\"Cote d'Ivoire\",\"Croatia\",\"Cuba\",\"Czech Republic\",\"Denmark\",\"Djibouti\",\"Dominican Republic\",\"Ecuador\",\"Egypt\",\"El Salvador\",\"Equatorial Guinea\",\"Eritrea\",\"Ethiopia\",\"Finland\",\"France\",\"Gabon\",\"Gambia\",\"Germany\",\"Ghana\",\"Greece\",\"Guatemala\",\"Guinea\",\"Guinea-Bissau\",\"Haiti\",\"Honduras\",\"Hong Kong, China\",\"Hungary\",\"Iceland\",\"India\",\"Indonesia\",\"Iran\",\"Iraq\",\"Ireland\",\"Israel\",\"Italy\",\"Jamaica\",\"Japan\",\"Jordan\",\"Kenya\",\"Korea, Dem. Rep.\",\"Korea, Rep.\",\"Kuwait\",\"Lebanon\",\"Lesotho\",\"Liberia\",\"Libya\",\"Madagascar\",\"Malawi\",\"Malaysia\",\"Mali\",\"Mauritania\",\"Mauritius\",\"Mexico\",\"Mongolia\",\"Montenegro\",\"Morocco\",\"Mozambique\",\"Myanmar\",\"Namibia\",\"Nepal\",\"Netherlands\",\"New Zealand\",\"Nicaragua\",\"Niger\",\"Nigeria\",\"Norway\",\"Oman\",\"Pakistan\",\"Panama\",\"Paraguay\",\"Peru\",\"Philippines\",\"Poland\",\"Portugal\",\"Puerto Rico\",\"Reunion\",\"Romania\",\"Rwanda\",\"Sao Tome and Principe\",\"Saudi Arabia\",\"Senegal\",\"Serbia\",\"Sierra Leone\",\"Singapore\",\"Slovak Republic\",\"Slovenia\",\"Somalia\",\"South Africa\",\"Spain\",\"Sri Lanka\",\"Sudan\",\"Swaziland\",\"Sweden\",\"Switzerland\",\"Syria\",\"Taiwan\",\"Tanzania\",\"Thailand\",\"Togo\",\"Trinidad and Tobago\",\"Tunisia\",\"Turkey\",\"Uganda\",\"United Kingdom\",\"United States\",\"Uruguay\",\"Venezuela\",\"Vietnam\",\"West Bank and Gaza\",\"Yemen, Rep.\",\"Zambia\",\"Zimbabwe\",\"Africa\",\"Americas\",\"Asia\",\"Europe\",\"Oceania\",\"World\"],\"marker\":{\"coloraxis\":\"coloraxis\",\"colors\":[974.5803384,5937.029525999998,6223.367465,4797.231267,12779.37964,34435.367439999995,36126.4927,29796.04834,1391.253792,33692.60508,1441.284873,3822.137084,7446.298803,12569.85177,9065.800825,10680.79282,1217.032994,430.0706916,1713.7786859999999,2042.09524,36319.23501,706.016537,1704.063724,13171.63885,4959.114854,7006.580419,986.1478792,277.5518587,3632.557798,9645.06142,1544.7501119999997,14619.222719999996,8948.102923,22833.30851,35278.41874,2082.4815670000007,6025.3747520000015,6873.262326000001,5581.180998,5728.353514,12154.08975,641.3695236000002,690.8055759,33207.0844,30470.0167,13206.484519999998,752.7497264999998,32170.37442,1327.60891,27538.41188,5186.050003,942.6542111,579.2317429999998,1201.637154,3548.3308460000007,39724.97867,18008.94444,36180.78919,2452.210407,3540.651564,11605.71449,4471.061906,40675.99635,25523.277100000003,28569.7197,7320.8802620000015,31656.06806,4519.461171,1463.249282,1593.0654800000002,23348.13973000001,47306.98978,10461.05868,1569.3314419999997,414.5073415,12057.499279999998,1044.770126,759.3499101,12451.655800000002,1042.581557,1803.151496,10956.99112,11977.574960000002,3095.7722710000003,9253.896111,3820.17523,823.6856205,944.0,4811.060429,1091.359778,36797.93332,25185.00911,2749.320965,619.6768923999998,2013.977305,49357.19017,22316.19287,2605.94758,9809.185636,4172.838464,7408.905561,3190.4810159999997,15389.924680000002,20509.64777,19328.70901,7670.122558,10808.47561,863.0884639000002,1598.435089,21654.83194,1712.472136,9786.534714,862.5407561000002,47143.17964,18678.31435,25768.25759,926.1410683,9269.657808,28821.0637,3970.095407,2602.394995,4513.480643,33859.74835,37506.41907,4184.548089,28718.27684,1107.482182,7458.396326999998,882.9699437999998,18008.50924,7092.923025,8458.276384,1056.380121,33203.26128,42951.65309,10611.46299,11415.80569,2441.576404,3025.349798,2280.769906,1271.211593,469.70929810000007,7245.464936475502,19234.6336635938,28049.89284137433,30427.030186460728,30527.804752662116,25739.34792144935]},\"name\":\"\",\"parents\":[\"World/Asia\",\"World/Europe\",\"World/Africa\",\"World/Africa\",\"World/Americas\",\"World/Oceania\",\"World/Europe\",\"World/Asia\",\"World/Asia\",\"World/Europe\",\"World/Africa\",\"World/Americas\",\"World/Europe\",\"World/Africa\",\"World/Americas\",\"World/Europe\",\"World/Africa\",\"World/Africa\",\"World/Asia\",\"World/Africa\",\"World/Americas\",\"World/Africa\",\"World/Africa\",\"World/Americas\",\"World/Asia\",\"World/Americas\",\"World/Africa\",\"World/Africa\",\"World/Africa\",\"World/Americas\",\"World/Africa\",\"World/Europe\",\"World/Americas\",\"World/Europe\",\"World/Europe\",\"World/Africa\",\"World/Americas\",\"World/Americas\",\"World/Africa\",\"World/Americas\",\"World/Africa\",\"World/Africa\",\"World/Africa\",\"World/Europe\",\"World/Europe\",\"World/Africa\",\"World/Africa\",\"World/Europe\",\"World/Africa\",\"World/Europe\",\"World/Americas\",\"World/Africa\",\"World/Africa\",\"World/Americas\",\"World/Americas\",\"World/Asia\",\"World/Europe\",\"World/Europe\",\"World/Asia\",\"World/Asia\",\"World/Asia\",\"World/Asia\",\"World/Europe\",\"World/Asia\",\"World/Europe\",\"World/Americas\",\"World/Asia\",\"World/Asia\",\"World/Africa\",\"World/Asia\",\"World/Asia\",\"World/Asia\",\"World/Asia\",\"World/Africa\",\"World/Africa\",\"World/Africa\",\"World/Africa\",\"World/Africa\",\"World/Asia\",\"World/Africa\",\"World/Africa\",\"World/Africa\",\"World/Americas\",\"World/Asia\",\"World/Europe\",\"World/Africa\",\"World/Africa\",\"World/Asia\",\"World/Africa\",\"World/Asia\",\"World/Europe\",\"World/Oceania\",\"World/Americas\",\"World/Africa\",\"World/Africa\",\"World/Europe\",\"World/Asia\",\"World/Asia\",\"World/Americas\",\"World/Americas\",\"World/Americas\",\"World/Asia\",\"World/Europe\",\"World/Europe\",\"World/Americas\",\"World/Africa\",\"World/Europe\",\"World/Africa\",\"World/Africa\",\"World/Asia\",\"World/Africa\",\"World/Europe\",\"World/Africa\",\"World/Asia\",\"World/Europe\",\"World/Europe\",\"World/Africa\",\"World/Africa\",\"World/Europe\",\"World/Asia\",\"World/Africa\",\"World/Africa\",\"World/Europe\",\"World/Europe\",\"World/Asia\",\"World/Asia\",\"World/Africa\",\"World/Asia\",\"World/Africa\",\"World/Americas\",\"World/Africa\",\"World/Europe\",\"World/Africa\",\"World/Europe\",\"World/Americas\",\"World/Americas\",\"World/Americas\",\"World/Asia\",\"World/Asia\",\"World/Asia\",\"World/Africa\",\"World/Africa\",\"World\",\"World\",\"World\",\"World\",\"World\",\"\"],\"values\":[974.5803384,5937.029525999998,6223.367465,4797.231267,12779.37964,34435.367439999995,36126.4927,29796.04834,1391.253792,33692.60508,1441.284873,3822.137084,7446.298803,12569.85177,9065.800825,10680.79282,1217.032994,430.0706916,1713.778686,2042.09524,36319.23501,706.016537,1704.063724,13171.63885,4959.114854,7006.580419,986.1478792,277.5518587,3632.557798,9645.06142,1544.750112,14619.222719999998,8948.102923,22833.30851,35278.41874,2082.4815670000007,6025.3747520000015,6873.262326000001,5581.180998,5728.353514,12154.08975,641.3695236000002,690.8055759,33207.0844,30470.0167,13206.48452,752.7497265,32170.37442,1327.60891,27538.41188,5186.050003,942.6542111,579.2317429999998,1201.637154,3548.3308460000007,39724.97867,18008.94444,36180.78919,2452.210407,3540.651564,11605.71449,4471.061906,40675.99635,25523.2771,28569.7197,7320.8802620000015,31656.06806,4519.461171,1463.249282,1593.06548,23348.139730000006,47306.98978,10461.05868,1569.331442,414.5073415,12057.49928,1044.770126,759.3499101,12451.6558,1042.581557,1803.151496,10956.99112,11977.57496,3095.7722710000007,9253.896111,3820.17523,823.6856205,944.0,4811.060429,1091.359778,36797.93332,25185.00911,2749.320965,619.6768923999998,2013.977305,49357.19017,22316.19287,2605.94758,9809.185636,4172.838464,7408.905561,3190.481016,15389.924680000002,20509.64777,19328.70901,7670.122558,10808.47561,863.0884639000002,1598.435089,21654.83194,1712.472136,9786.534714,862.5407561000002,47143.17964,18678.31435,25768.25759,926.1410683,9269.657808,28821.0637,3970.095407,2602.394995,4513.480643,33859.74835,37506.41907,4184.548089,28718.27684,1107.482182,7458.396326999998,882.9699437999999,18008.50924,7092.923025,8458.276384,1056.380121,33203.26128,42951.65309,10611.46299,11415.80569,2441.576404,3025.349798,2280.769906,1271.211593,469.70929810000007,160629.6954463,275075.790634,411609.8867144,751634.449078,59620.37654999999,1658570.1984227],\"type\":\"treemap\"}],                        {\"template\":{\"data\":{\"histogram2dcontour\":[{\"type\":\"histogram2dcontour\",\"colorbar\":{\"outlinewidth\":0,\"ticks\":\"\"},\"colorscale\":[[0.0,\"#0d0887\"],[0.1111111111111111,\"#46039f\"],[0.2222222222222222,\"#7201a8\"],[0.3333333333333333,\"#9c179e\"],[0.4444444444444444,\"#bd3786\"],[0.5555555555555556,\"#d8576b\"],[0.6666666666666666,\"#ed7953\"],[0.7777777777777778,\"#fb9f3a\"],[0.8888888888888888,\"#fdca26\"],[1.0,\"#f0f921\"]]}],\"choropleth\":[{\"type\":\"choropleth\",\"colorbar\":{\"outlinewidth\":0,\"ticks\":\"\"}}],\"histogram2d\":[{\"type\":\"histogram2d\",\"colorbar\":{\"outlinewidth\":0,\"ticks\":\"\"},\"colorscale\":[[0.0,\"#0d0887\"],[0.1111111111111111,\"#46039f\"],[0.2222222222222222,\"#7201a8\"],[0.3333333333333333,\"#9c179e\"],[0.4444444444444444,\"#bd3786\"],[0.5555555555555556,\"#d8576b\"],[0.6666666666666666,\"#ed7953\"],[0.7777777777777778,\"#fb9f3a\"],[0.8888888888888888,\"#fdca26\"],[1.0,\"#f0f921\"]]}],\"heatmap\":[{\"type\":\"heatmap\",\"colorbar\":{\"outlinewidth\":0,\"ticks\":\"\"},\"colorscale\":[[0.0,\"#0d0887\"],[0.1111111111111111,\"#46039f\"],[0.2222222222222222,\"#7201a8\"],[0.3333333333333333,\"#9c179e\"],[0.4444444444444444,\"#bd3786\"],[0.5555555555555556,\"#d8576b\"],[0.6666666666666666,\"#ed7953\"],[0.7777777777777778,\"#fb9f3a\"],[0.8888888888888888,\"#fdca26\"],[1.0,\"#f0f921\"]]}],\"heatmapgl\":[{\"type\":\"heatmapgl\",\"colorbar\":{\"outlinewidth\":0,\"ticks\":\"\"},\"colorscale\":[[0.0,\"#0d0887\"],[0.1111111111111111,\"#46039f\"],[0.2222222222222222,\"#7201a8\"],[0.3333333333333333,\"#9c179e\"],[0.4444444444444444,\"#bd3786\"],[0.5555555555555556,\"#d8576b\"],[0.6666666666666666,\"#ed7953\"],[0.7777777777777778,\"#fb9f3a\"],[0.8888888888888888,\"#fdca26\"],[1.0,\"#f0f921\"]]}],\"contourcarpet\":[{\"type\":\"contourcarpet\",\"colorbar\":{\"outlinewidth\":0,\"ticks\":\"\"}}],\"contour\":[{\"type\":\"contour\",\"colorbar\":{\"outlinewidth\":0,\"ticks\":\"\"},\"colorscale\":[[0.0,\"#0d0887\"],[0.1111111111111111,\"#46039f\"],[0.2222222222222222,\"#7201a8\"],[0.3333333333333333,\"#9c179e\"],[0.4444444444444444,\"#bd3786\"],[0.5555555555555556,\"#d8576b\"],[0.6666666666666666,\"#ed7953\"],[0.7777777777777778,\"#fb9f3a\"],[0.8888888888888888,\"#fdca26\"],[1.0,\"#f0f921\"]]}],\"surface\":[{\"type\":\"surface\",\"colorbar\":{\"outlinewidth\":0,\"ticks\":\"\"},\"colorscale\":[[0.0,\"#0d0887\"],[0.1111111111111111,\"#46039f\"],[0.2222222222222222,\"#7201a8\"],[0.3333333333333333,\"#9c179e\"],[0.4444444444444444,\"#bd3786\"],[0.5555555555555556,\"#d8576b\"],[0.6666666666666666,\"#ed7953\"],[0.7777777777777778,\"#fb9f3a\"],[0.8888888888888888,\"#fdca26\"],[1.0,\"#f0f921\"]]}],\"mesh3d\":[{\"type\":\"mesh3d\",\"colorbar\":{\"outlinewidth\":0,\"ticks\":\"\"}}],\"scatter\":[{\"fillpattern\":{\"fillmode\":\"overlay\",\"size\":10,\"solidity\":0.2},\"type\":\"scatter\"}],\"parcoords\":[{\"type\":\"parcoords\",\"line\":{\"colorbar\":{\"outlinewidth\":0,\"ticks\":\"\"}}}],\"scatterpolargl\":[{\"type\":\"scatterpolargl\",\"marker\":{\"colorbar\":{\"outlinewidth\":0,\"ticks\":\"\"}}}],\"bar\":[{\"error_x\":{\"color\":\"#2a3f5f\"},\"error_y\":{\"color\":\"#2a3f5f\"},\"marker\":{\"line\":{\"color\":\"#E5ECF6\",\"width\":0.5},\"pattern\":{\"fillmode\":\"overlay\",\"size\":10,\"solidity\":0.2}},\"type\":\"bar\"}],\"scattergeo\":[{\"type\":\"scattergeo\",\"marker\":{\"colorbar\":{\"outlinewidth\":0,\"ticks\":\"\"}}}],\"scatterpolar\":[{\"type\":\"scatterpolar\",\"marker\":{\"colorbar\":{\"outlinewidth\":0,\"ticks\":\"\"}}}],\"histogram\":[{\"marker\":{\"pattern\":{\"fillmode\":\"overlay\",\"size\":10,\"solidity\":0.2}},\"type\":\"histogram\"}],\"scattergl\":[{\"type\":\"scattergl\",\"marker\":{\"colorbar\":{\"outlinewidth\":0,\"ticks\":\"\"}}}],\"scatter3d\":[{\"type\":\"scatter3d\",\"line\":{\"colorbar\":{\"outlinewidth\":0,\"ticks\":\"\"}},\"marker\":{\"colorbar\":{\"outlinewidth\":0,\"ticks\":\"\"}}}],\"scattermapbox\":[{\"type\":\"scattermapbox\",\"marker\":{\"colorbar\":{\"outlinewidth\":0,\"ticks\":\"\"}}}],\"scatterternary\":[{\"type\":\"scatterternary\",\"marker\":{\"colorbar\":{\"outlinewidth\":0,\"ticks\":\"\"}}}],\"scattercarpet\":[{\"type\":\"scattercarpet\",\"marker\":{\"colorbar\":{\"outlinewidth\":0,\"ticks\":\"\"}}}],\"carpet\":[{\"aaxis\":{\"endlinecolor\":\"#2a3f5f\",\"gridcolor\":\"white\",\"linecolor\":\"white\",\"minorgridcolor\":\"white\",\"startlinecolor\":\"#2a3f5f\"},\"baxis\":{\"endlinecolor\":\"#2a3f5f\",\"gridcolor\":\"white\",\"linecolor\":\"white\",\"minorgridcolor\":\"white\",\"startlinecolor\":\"#2a3f5f\"},\"type\":\"carpet\"}],\"table\":[{\"cells\":{\"fill\":{\"color\":\"#EBF0F8\"},\"line\":{\"color\":\"white\"}},\"header\":{\"fill\":{\"color\":\"#C8D4E3\"},\"line\":{\"color\":\"white\"}},\"type\":\"table\"}],\"barpolar\":[{\"marker\":{\"line\":{\"color\":\"#E5ECF6\",\"width\":0.5},\"pattern\":{\"fillmode\":\"overlay\",\"size\":10,\"solidity\":0.2}},\"type\":\"barpolar\"}],\"pie\":[{\"automargin\":true,\"type\":\"pie\"}]},\"layout\":{\"autotypenumbers\":\"strict\",\"colorway\":[\"#636efa\",\"#EF553B\",\"#00cc96\",\"#ab63fa\",\"#FFA15A\",\"#19d3f3\",\"#FF6692\",\"#B6E880\",\"#FF97FF\",\"#FECB52\"],\"font\":{\"color\":\"#2a3f5f\"},\"hovermode\":\"closest\",\"hoverlabel\":{\"align\":\"left\"},\"paper_bgcolor\":\"white\",\"plot_bgcolor\":\"#E5ECF6\",\"polar\":{\"bgcolor\":\"#E5ECF6\",\"angularaxis\":{\"gridcolor\":\"white\",\"linecolor\":\"white\",\"ticks\":\"\"},\"radialaxis\":{\"gridcolor\":\"white\",\"linecolor\":\"white\",\"ticks\":\"\"}},\"ternary\":{\"bgcolor\":\"#E5ECF6\",\"aaxis\":{\"gridcolor\":\"white\",\"linecolor\":\"white\",\"ticks\":\"\"},\"baxis\":{\"gridcolor\":\"white\",\"linecolor\":\"white\",\"ticks\":\"\"},\"caxis\":{\"gridcolor\":\"white\",\"linecolor\":\"white\",\"ticks\":\"\"}},\"coloraxis\":{\"colorbar\":{\"outlinewidth\":0,\"ticks\":\"\"}},\"colorscale\":{\"sequential\":[[0.0,\"#0d0887\"],[0.1111111111111111,\"#46039f\"],[0.2222222222222222,\"#7201a8\"],[0.3333333333333333,\"#9c179e\"],[0.4444444444444444,\"#bd3786\"],[0.5555555555555556,\"#d8576b\"],[0.6666666666666666,\"#ed7953\"],[0.7777777777777778,\"#fb9f3a\"],[0.8888888888888888,\"#fdca26\"],[1.0,\"#f0f921\"]],\"sequentialminus\":[[0.0,\"#0d0887\"],[0.1111111111111111,\"#46039f\"],[0.2222222222222222,\"#7201a8\"],[0.3333333333333333,\"#9c179e\"],[0.4444444444444444,\"#bd3786\"],[0.5555555555555556,\"#d8576b\"],[0.6666666666666666,\"#ed7953\"],[0.7777777777777778,\"#fb9f3a\"],[0.8888888888888888,\"#fdca26\"],[1.0,\"#f0f921\"]],\"diverging\":[[0,\"#8e0152\"],[0.1,\"#c51b7d\"],[0.2,\"#de77ae\"],[0.3,\"#f1b6da\"],[0.4,\"#fde0ef\"],[0.5,\"#f7f7f7\"],[0.6,\"#e6f5d0\"],[0.7,\"#b8e186\"],[0.8,\"#7fbc41\"],[0.9,\"#4d9221\"],[1,\"#276419\"]]},\"xaxis\":{\"gridcolor\":\"white\",\"linecolor\":\"white\",\"ticks\":\"\",\"title\":{\"standoff\":15},\"zerolinecolor\":\"white\",\"automargin\":true,\"zerolinewidth\":2},\"yaxis\":{\"gridcolor\":\"white\",\"linecolor\":\"white\",\"ticks\":\"\",\"title\":{\"standoff\":15},\"zerolinecolor\":\"white\",\"automargin\":true,\"zerolinewidth\":2},\"scene\":{\"xaxis\":{\"backgroundcolor\":\"#E5ECF6\",\"gridcolor\":\"white\",\"linecolor\":\"white\",\"showbackground\":true,\"ticks\":\"\",\"zerolinecolor\":\"white\",\"gridwidth\":2},\"yaxis\":{\"backgroundcolor\":\"#E5ECF6\",\"gridcolor\":\"white\",\"linecolor\":\"white\",\"showbackground\":true,\"ticks\":\"\",\"zerolinecolor\":\"white\",\"gridwidth\":2},\"zaxis\":{\"backgroundcolor\":\"#E5ECF6\",\"gridcolor\":\"white\",\"linecolor\":\"white\",\"showbackground\":true,\"ticks\":\"\",\"zerolinecolor\":\"white\",\"gridwidth\":2}},\"shapedefaults\":{\"line\":{\"color\":\"#2a3f5f\"}},\"annotationdefaults\":{\"arrowcolor\":\"#2a3f5f\",\"arrowhead\":0,\"arrowwidth\":1},\"geo\":{\"bgcolor\":\"white\",\"landcolor\":\"#E5ECF6\",\"subunitcolor\":\"white\",\"showland\":true,\"showlakes\":true,\"lakecolor\":\"white\"},\"title\":{\"x\":0.05},\"mapbox\":{\"style\":\"light\"}}},\"coloraxis\":{\"colorbar\":{\"title\":{\"text\":\"gdpPercap\"}},\"colorscale\":[[0.0,\"#440154\"],[0.1111111111111111,\"#482878\"],[0.2222222222222222,\"#3e4989\"],[0.3333333333333333,\"#31688e\"],[0.4444444444444444,\"#26828e\"],[0.5555555555555556,\"#1f9e89\"],[0.6666666666666666,\"#35b779\"],[0.7777777777777778,\"#6ece58\"],[0.8888888888888888,\"#b5de2b\"],[1.0,\"#fde725\"]]},\"legend\":{\"tracegroupgap\":0},\"title\":{\"text\":\"2007 D\\u00fcnya Ki\\u015fi Ba\\u015f\\u0131na D\\u00fc\\u015fen Milli Gelir\"}},                        {\"responsive\": true}                    ).then(function(){\n",
       "                            \n",
       "var gd = document.getElementById('fc65f809-ec03-4a50-abc9-b6040141f009');\n",
       "var x = new MutationObserver(function (mutations, observer) {{\n",
       "        var display = window.getComputedStyle(gd).display;\n",
       "        if (!display || display === 'none') {{\n",
       "            console.log([gd, 'removed!']);\n",
       "            Plotly.purge(gd);\n",
       "            observer.disconnect();\n",
       "        }}\n",
       "}});\n",
       "\n",
       "// Listen for the removal of the full notebook cells\n",
       "var notebookContainer = gd.closest('#notebook-container');\n",
       "if (notebookContainer) {{\n",
       "    x.observe(notebookContainer, {childList: true});\n",
       "}}\n",
       "\n",
       "// Listen for the clearing of the current output cell\n",
       "var outputEl = gd.closest('.output');\n",
       "if (outputEl) {{\n",
       "    x.observe(outputEl, {childList: true});\n",
       "}}\n",
       "\n",
       "                        })                };                });            </script>        </div>"
      ]
     },
     "metadata": {},
     "output_type": "display_data"
    }
   ],
   "source": [
    "# Treemap görselleştirmesi\n",
    "fig = px.treemap(temp_df, \n",
    "                 path=[px.Constant('World'), 'continent', 'country'], \n",
    "                 values='gdpPercap',  # Kişi başına düşen milli gelir\n",
    "                 color='gdpPercap',  # Renk kişi başına düşen milli geliri gösterir\n",
    "                 color_continuous_scale='Viridis',\n",
    "                 title='2007 Dünya Kişi Başına Düşen Milli Gelir')\n",
    "\n",
    "# Görselleştirmeyi gösterme\n",
    "fig.show()"
   ]
  },
  {
   "cell_type": "code",
   "execution_count": 8,
   "id": "5d174930",
   "metadata": {},
   "outputs": [
    {
     "data": {
      "application/vnd.plotly.v1+json": {
       "config": {
        "plotlyServerURL": "https://plot.ly"
       },
       "data": [
        {
         "branchvalues": "total",
         "customdata": [
          [
           5760.05427777614
          ],
          [
           8024.762586578099
          ],
          [
           6558.719473682893
          ],
          [
           2160.33667889368
          ],
          [
           3199.8303280144246
          ],
          [
           5217.860814829314
          ],
          [
           7232.249074330179
          ],
          [
           2648.7222580640514
          ],
          [
           6150.26715211786
          ],
          [
           7232.784310699893
          ],
          [
           4858.918308511895
          ],
          [
           9027.31019514105
          ],
          [
           8632.074063900109
          ],
          [
           4239.802580305275
          ],
          [
           1286.5503657817706
          ],
          [
           2888.5937407760994
          ],
          [
           2616.433098036713
          ],
          [
           7825.407884525273
          ],
          [
           2939.5690940220265
          ],
          [
           6281.05911812352
          ],
          [
           9463.887507275318
          ],
          [
           9365.763851129715
          ],
          [
           9543.869401741133
          ],
          [
           5305.332763359893
          ],
          [
           9647.511922567002
          ],
          [
           2322.519808603375
          ],
          [
           3714.387710328482
          ],
          [
           7996.668056638779
          ],
          [
           3761.290895906765
          ],
          [
           9607.65150516354
          ],
          [
           3949.48361401407
          ],
          [
           6181.760458403852
          ],
          [
           9630.844496771262
          ],
          [
           3094.697163511512
          ],
          [
           6566.322335614731
          ],
          [
           6962.541143794084
          ],
          [
           1414.0657979856724
          ],
          [
           3100.7822992128667
          ],
          [
           3740.2156663958754
          ],
          [
           5066.395144027837
          ],
          [
           6330.073768856531
          ],
          [
           7755.355206360888
          ],
          [
           7394.755624501111
          ],
          [
           9299.003155904738
          ],
          [
           9539.749186484567
          ],
          [
           1875.1863306918217
          ],
          [
           8846.071612799436
          ],
          [
           3700.2602752833664
          ],
          [
           1539.4986842461594
          ],
          [
           9815.742364019128
          ],
          [
           4037.296435878159
          ],
          [
           8317.484769227147
          ],
          [
           9628.668307509337
          ],
          [
           6910.857625967534
          ],
          [
           9819.660937080784
          ],
          [
           4885.841148888873
          ],
          [
           7635.288183368296
          ],
          [
           4285.8988935400885
          ],
          [
           1595.3451590525924
          ],
          [
           8033.316402111952
          ],
          [
           4387.502396749162
          ],
          [
           2607.219712518907
          ],
          [
           8896.589102567075
          ],
          [
           4390.671402648881
          ],
          [
           8598.114653977216
          ],
          [
           3219.012458300405
          ],
          [
           4396.659153299986
          ],
          [
           2911.909251646369
          ],
          [
           8725.038747708362
          ],
          [
           7435.473377186503
          ],
          [
           7635.507217427511
          ],
          [
           4056.6793974957923
          ],
          [
           5021.892675515792
          ],
          [
           7623.045071269597
          ],
          [
           4750.225812178399
          ],
          [
           1511.895332308199
          ],
          [
           9110.459535842454
          ],
          [
           8380.201922827766
          ],
          [
           4023.797881062297
          ],
          [
           9005.031179342799
          ],
          [
           2588.4945000015414
          ],
          [
           6032.56403891532
          ],
          [
           1879.087307029517
          ],
          [
           1275.9494349314614
          ],
          [
           7779.161076329591
          ],
          [
           1612.8378931789593
          ],
          [
           7547.892486316749
          ],
          [
           3094.9540496300087
          ],
          [
           9689.64975223726
          ],
          [
           5686.1001233429815
          ],
          [
           2082.4961048152263
          ],
          [
           8453.319518950255
          ],
          [
           3365.1996069204015
          ],
          [
           6429.906930616702
          ],
          [
           8125.852790623338
          ],
          [
           6705.882291753168
          ],
          [
           9034.364478240834
          ],
          [
           7275.972257470463
          ],
          [
           6845.808017577672
          ],
          [
           4593.001452921184
          ],
          [
           8347.789280929203
          ],
          [
           2067.539665291893
          ],
          [
           4823.685290815206
          ],
          [
           5608.726443314061
          ],
          [
           9247.062968529168
          ],
          [
           1321.6841425043535
          ],
          [
           1920.851342988348
          ],
          [
           8479.280025958404
          ],
          [
           1880.2914533114747
          ],
          [
           9948.097748986858
          ],
          [
           6021.886605486694
          ],
          [
           9543.51910038828
          ],
          [
           1677.4955184946102
          ],
          [
           3501.9095031591933
          ],
          [
           3468.6613345847636
          ],
          [
           6005.198615054265
          ],
          [
           5384.3331422563715
          ],
          [
           1540.7016788193218
          ],
          [
           9982.205089822906
          ],
          [
           7317.798356495775
          ],
          [
           5351.13098353921
          ],
          [
           8357.079372563496
          ],
          [
           5267.663310372595
          ],
          [
           8218.616715060525
          ],
          [
           3049.668940125578
          ],
          [
           2781.8451994581537
          ],
          [
           7674.427964370913
          ],
          [
           7458.035501912733
          ],
          [
           6276.495893685562
          ],
          [
           9646.898261005907
          ],
          [
           7501.523668284127
          ],
          [
           9811.098271007406
          ],
          [
           7737.454052466201
          ],
          [
           1958.4578239395432
          ],
          [
           2010.0188424545968
          ],
          [
           8881.230432114307
          ],
          [
           5066.263162760326
          ],
          [
           5232.891541024369
          ],
          [
           7258.11821325577
          ],
          [
           4881.320621577083
          ],
          [
           2296.5268698175805
          ],
          [
           1296.5090367810915
          ],
          [
           7056.703597953014
          ],
          [
           7322.960000526126
          ],
          [
           6169.983486381634
          ],
          [
           7507.6094916046695
          ],
          [
           7218.4463932906065
          ],
          [
           7030.931649493071
          ]
         ],
         "domain": {
          "x": [
           0,
           1
          ],
          "y": [
           0,
           1
          ]
         },
         "hovertemplate": "labels=%{label}<br>defense_sum=%{value}<br>parent=%{parent}<br>id=%{id}<br>defense=%{color}<extra></extra>",
         "ids": [
          "World/Asia/Afghanistan",
          "World/Europe/Albania",
          "World/Africa/Algeria",
          "World/Africa/Angola",
          "World/Americas/Argentina",
          "World/Oceania/Australia",
          "World/Europe/Austria",
          "World/Asia/Bahrain",
          "World/Asia/Bangladesh",
          "World/Europe/Belgium",
          "World/Africa/Benin",
          "World/Americas/Bolivia",
          "World/Europe/Bosnia and Herzegovina",
          "World/Africa/Botswana",
          "World/Americas/Brazil",
          "World/Europe/Bulgaria",
          "World/Africa/Burkina Faso",
          "World/Africa/Burundi",
          "World/Asia/Cambodia",
          "World/Africa/Cameroon",
          "World/Americas/Canada",
          "World/Africa/Central African Republic",
          "World/Africa/Chad",
          "World/Americas/Chile",
          "World/Asia/China",
          "World/Americas/Colombia",
          "World/Africa/Comoros",
          "World/Africa/Congo, Dem. Rep.",
          "World/Africa/Congo, Rep.",
          "World/Americas/Costa Rica",
          "World/Africa/Cote d'Ivoire",
          "World/Europe/Croatia",
          "World/Americas/Cuba",
          "World/Europe/Czech Republic",
          "World/Europe/Denmark",
          "World/Africa/Djibouti",
          "World/Americas/Dominican Republic",
          "World/Americas/Ecuador",
          "World/Africa/Egypt",
          "World/Americas/El Salvador",
          "World/Africa/Equatorial Guinea",
          "World/Africa/Eritrea",
          "World/Africa/Ethiopia",
          "World/Europe/Finland",
          "World/Europe/France",
          "World/Africa/Gabon",
          "World/Africa/Gambia",
          "World/Europe/Germany",
          "World/Africa/Ghana",
          "World/Europe/Greece",
          "World/Americas/Guatemala",
          "World/Africa/Guinea",
          "World/Africa/Guinea-Bissau",
          "World/Americas/Haiti",
          "World/Americas/Honduras",
          "World/Asia/Hong Kong, China",
          "World/Europe/Hungary",
          "World/Europe/Iceland",
          "World/Asia/India",
          "World/Asia/Indonesia",
          "World/Asia/Iran",
          "World/Asia/Iraq",
          "World/Europe/Ireland",
          "World/Asia/Israel",
          "World/Europe/Italy",
          "World/Americas/Jamaica",
          "World/Asia/Japan",
          "World/Asia/Jordan",
          "World/Africa/Kenya",
          "World/Asia/Korea, Dem. Rep.",
          "World/Asia/Korea, Rep.",
          "World/Asia/Kuwait",
          "World/Asia/Lebanon",
          "World/Africa/Lesotho",
          "World/Africa/Liberia",
          "World/Africa/Libya",
          "World/Africa/Madagascar",
          "World/Africa/Malawi",
          "World/Asia/Malaysia",
          "World/Africa/Mali",
          "World/Africa/Mauritania",
          "World/Africa/Mauritius",
          "World/Americas/Mexico",
          "World/Asia/Mongolia",
          "World/Europe/Montenegro",
          "World/Africa/Morocco",
          "World/Africa/Mozambique",
          "World/Asia/Myanmar",
          "World/Africa/Namibia",
          "World/Asia/Nepal",
          "World/Europe/Netherlands",
          "World/Oceania/New Zealand",
          "World/Americas/Nicaragua",
          "World/Africa/Niger",
          "World/Africa/Nigeria",
          "World/Europe/Norway",
          "World/Asia/Oman",
          "World/Asia/Pakistan",
          "World/Americas/Panama",
          "World/Americas/Paraguay",
          "World/Americas/Peru",
          "World/Asia/Philippines",
          "World/Europe/Poland",
          "World/Europe/Portugal",
          "World/Americas/Puerto Rico",
          "World/Africa/Reunion",
          "World/Europe/Romania",
          "World/Africa/Rwanda",
          "World/Africa/Sao Tome and Principe",
          "World/Asia/Saudi Arabia",
          "World/Africa/Senegal",
          "World/Europe/Serbia",
          "World/Africa/Sierra Leone",
          "World/Asia/Singapore",
          "World/Europe/Slovak Republic",
          "World/Europe/Slovenia",
          "World/Africa/Somalia",
          "World/Africa/South Africa",
          "World/Europe/Spain",
          "World/Asia/Sri Lanka",
          "World/Africa/Sudan",
          "World/Africa/Swaziland",
          "World/Europe/Sweden",
          "World/Europe/Switzerland",
          "World/Asia/Syria",
          "World/Asia/Taiwan",
          "World/Africa/Tanzania",
          "World/Asia/Thailand",
          "World/Africa/Togo",
          "World/Americas/Trinidad and Tobago",
          "World/Africa/Tunisia",
          "World/Europe/Turkey",
          "World/Africa/Uganda",
          "World/Europe/United Kingdom",
          "World/Americas/United States",
          "World/Americas/Uruguay",
          "World/Americas/Venezuela",
          "World/Asia/Vietnam",
          "World/Asia/West Bank and Gaza",
          "World/Asia/Yemen, Rep.",
          "World/Africa/Zambia",
          "World/Africa/Zimbabwe",
          "World/Africa",
          "World/Americas",
          "World/Asia",
          "World/Europe",
          "World/Oceania",
          "World"
         ],
         "labels": [
          "Afghanistan",
          "Albania",
          "Algeria",
          "Angola",
          "Argentina",
          "Australia",
          "Austria",
          "Bahrain",
          "Bangladesh",
          "Belgium",
          "Benin",
          "Bolivia",
          "Bosnia and Herzegovina",
          "Botswana",
          "Brazil",
          "Bulgaria",
          "Burkina Faso",
          "Burundi",
          "Cambodia",
          "Cameroon",
          "Canada",
          "Central African Republic",
          "Chad",
          "Chile",
          "China",
          "Colombia",
          "Comoros",
          "Congo, Dem. Rep.",
          "Congo, Rep.",
          "Costa Rica",
          "Cote d'Ivoire",
          "Croatia",
          "Cuba",
          "Czech Republic",
          "Denmark",
          "Djibouti",
          "Dominican Republic",
          "Ecuador",
          "Egypt",
          "El Salvador",
          "Equatorial Guinea",
          "Eritrea",
          "Ethiopia",
          "Finland",
          "France",
          "Gabon",
          "Gambia",
          "Germany",
          "Ghana",
          "Greece",
          "Guatemala",
          "Guinea",
          "Guinea-Bissau",
          "Haiti",
          "Honduras",
          "Hong Kong, China",
          "Hungary",
          "Iceland",
          "India",
          "Indonesia",
          "Iran",
          "Iraq",
          "Ireland",
          "Israel",
          "Italy",
          "Jamaica",
          "Japan",
          "Jordan",
          "Kenya",
          "Korea, Dem. Rep.",
          "Korea, Rep.",
          "Kuwait",
          "Lebanon",
          "Lesotho",
          "Liberia",
          "Libya",
          "Madagascar",
          "Malawi",
          "Malaysia",
          "Mali",
          "Mauritania",
          "Mauritius",
          "Mexico",
          "Mongolia",
          "Montenegro",
          "Morocco",
          "Mozambique",
          "Myanmar",
          "Namibia",
          "Nepal",
          "Netherlands",
          "New Zealand",
          "Nicaragua",
          "Niger",
          "Nigeria",
          "Norway",
          "Oman",
          "Pakistan",
          "Panama",
          "Paraguay",
          "Peru",
          "Philippines",
          "Poland",
          "Portugal",
          "Puerto Rico",
          "Reunion",
          "Romania",
          "Rwanda",
          "Sao Tome and Principe",
          "Saudi Arabia",
          "Senegal",
          "Serbia",
          "Sierra Leone",
          "Singapore",
          "Slovak Republic",
          "Slovenia",
          "Somalia",
          "South Africa",
          "Spain",
          "Sri Lanka",
          "Sudan",
          "Swaziland",
          "Sweden",
          "Switzerland",
          "Syria",
          "Taiwan",
          "Tanzania",
          "Thailand",
          "Togo",
          "Trinidad and Tobago",
          "Tunisia",
          "Turkey",
          "Uganda",
          "United Kingdom",
          "United States",
          "Uruguay",
          "Venezuela",
          "Vietnam",
          "West Bank and Gaza",
          "Yemen, Rep.",
          "Zambia",
          "Zimbabwe",
          "Africa",
          "Americas",
          "Asia",
          "Europe",
          "Oceania",
          "World"
         ],
         "marker": {
          "coloraxis": "coloraxis",
          "colors": [
           5760.05427777614,
           8024.762586578099,
           6558.719473682893,
           2160.33667889368,
           3199.8303280144246,
           5217.860814829314,
           7232.249074330179,
           2648.7222580640514,
           6150.26715211786,
           7232.784310699893,
           4858.918308511895,
           9027.31019514105,
           8632.074063900109,
           4239.802580305275,
           1286.5503657817706,
           2888.5937407760994,
           2616.433098036713,
           7825.407884525273,
           2939.5690940220265,
           6281.05911812352,
           9463.887507275318,
           9365.763851129715,
           9543.869401741133,
           5305.332763359893,
           9647.511922567002,
           2322.519808603375,
           3714.387710328482,
           7996.668056638779,
           3761.290895906765,
           9607.65150516354,
           3949.48361401407,
           6181.760458403852,
           9630.844496771262,
           3094.697163511512,
           6566.322335614731,
           6962.541143794084,
           1414.0657979856724,
           3100.7822992128667,
           3740.2156663958754,
           5066.395144027837,
           6330.073768856531,
           7755.355206360888,
           7394.755624501111,
           9299.003155904738,
           9539.749186484567,
           1875.1863306918217,
           8846.071612799436,
           3700.2602752833664,
           1539.4986842461594,
           9815.742364019128,
           4037.296435878159,
           8317.484769227147,
           9628.668307509337,
           6910.857625967534,
           9819.660937080784,
           4885.841148888873,
           7635.288183368296,
           4285.8988935400885,
           1595.3451590525924,
           8033.316402111952,
           4387.502396749162,
           2607.219712518907,
           8896.589102567075,
           4390.671402648881,
           8598.114653977216,
           3219.012458300405,
           4396.659153299986,
           2911.909251646369,
           8725.038747708362,
           7435.473377186503,
           7635.507217427511,
           4056.6793974957923,
           5021.892675515792,
           7623.045071269597,
           4750.225812178399,
           1511.895332308199,
           9110.459535842454,
           8380.201922827766,
           4023.797881062297,
           9005.031179342799,
           2588.4945000015414,
           6032.56403891532,
           1879.087307029517,
           1275.9494349314614,
           7779.161076329591,
           1612.8378931789593,
           7547.892486316749,
           3094.9540496300087,
           9689.64975223726,
           5686.1001233429815,
           2082.4961048152263,
           8453.319518950255,
           3365.1996069204015,
           6429.906930616702,
           8125.852790623338,
           6705.882291753168,
           9034.364478240834,
           7275.972257470463,
           6845.808017577672,
           4593.001452921184,
           8347.789280929203,
           2067.539665291893,
           4823.685290815206,
           5608.726443314061,
           9247.062968529168,
           1321.6841425043535,
           1920.851342988348,
           8479.280025958404,
           1880.2914533114747,
           9948.097748986858,
           6021.886605486694,
           9543.51910038828,
           1677.4955184946102,
           3501.9095031591933,
           3468.6613345847636,
           6005.198615054265,
           5384.3331422563715,
           1540.7016788193218,
           9982.205089822906,
           7317.798356495775,
           5351.13098353921,
           8357.079372563496,
           5267.663310372595,
           8218.616715060525,
           3049.668940125578,
           2781.8451994581537,
           7674.427964370913,
           7458.035501912733,
           6276.495893685562,
           9646.898261005907,
           7501.523668284127,
           9811.098271007406,
           7737.454052466201,
           1958.4578239395432,
           2010.0188424545968,
           8881.230432114307,
           5066.263162760326,
           5232.891541024369,
           7258.11821325577,
           4881.320621577083,
           2296.5268698175805,
           1296.5090367810915,
           7056.703597953014,
           7322.960000526126,
           6169.983486381634,
           7507.6094916046695,
           7218.4463932906065,
           7030.931649493071
          ]
         },
         "name": "",
         "parents": [
          "World/Asia",
          "World/Europe",
          "World/Africa",
          "World/Africa",
          "World/Americas",
          "World/Oceania",
          "World/Europe",
          "World/Asia",
          "World/Asia",
          "World/Europe",
          "World/Africa",
          "World/Americas",
          "World/Europe",
          "World/Africa",
          "World/Americas",
          "World/Europe",
          "World/Africa",
          "World/Africa",
          "World/Asia",
          "World/Africa",
          "World/Americas",
          "World/Africa",
          "World/Africa",
          "World/Americas",
          "World/Asia",
          "World/Americas",
          "World/Africa",
          "World/Africa",
          "World/Africa",
          "World/Americas",
          "World/Africa",
          "World/Europe",
          "World/Americas",
          "World/Europe",
          "World/Europe",
          "World/Africa",
          "World/Americas",
          "World/Americas",
          "World/Africa",
          "World/Americas",
          "World/Africa",
          "World/Africa",
          "World/Africa",
          "World/Europe",
          "World/Europe",
          "World/Africa",
          "World/Africa",
          "World/Europe",
          "World/Africa",
          "World/Europe",
          "World/Americas",
          "World/Africa",
          "World/Africa",
          "World/Americas",
          "World/Americas",
          "World/Asia",
          "World/Europe",
          "World/Europe",
          "World/Asia",
          "World/Asia",
          "World/Asia",
          "World/Asia",
          "World/Europe",
          "World/Asia",
          "World/Europe",
          "World/Americas",
          "World/Asia",
          "World/Asia",
          "World/Africa",
          "World/Asia",
          "World/Asia",
          "World/Asia",
          "World/Asia",
          "World/Africa",
          "World/Africa",
          "World/Africa",
          "World/Africa",
          "World/Africa",
          "World/Asia",
          "World/Africa",
          "World/Africa",
          "World/Africa",
          "World/Americas",
          "World/Asia",
          "World/Europe",
          "World/Africa",
          "World/Africa",
          "World/Asia",
          "World/Africa",
          "World/Asia",
          "World/Europe",
          "World/Oceania",
          "World/Americas",
          "World/Africa",
          "World/Africa",
          "World/Europe",
          "World/Asia",
          "World/Asia",
          "World/Americas",
          "World/Americas",
          "World/Americas",
          "World/Asia",
          "World/Europe",
          "World/Europe",
          "World/Americas",
          "World/Africa",
          "World/Europe",
          "World/Africa",
          "World/Africa",
          "World/Asia",
          "World/Africa",
          "World/Europe",
          "World/Africa",
          "World/Asia",
          "World/Europe",
          "World/Europe",
          "World/Africa",
          "World/Africa",
          "World/Europe",
          "World/Asia",
          "World/Africa",
          "World/Africa",
          "World/Europe",
          "World/Europe",
          "World/Asia",
          "World/Asia",
          "World/Africa",
          "World/Asia",
          "World/Africa",
          "World/Americas",
          "World/Africa",
          "World/Europe",
          "World/Africa",
          "World/Europe",
          "World/Americas",
          "World/Americas",
          "World/Americas",
          "World/Asia",
          "World/Asia",
          "World/Asia",
          "World/Africa",
          "World/Africa",
          "World",
          "World",
          "World",
          "World",
          "World",
          ""
         ],
         "type": "treemap",
         "values": [
          5760.05427777614,
          8024.762586578099,
          6558.719473682893,
          2160.33667889368,
          3199.8303280144246,
          5217.860814829314,
          7232.249074330179,
          2648.7222580640514,
          6150.26715211786,
          7232.784310699893,
          4858.918308511895,
          9027.31019514105,
          8632.074063900109,
          4239.802580305275,
          1286.5503657817706,
          2888.5937407760994,
          2616.433098036713,
          7825.407884525273,
          2939.569094022026,
          6281.0591181235195,
          9463.887507275318,
          9365.763851129715,
          9543.869401741133,
          5305.332763359893,
          9647.511922567002,
          2322.519808603375,
          3714.387710328482,
          7996.668056638779,
          3761.290895906765,
          9607.65150516354,
          3949.48361401407,
          6181.760458403852,
          9630.844496771262,
          3094.697163511512,
          6566.322335614731,
          6962.541143794084,
          1414.0657979856724,
          3100.7822992128667,
          3740.2156663958754,
          5066.395144027837,
          6330.073768856531,
          7755.355206360888,
          7394.755624501111,
          9299.003155904738,
          9539.749186484567,
          1875.1863306918217,
          8846.071612799436,
          3700.2602752833664,
          1539.4986842461594,
          9815.742364019128,
          4037.296435878159,
          8317.484769227147,
          9628.668307509337,
          6910.857625967534,
          9819.660937080784,
          4885.841148888873,
          7635.288183368296,
          4285.8988935400885,
          1595.3451590525924,
          8033.316402111952,
          4387.502396749162,
          2607.219712518907,
          8896.589102567075,
          4390.671402648881,
          8598.114653977216,
          3219.012458300405,
          4396.659153299986,
          2911.9092516463693,
          8725.038747708362,
          7435.473377186503,
          7635.507217427511,
          4056.6793974957923,
          5021.892675515792,
          7623.0450712695965,
          4750.225812178399,
          1511.8953323081992,
          9110.459535842454,
          8380.201922827766,
          4023.797881062297,
          9005.031179342799,
          2588.4945000015414,
          6032.5640389153195,
          1879.087307029517,
          1275.9494349314614,
          7779.161076329591,
          1612.8378931789593,
          7547.892486316749,
          3094.9540496300087,
          9689.64975223726,
          5686.1001233429815,
          2082.4961048152263,
          8453.319518950255,
          3365.1996069204015,
          6429.906930616701,
          8125.852790623338,
          6705.882291753168,
          9034.364478240834,
          7275.972257470464,
          6845.808017577671,
          4593.001452921184,
          8347.789280929203,
          2067.539665291893,
          4823.685290815206,
          5608.726443314061,
          9247.062968529168,
          1321.6841425043535,
          1920.851342988348,
          8479.280025958404,
          1880.2914533114747,
          9948.097748986858,
          6021.886605486694,
          9543.51910038828,
          1677.4955184946102,
          3501.9095031591933,
          3468.661334584763,
          6005.198615054265,
          5384.3331422563715,
          1540.7016788193216,
          9982.205089822906,
          7317.798356495775,
          5351.13098353921,
          8357.079372563496,
          5267.663310372595,
          8218.616715060525,
          3049.6689401255785,
          2781.8451994581537,
          7674.427964370913,
          7458.035501912733,
          6276.495893685562,
          9646.898261005907,
          7501.523668284127,
          9811.098271007406,
          7737.454052466201,
          1958.4578239395432,
          2010.0188424545968,
          8881.230432114307,
          5066.263162760326,
          5232.891541024369,
          7258.118213255769,
          4881.320621577083,
          2296.5268698175805,
          1296.5090367810915,
          299191.90818792745,
          143294.35700080617,
          168392.50551505486,
          194800.11235920482,
          13671.180333779568,
          819350.0633967728
         ]
        }
       ],
       "layout": {
        "coloraxis": {
         "colorbar": {
          "title": {
           "text": "defense"
          }
         },
         "colorscale": [
          [
           0,
           "rgb(247,251,255)"
          ],
          [
           0.125,
           "rgb(222,235,247)"
          ],
          [
           0.25,
           "rgb(198,219,239)"
          ],
          [
           0.375,
           "rgb(158,202,225)"
          ],
          [
           0.5,
           "rgb(107,174,214)"
          ],
          [
           0.625,
           "rgb(66,146,198)"
          ],
          [
           0.75,
           "rgb(33,113,181)"
          ],
          [
           0.875,
           "rgb(8,81,156)"
          ],
          [
           1,
           "rgb(8,48,107)"
          ]
         ]
        },
        "legend": {
         "tracegroupgap": 0
        },
        "template": {
         "data": {
          "bar": [
           {
            "error_x": {
             "color": "#2a3f5f"
            },
            "error_y": {
             "color": "#2a3f5f"
            },
            "marker": {
             "line": {
              "color": "#E5ECF6",
              "width": 0.5
             },
             "pattern": {
              "fillmode": "overlay",
              "size": 10,
              "solidity": 0.2
             }
            },
            "type": "bar"
           }
          ],
          "barpolar": [
           {
            "marker": {
             "line": {
              "color": "#E5ECF6",
              "width": 0.5
             },
             "pattern": {
              "fillmode": "overlay",
              "size": 10,
              "solidity": 0.2
             }
            },
            "type": "barpolar"
           }
          ],
          "carpet": [
           {
            "aaxis": {
             "endlinecolor": "#2a3f5f",
             "gridcolor": "white",
             "linecolor": "white",
             "minorgridcolor": "white",
             "startlinecolor": "#2a3f5f"
            },
            "baxis": {
             "endlinecolor": "#2a3f5f",
             "gridcolor": "white",
             "linecolor": "white",
             "minorgridcolor": "white",
             "startlinecolor": "#2a3f5f"
            },
            "type": "carpet"
           }
          ],
          "choropleth": [
           {
            "colorbar": {
             "outlinewidth": 0,
             "ticks": ""
            },
            "type": "choropleth"
           }
          ],
          "contour": [
           {
            "colorbar": {
             "outlinewidth": 0,
             "ticks": ""
            },
            "colorscale": [
             [
              0,
              "#0d0887"
             ],
             [
              0.1111111111111111,
              "#46039f"
             ],
             [
              0.2222222222222222,
              "#7201a8"
             ],
             [
              0.3333333333333333,
              "#9c179e"
             ],
             [
              0.4444444444444444,
              "#bd3786"
             ],
             [
              0.5555555555555556,
              "#d8576b"
             ],
             [
              0.6666666666666666,
              "#ed7953"
             ],
             [
              0.7777777777777778,
              "#fb9f3a"
             ],
             [
              0.8888888888888888,
              "#fdca26"
             ],
             [
              1,
              "#f0f921"
             ]
            ],
            "type": "contour"
           }
          ],
          "contourcarpet": [
           {
            "colorbar": {
             "outlinewidth": 0,
             "ticks": ""
            },
            "type": "contourcarpet"
           }
          ],
          "heatmap": [
           {
            "colorbar": {
             "outlinewidth": 0,
             "ticks": ""
            },
            "colorscale": [
             [
              0,
              "#0d0887"
             ],
             [
              0.1111111111111111,
              "#46039f"
             ],
             [
              0.2222222222222222,
              "#7201a8"
             ],
             [
              0.3333333333333333,
              "#9c179e"
             ],
             [
              0.4444444444444444,
              "#bd3786"
             ],
             [
              0.5555555555555556,
              "#d8576b"
             ],
             [
              0.6666666666666666,
              "#ed7953"
             ],
             [
              0.7777777777777778,
              "#fb9f3a"
             ],
             [
              0.8888888888888888,
              "#fdca26"
             ],
             [
              1,
              "#f0f921"
             ]
            ],
            "type": "heatmap"
           }
          ],
          "heatmapgl": [
           {
            "colorbar": {
             "outlinewidth": 0,
             "ticks": ""
            },
            "colorscale": [
             [
              0,
              "#0d0887"
             ],
             [
              0.1111111111111111,
              "#46039f"
             ],
             [
              0.2222222222222222,
              "#7201a8"
             ],
             [
              0.3333333333333333,
              "#9c179e"
             ],
             [
              0.4444444444444444,
              "#bd3786"
             ],
             [
              0.5555555555555556,
              "#d8576b"
             ],
             [
              0.6666666666666666,
              "#ed7953"
             ],
             [
              0.7777777777777778,
              "#fb9f3a"
             ],
             [
              0.8888888888888888,
              "#fdca26"
             ],
             [
              1,
              "#f0f921"
             ]
            ],
            "type": "heatmapgl"
           }
          ],
          "histogram": [
           {
            "marker": {
             "pattern": {
              "fillmode": "overlay",
              "size": 10,
              "solidity": 0.2
             }
            },
            "type": "histogram"
           }
          ],
          "histogram2d": [
           {
            "colorbar": {
             "outlinewidth": 0,
             "ticks": ""
            },
            "colorscale": [
             [
              0,
              "#0d0887"
             ],
             [
              0.1111111111111111,
              "#46039f"
             ],
             [
              0.2222222222222222,
              "#7201a8"
             ],
             [
              0.3333333333333333,
              "#9c179e"
             ],
             [
              0.4444444444444444,
              "#bd3786"
             ],
             [
              0.5555555555555556,
              "#d8576b"
             ],
             [
              0.6666666666666666,
              "#ed7953"
             ],
             [
              0.7777777777777778,
              "#fb9f3a"
             ],
             [
              0.8888888888888888,
              "#fdca26"
             ],
             [
              1,
              "#f0f921"
             ]
            ],
            "type": "histogram2d"
           }
          ],
          "histogram2dcontour": [
           {
            "colorbar": {
             "outlinewidth": 0,
             "ticks": ""
            },
            "colorscale": [
             [
              0,
              "#0d0887"
             ],
             [
              0.1111111111111111,
              "#46039f"
             ],
             [
              0.2222222222222222,
              "#7201a8"
             ],
             [
              0.3333333333333333,
              "#9c179e"
             ],
             [
              0.4444444444444444,
              "#bd3786"
             ],
             [
              0.5555555555555556,
              "#d8576b"
             ],
             [
              0.6666666666666666,
              "#ed7953"
             ],
             [
              0.7777777777777778,
              "#fb9f3a"
             ],
             [
              0.8888888888888888,
              "#fdca26"
             ],
             [
              1,
              "#f0f921"
             ]
            ],
            "type": "histogram2dcontour"
           }
          ],
          "mesh3d": [
           {
            "colorbar": {
             "outlinewidth": 0,
             "ticks": ""
            },
            "type": "mesh3d"
           }
          ],
          "parcoords": [
           {
            "line": {
             "colorbar": {
              "outlinewidth": 0,
              "ticks": ""
             }
            },
            "type": "parcoords"
           }
          ],
          "pie": [
           {
            "automargin": true,
            "type": "pie"
           }
          ],
          "scatter": [
           {
            "fillpattern": {
             "fillmode": "overlay",
             "size": 10,
             "solidity": 0.2
            },
            "type": "scatter"
           }
          ],
          "scatter3d": [
           {
            "line": {
             "colorbar": {
              "outlinewidth": 0,
              "ticks": ""
             }
            },
            "marker": {
             "colorbar": {
              "outlinewidth": 0,
              "ticks": ""
             }
            },
            "type": "scatter3d"
           }
          ],
          "scattercarpet": [
           {
            "marker": {
             "colorbar": {
              "outlinewidth": 0,
              "ticks": ""
             }
            },
            "type": "scattercarpet"
           }
          ],
          "scattergeo": [
           {
            "marker": {
             "colorbar": {
              "outlinewidth": 0,
              "ticks": ""
             }
            },
            "type": "scattergeo"
           }
          ],
          "scattergl": [
           {
            "marker": {
             "colorbar": {
              "outlinewidth": 0,
              "ticks": ""
             }
            },
            "type": "scattergl"
           }
          ],
          "scattermapbox": [
           {
            "marker": {
             "colorbar": {
              "outlinewidth": 0,
              "ticks": ""
             }
            },
            "type": "scattermapbox"
           }
          ],
          "scatterpolar": [
           {
            "marker": {
             "colorbar": {
              "outlinewidth": 0,
              "ticks": ""
             }
            },
            "type": "scatterpolar"
           }
          ],
          "scatterpolargl": [
           {
            "marker": {
             "colorbar": {
              "outlinewidth": 0,
              "ticks": ""
             }
            },
            "type": "scatterpolargl"
           }
          ],
          "scatterternary": [
           {
            "marker": {
             "colorbar": {
              "outlinewidth": 0,
              "ticks": ""
             }
            },
            "type": "scatterternary"
           }
          ],
          "surface": [
           {
            "colorbar": {
             "outlinewidth": 0,
             "ticks": ""
            },
            "colorscale": [
             [
              0,
              "#0d0887"
             ],
             [
              0.1111111111111111,
              "#46039f"
             ],
             [
              0.2222222222222222,
              "#7201a8"
             ],
             [
              0.3333333333333333,
              "#9c179e"
             ],
             [
              0.4444444444444444,
              "#bd3786"
             ],
             [
              0.5555555555555556,
              "#d8576b"
             ],
             [
              0.6666666666666666,
              "#ed7953"
             ],
             [
              0.7777777777777778,
              "#fb9f3a"
             ],
             [
              0.8888888888888888,
              "#fdca26"
             ],
             [
              1,
              "#f0f921"
             ]
            ],
            "type": "surface"
           }
          ],
          "table": [
           {
            "cells": {
             "fill": {
              "color": "#EBF0F8"
             },
             "line": {
              "color": "white"
             }
            },
            "header": {
             "fill": {
              "color": "#C8D4E3"
             },
             "line": {
              "color": "white"
             }
            },
            "type": "table"
           }
          ]
         },
         "layout": {
          "annotationdefaults": {
           "arrowcolor": "#2a3f5f",
           "arrowhead": 0,
           "arrowwidth": 1
          },
          "autotypenumbers": "strict",
          "coloraxis": {
           "colorbar": {
            "outlinewidth": 0,
            "ticks": ""
           }
          },
          "colorscale": {
           "diverging": [
            [
             0,
             "#8e0152"
            ],
            [
             0.1,
             "#c51b7d"
            ],
            [
             0.2,
             "#de77ae"
            ],
            [
             0.3,
             "#f1b6da"
            ],
            [
             0.4,
             "#fde0ef"
            ],
            [
             0.5,
             "#f7f7f7"
            ],
            [
             0.6,
             "#e6f5d0"
            ],
            [
             0.7,
             "#b8e186"
            ],
            [
             0.8,
             "#7fbc41"
            ],
            [
             0.9,
             "#4d9221"
            ],
            [
             1,
             "#276419"
            ]
           ],
           "sequential": [
            [
             0,
             "#0d0887"
            ],
            [
             0.1111111111111111,
             "#46039f"
            ],
            [
             0.2222222222222222,
             "#7201a8"
            ],
            [
             0.3333333333333333,
             "#9c179e"
            ],
            [
             0.4444444444444444,
             "#bd3786"
            ],
            [
             0.5555555555555556,
             "#d8576b"
            ],
            [
             0.6666666666666666,
             "#ed7953"
            ],
            [
             0.7777777777777778,
             "#fb9f3a"
            ],
            [
             0.8888888888888888,
             "#fdca26"
            ],
            [
             1,
             "#f0f921"
            ]
           ],
           "sequentialminus": [
            [
             0,
             "#0d0887"
            ],
            [
             0.1111111111111111,
             "#46039f"
            ],
            [
             0.2222222222222222,
             "#7201a8"
            ],
            [
             0.3333333333333333,
             "#9c179e"
            ],
            [
             0.4444444444444444,
             "#bd3786"
            ],
            [
             0.5555555555555556,
             "#d8576b"
            ],
            [
             0.6666666666666666,
             "#ed7953"
            ],
            [
             0.7777777777777778,
             "#fb9f3a"
            ],
            [
             0.8888888888888888,
             "#fdca26"
            ],
            [
             1,
             "#f0f921"
            ]
           ]
          },
          "colorway": [
           "#636efa",
           "#EF553B",
           "#00cc96",
           "#ab63fa",
           "#FFA15A",
           "#19d3f3",
           "#FF6692",
           "#B6E880",
           "#FF97FF",
           "#FECB52"
          ],
          "font": {
           "color": "#2a3f5f"
          },
          "geo": {
           "bgcolor": "white",
           "lakecolor": "white",
           "landcolor": "#E5ECF6",
           "showlakes": true,
           "showland": true,
           "subunitcolor": "white"
          },
          "hoverlabel": {
           "align": "left"
          },
          "hovermode": "closest",
          "mapbox": {
           "style": "light"
          },
          "paper_bgcolor": "white",
          "plot_bgcolor": "#E5ECF6",
          "polar": {
           "angularaxis": {
            "gridcolor": "white",
            "linecolor": "white",
            "ticks": ""
           },
           "bgcolor": "#E5ECF6",
           "radialaxis": {
            "gridcolor": "white",
            "linecolor": "white",
            "ticks": ""
           }
          },
          "scene": {
           "xaxis": {
            "backgroundcolor": "#E5ECF6",
            "gridcolor": "white",
            "gridwidth": 2,
            "linecolor": "white",
            "showbackground": true,
            "ticks": "",
            "zerolinecolor": "white"
           },
           "yaxis": {
            "backgroundcolor": "#E5ECF6",
            "gridcolor": "white",
            "gridwidth": 2,
            "linecolor": "white",
            "showbackground": true,
            "ticks": "",
            "zerolinecolor": "white"
           },
           "zaxis": {
            "backgroundcolor": "#E5ECF6",
            "gridcolor": "white",
            "gridwidth": 2,
            "linecolor": "white",
            "showbackground": true,
            "ticks": "",
            "zerolinecolor": "white"
           }
          },
          "shapedefaults": {
           "line": {
            "color": "#2a3f5f"
           }
          },
          "ternary": {
           "aaxis": {
            "gridcolor": "white",
            "linecolor": "white",
            "ticks": ""
           },
           "baxis": {
            "gridcolor": "white",
            "linecolor": "white",
            "ticks": ""
           },
           "bgcolor": "#E5ECF6",
           "caxis": {
            "gridcolor": "white",
            "linecolor": "white",
            "ticks": ""
           }
          },
          "title": {
           "x": 0.05
          },
          "xaxis": {
           "automargin": true,
           "gridcolor": "white",
           "linecolor": "white",
           "ticks": "",
           "title": {
            "standoff": 15
           },
           "zerolinecolor": "white",
           "zerolinewidth": 2
          },
          "yaxis": {
           "automargin": true,
           "gridcolor": "white",
           "linecolor": "white",
           "ticks": "",
           "title": {
            "standoff": 15
           },
           "zerolinecolor": "white",
           "zerolinewidth": 2
          }
         }
        },
        "title": {
         "text": "2007 Dünya Savunma Harcamaları"
        }
       }
      },
      "text/html": [
       "<div>                            <div id=\"4ac569ab-7ec8-4944-a88b-23ec2a5f3570\" class=\"plotly-graph-div\" style=\"height:525px; width:100%;\"></div>            <script type=\"text/javascript\">                require([\"plotly\"], function(Plotly) {                    window.PLOTLYENV=window.PLOTLYENV || {};                                    if (document.getElementById(\"4ac569ab-7ec8-4944-a88b-23ec2a5f3570\")) {                    Plotly.newPlot(                        \"4ac569ab-7ec8-4944-a88b-23ec2a5f3570\",                        [{\"branchvalues\":\"total\",\"customdata\":[[5760.05427777614],[8024.762586578099],[6558.719473682893],[2160.33667889368],[3199.8303280144246],[5217.860814829314],[7232.249074330179],[2648.7222580640514],[6150.26715211786],[7232.784310699893],[4858.918308511895],[9027.31019514105],[8632.074063900109],[4239.802580305275],[1286.5503657817706],[2888.5937407760994],[2616.433098036713],[7825.407884525273],[2939.5690940220265],[6281.05911812352],[9463.887507275318],[9365.763851129715],[9543.869401741133],[5305.332763359893],[9647.511922567002],[2322.519808603375],[3714.387710328482],[7996.668056638779],[3761.290895906765],[9607.65150516354],[3949.48361401407],[6181.760458403852],[9630.844496771262],[3094.697163511512],[6566.322335614731],[6962.541143794084],[1414.0657979856724],[3100.7822992128667],[3740.2156663958754],[5066.395144027837],[6330.073768856531],[7755.355206360888],[7394.755624501111],[9299.003155904738],[9539.749186484567],[1875.1863306918217],[8846.071612799436],[3700.2602752833664],[1539.4986842461594],[9815.742364019128],[4037.296435878159],[8317.484769227147],[9628.668307509337],[6910.857625967534],[9819.660937080784],[4885.841148888873],[7635.288183368296],[4285.8988935400885],[1595.3451590525924],[8033.316402111952],[4387.502396749162],[2607.219712518907],[8896.589102567075],[4390.671402648881],[8598.114653977216],[3219.012458300405],[4396.659153299986],[2911.909251646369],[8725.038747708362],[7435.473377186503],[7635.507217427511],[4056.6793974957923],[5021.892675515792],[7623.045071269597],[4750.225812178399],[1511.895332308199],[9110.459535842454],[8380.201922827766],[4023.797881062297],[9005.031179342799],[2588.4945000015414],[6032.56403891532],[1879.087307029517],[1275.9494349314614],[7779.161076329591],[1612.8378931789593],[7547.892486316749],[3094.9540496300087],[9689.64975223726],[5686.1001233429815],[2082.4961048152263],[8453.319518950255],[3365.1996069204015],[6429.906930616702],[8125.852790623338],[6705.882291753168],[9034.364478240834],[7275.972257470463],[6845.808017577672],[4593.001452921184],[8347.789280929203],[2067.539665291893],[4823.685290815206],[5608.726443314061],[9247.062968529168],[1321.6841425043535],[1920.851342988348],[8479.280025958404],[1880.2914533114747],[9948.097748986858],[6021.886605486694],[9543.51910038828],[1677.4955184946102],[3501.9095031591933],[3468.6613345847636],[6005.198615054265],[5384.3331422563715],[1540.7016788193218],[9982.205089822906],[7317.798356495775],[5351.13098353921],[8357.079372563496],[5267.663310372595],[8218.616715060525],[3049.668940125578],[2781.8451994581537],[7674.427964370913],[7458.035501912733],[6276.495893685562],[9646.898261005907],[7501.523668284127],[9811.098271007406],[7737.454052466201],[1958.4578239395432],[2010.0188424545968],[8881.230432114307],[5066.263162760326],[5232.891541024369],[7258.11821325577],[4881.320621577083],[2296.5268698175805],[1296.5090367810915],[7056.703597953014],[7322.960000526126],[6169.983486381634],[7507.6094916046695],[7218.4463932906065],[7030.931649493071]],\"domain\":{\"x\":[0.0,1.0],\"y\":[0.0,1.0]},\"hovertemplate\":\"labels=%{label}<br>defense_sum=%{value}<br>parent=%{parent}<br>id=%{id}<br>defense=%{color}<extra></extra>\",\"ids\":[\"World/Asia/Afghanistan\",\"World/Europe/Albania\",\"World/Africa/Algeria\",\"World/Africa/Angola\",\"World/Americas/Argentina\",\"World/Oceania/Australia\",\"World/Europe/Austria\",\"World/Asia/Bahrain\",\"World/Asia/Bangladesh\",\"World/Europe/Belgium\",\"World/Africa/Benin\",\"World/Americas/Bolivia\",\"World/Europe/Bosnia and Herzegovina\",\"World/Africa/Botswana\",\"World/Americas/Brazil\",\"World/Europe/Bulgaria\",\"World/Africa/Burkina Faso\",\"World/Africa/Burundi\",\"World/Asia/Cambodia\",\"World/Africa/Cameroon\",\"World/Americas/Canada\",\"World/Africa/Central African Republic\",\"World/Africa/Chad\",\"World/Americas/Chile\",\"World/Asia/China\",\"World/Americas/Colombia\",\"World/Africa/Comoros\",\"World/Africa/Congo, Dem. Rep.\",\"World/Africa/Congo, Rep.\",\"World/Americas/Costa Rica\",\"World/Africa/Cote d'Ivoire\",\"World/Europe/Croatia\",\"World/Americas/Cuba\",\"World/Europe/Czech Republic\",\"World/Europe/Denmark\",\"World/Africa/Djibouti\",\"World/Americas/Dominican Republic\",\"World/Americas/Ecuador\",\"World/Africa/Egypt\",\"World/Americas/El Salvador\",\"World/Africa/Equatorial Guinea\",\"World/Africa/Eritrea\",\"World/Africa/Ethiopia\",\"World/Europe/Finland\",\"World/Europe/France\",\"World/Africa/Gabon\",\"World/Africa/Gambia\",\"World/Europe/Germany\",\"World/Africa/Ghana\",\"World/Europe/Greece\",\"World/Americas/Guatemala\",\"World/Africa/Guinea\",\"World/Africa/Guinea-Bissau\",\"World/Americas/Haiti\",\"World/Americas/Honduras\",\"World/Asia/Hong Kong, China\",\"World/Europe/Hungary\",\"World/Europe/Iceland\",\"World/Asia/India\",\"World/Asia/Indonesia\",\"World/Asia/Iran\",\"World/Asia/Iraq\",\"World/Europe/Ireland\",\"World/Asia/Israel\",\"World/Europe/Italy\",\"World/Americas/Jamaica\",\"World/Asia/Japan\",\"World/Asia/Jordan\",\"World/Africa/Kenya\",\"World/Asia/Korea, Dem. Rep.\",\"World/Asia/Korea, Rep.\",\"World/Asia/Kuwait\",\"World/Asia/Lebanon\",\"World/Africa/Lesotho\",\"World/Africa/Liberia\",\"World/Africa/Libya\",\"World/Africa/Madagascar\",\"World/Africa/Malawi\",\"World/Asia/Malaysia\",\"World/Africa/Mali\",\"World/Africa/Mauritania\",\"World/Africa/Mauritius\",\"World/Americas/Mexico\",\"World/Asia/Mongolia\",\"World/Europe/Montenegro\",\"World/Africa/Morocco\",\"World/Africa/Mozambique\",\"World/Asia/Myanmar\",\"World/Africa/Namibia\",\"World/Asia/Nepal\",\"World/Europe/Netherlands\",\"World/Oceania/New Zealand\",\"World/Americas/Nicaragua\",\"World/Africa/Niger\",\"World/Africa/Nigeria\",\"World/Europe/Norway\",\"World/Asia/Oman\",\"World/Asia/Pakistan\",\"World/Americas/Panama\",\"World/Americas/Paraguay\",\"World/Americas/Peru\",\"World/Asia/Philippines\",\"World/Europe/Poland\",\"World/Europe/Portugal\",\"World/Americas/Puerto Rico\",\"World/Africa/Reunion\",\"World/Europe/Romania\",\"World/Africa/Rwanda\",\"World/Africa/Sao Tome and Principe\",\"World/Asia/Saudi Arabia\",\"World/Africa/Senegal\",\"World/Europe/Serbia\",\"World/Africa/Sierra Leone\",\"World/Asia/Singapore\",\"World/Europe/Slovak Republic\",\"World/Europe/Slovenia\",\"World/Africa/Somalia\",\"World/Africa/South Africa\",\"World/Europe/Spain\",\"World/Asia/Sri Lanka\",\"World/Africa/Sudan\",\"World/Africa/Swaziland\",\"World/Europe/Sweden\",\"World/Europe/Switzerland\",\"World/Asia/Syria\",\"World/Asia/Taiwan\",\"World/Africa/Tanzania\",\"World/Asia/Thailand\",\"World/Africa/Togo\",\"World/Americas/Trinidad and Tobago\",\"World/Africa/Tunisia\",\"World/Europe/Turkey\",\"World/Africa/Uganda\",\"World/Europe/United Kingdom\",\"World/Americas/United States\",\"World/Americas/Uruguay\",\"World/Americas/Venezuela\",\"World/Asia/Vietnam\",\"World/Asia/West Bank and Gaza\",\"World/Asia/Yemen, Rep.\",\"World/Africa/Zambia\",\"World/Africa/Zimbabwe\",\"World/Africa\",\"World/Americas\",\"World/Asia\",\"World/Europe\",\"World/Oceania\",\"World\"],\"labels\":[\"Afghanistan\",\"Albania\",\"Algeria\",\"Angola\",\"Argentina\",\"Australia\",\"Austria\",\"Bahrain\",\"Bangladesh\",\"Belgium\",\"Benin\",\"Bolivia\",\"Bosnia and Herzegovina\",\"Botswana\",\"Brazil\",\"Bulgaria\",\"Burkina Faso\",\"Burundi\",\"Cambodia\",\"Cameroon\",\"Canada\",\"Central African Republic\",\"Chad\",\"Chile\",\"China\",\"Colombia\",\"Comoros\",\"Congo, Dem. Rep.\",\"Congo, Rep.\",\"Costa Rica\",\"Cote d'Ivoire\",\"Croatia\",\"Cuba\",\"Czech Republic\",\"Denmark\",\"Djibouti\",\"Dominican Republic\",\"Ecuador\",\"Egypt\",\"El Salvador\",\"Equatorial Guinea\",\"Eritrea\",\"Ethiopia\",\"Finland\",\"France\",\"Gabon\",\"Gambia\",\"Germany\",\"Ghana\",\"Greece\",\"Guatemala\",\"Guinea\",\"Guinea-Bissau\",\"Haiti\",\"Honduras\",\"Hong Kong, China\",\"Hungary\",\"Iceland\",\"India\",\"Indonesia\",\"Iran\",\"Iraq\",\"Ireland\",\"Israel\",\"Italy\",\"Jamaica\",\"Japan\",\"Jordan\",\"Kenya\",\"Korea, Dem. Rep.\",\"Korea, Rep.\",\"Kuwait\",\"Lebanon\",\"Lesotho\",\"Liberia\",\"Libya\",\"Madagascar\",\"Malawi\",\"Malaysia\",\"Mali\",\"Mauritania\",\"Mauritius\",\"Mexico\",\"Mongolia\",\"Montenegro\",\"Morocco\",\"Mozambique\",\"Myanmar\",\"Namibia\",\"Nepal\",\"Netherlands\",\"New Zealand\",\"Nicaragua\",\"Niger\",\"Nigeria\",\"Norway\",\"Oman\",\"Pakistan\",\"Panama\",\"Paraguay\",\"Peru\",\"Philippines\",\"Poland\",\"Portugal\",\"Puerto Rico\",\"Reunion\",\"Romania\",\"Rwanda\",\"Sao Tome and Principe\",\"Saudi Arabia\",\"Senegal\",\"Serbia\",\"Sierra Leone\",\"Singapore\",\"Slovak Republic\",\"Slovenia\",\"Somalia\",\"South Africa\",\"Spain\",\"Sri Lanka\",\"Sudan\",\"Swaziland\",\"Sweden\",\"Switzerland\",\"Syria\",\"Taiwan\",\"Tanzania\",\"Thailand\",\"Togo\",\"Trinidad and Tobago\",\"Tunisia\",\"Turkey\",\"Uganda\",\"United Kingdom\",\"United States\",\"Uruguay\",\"Venezuela\",\"Vietnam\",\"West Bank and Gaza\",\"Yemen, Rep.\",\"Zambia\",\"Zimbabwe\",\"Africa\",\"Americas\",\"Asia\",\"Europe\",\"Oceania\",\"World\"],\"marker\":{\"coloraxis\":\"coloraxis\",\"colors\":[5760.05427777614,8024.762586578099,6558.719473682893,2160.33667889368,3199.8303280144246,5217.860814829314,7232.249074330179,2648.7222580640514,6150.26715211786,7232.784310699893,4858.918308511895,9027.31019514105,8632.074063900109,4239.802580305275,1286.5503657817706,2888.5937407760994,2616.433098036713,7825.407884525273,2939.5690940220265,6281.05911812352,9463.887507275318,9365.763851129715,9543.869401741133,5305.332763359893,9647.511922567002,2322.519808603375,3714.387710328482,7996.668056638779,3761.290895906765,9607.65150516354,3949.48361401407,6181.760458403852,9630.844496771262,3094.697163511512,6566.322335614731,6962.541143794084,1414.0657979856724,3100.7822992128667,3740.2156663958754,5066.395144027837,6330.073768856531,7755.355206360888,7394.755624501111,9299.003155904738,9539.749186484567,1875.1863306918217,8846.071612799436,3700.2602752833664,1539.4986842461594,9815.742364019128,4037.296435878159,8317.484769227147,9628.668307509337,6910.857625967534,9819.660937080784,4885.841148888873,7635.288183368296,4285.8988935400885,1595.3451590525924,8033.316402111952,4387.502396749162,2607.219712518907,8896.589102567075,4390.671402648881,8598.114653977216,3219.012458300405,4396.659153299986,2911.909251646369,8725.038747708362,7435.473377186503,7635.507217427511,4056.6793974957923,5021.892675515792,7623.045071269597,4750.225812178399,1511.895332308199,9110.459535842454,8380.201922827766,4023.797881062297,9005.031179342799,2588.4945000015414,6032.56403891532,1879.087307029517,1275.9494349314614,7779.161076329591,1612.8378931789593,7547.892486316749,3094.9540496300087,9689.64975223726,5686.1001233429815,2082.4961048152263,8453.319518950255,3365.1996069204015,6429.906930616702,8125.852790623338,6705.882291753168,9034.364478240834,7275.972257470463,6845.808017577672,4593.001452921184,8347.789280929203,2067.539665291893,4823.685290815206,5608.726443314061,9247.062968529168,1321.6841425043535,1920.851342988348,8479.280025958404,1880.2914533114747,9948.097748986858,6021.886605486694,9543.51910038828,1677.4955184946102,3501.9095031591933,3468.6613345847636,6005.198615054265,5384.3331422563715,1540.7016788193218,9982.205089822906,7317.798356495775,5351.13098353921,8357.079372563496,5267.663310372595,8218.616715060525,3049.668940125578,2781.8451994581537,7674.427964370913,7458.035501912733,6276.495893685562,9646.898261005907,7501.523668284127,9811.098271007406,7737.454052466201,1958.4578239395432,2010.0188424545968,8881.230432114307,5066.263162760326,5232.891541024369,7258.11821325577,4881.320621577083,2296.5268698175805,1296.5090367810915,7056.703597953014,7322.960000526126,6169.983486381634,7507.6094916046695,7218.4463932906065,7030.931649493071]},\"name\":\"\",\"parents\":[\"World/Asia\",\"World/Europe\",\"World/Africa\",\"World/Africa\",\"World/Americas\",\"World/Oceania\",\"World/Europe\",\"World/Asia\",\"World/Asia\",\"World/Europe\",\"World/Africa\",\"World/Americas\",\"World/Europe\",\"World/Africa\",\"World/Americas\",\"World/Europe\",\"World/Africa\",\"World/Africa\",\"World/Asia\",\"World/Africa\",\"World/Americas\",\"World/Africa\",\"World/Africa\",\"World/Americas\",\"World/Asia\",\"World/Americas\",\"World/Africa\",\"World/Africa\",\"World/Africa\",\"World/Americas\",\"World/Africa\",\"World/Europe\",\"World/Americas\",\"World/Europe\",\"World/Europe\",\"World/Africa\",\"World/Americas\",\"World/Americas\",\"World/Africa\",\"World/Americas\",\"World/Africa\",\"World/Africa\",\"World/Africa\",\"World/Europe\",\"World/Europe\",\"World/Africa\",\"World/Africa\",\"World/Europe\",\"World/Africa\",\"World/Europe\",\"World/Americas\",\"World/Africa\",\"World/Africa\",\"World/Americas\",\"World/Americas\",\"World/Asia\",\"World/Europe\",\"World/Europe\",\"World/Asia\",\"World/Asia\",\"World/Asia\",\"World/Asia\",\"World/Europe\",\"World/Asia\",\"World/Europe\",\"World/Americas\",\"World/Asia\",\"World/Asia\",\"World/Africa\",\"World/Asia\",\"World/Asia\",\"World/Asia\",\"World/Asia\",\"World/Africa\",\"World/Africa\",\"World/Africa\",\"World/Africa\",\"World/Africa\",\"World/Asia\",\"World/Africa\",\"World/Africa\",\"World/Africa\",\"World/Americas\",\"World/Asia\",\"World/Europe\",\"World/Africa\",\"World/Africa\",\"World/Asia\",\"World/Africa\",\"World/Asia\",\"World/Europe\",\"World/Oceania\",\"World/Americas\",\"World/Africa\",\"World/Africa\",\"World/Europe\",\"World/Asia\",\"World/Asia\",\"World/Americas\",\"World/Americas\",\"World/Americas\",\"World/Asia\",\"World/Europe\",\"World/Europe\",\"World/Americas\",\"World/Africa\",\"World/Europe\",\"World/Africa\",\"World/Africa\",\"World/Asia\",\"World/Africa\",\"World/Europe\",\"World/Africa\",\"World/Asia\",\"World/Europe\",\"World/Europe\",\"World/Africa\",\"World/Africa\",\"World/Europe\",\"World/Asia\",\"World/Africa\",\"World/Africa\",\"World/Europe\",\"World/Europe\",\"World/Asia\",\"World/Asia\",\"World/Africa\",\"World/Asia\",\"World/Africa\",\"World/Americas\",\"World/Africa\",\"World/Europe\",\"World/Africa\",\"World/Europe\",\"World/Americas\",\"World/Americas\",\"World/Americas\",\"World/Asia\",\"World/Asia\",\"World/Asia\",\"World/Africa\",\"World/Africa\",\"World\",\"World\",\"World\",\"World\",\"World\",\"\"],\"values\":[5760.05427777614,8024.762586578099,6558.719473682893,2160.33667889368,3199.8303280144246,5217.860814829314,7232.249074330179,2648.7222580640514,6150.26715211786,7232.784310699893,4858.918308511895,9027.31019514105,8632.074063900109,4239.802580305275,1286.5503657817706,2888.5937407760994,2616.433098036713,7825.407884525273,2939.569094022026,6281.0591181235195,9463.887507275318,9365.763851129715,9543.869401741133,5305.332763359893,9647.511922567002,2322.519808603375,3714.387710328482,7996.668056638779,3761.290895906765,9607.65150516354,3949.48361401407,6181.760458403852,9630.844496771262,3094.697163511512,6566.322335614731,6962.541143794084,1414.0657979856724,3100.7822992128667,3740.2156663958754,5066.395144027837,6330.073768856531,7755.355206360888,7394.755624501111,9299.003155904738,9539.749186484567,1875.1863306918217,8846.071612799436,3700.2602752833664,1539.4986842461594,9815.742364019128,4037.296435878159,8317.484769227147,9628.668307509337,6910.857625967534,9819.660937080784,4885.841148888873,7635.288183368296,4285.8988935400885,1595.3451590525924,8033.316402111952,4387.502396749162,2607.219712518907,8896.589102567075,4390.671402648881,8598.114653977216,3219.012458300405,4396.659153299986,2911.9092516463693,8725.038747708362,7435.473377186503,7635.507217427511,4056.6793974957923,5021.892675515792,7623.0450712695965,4750.225812178399,1511.8953323081992,9110.459535842454,8380.201922827766,4023.797881062297,9005.031179342799,2588.4945000015414,6032.5640389153195,1879.087307029517,1275.9494349314614,7779.161076329591,1612.8378931789593,7547.892486316749,3094.9540496300087,9689.64975223726,5686.1001233429815,2082.4961048152263,8453.319518950255,3365.1996069204015,6429.906930616701,8125.852790623338,6705.882291753168,9034.364478240834,7275.972257470464,6845.808017577671,4593.001452921184,8347.789280929203,2067.539665291893,4823.685290815206,5608.726443314061,9247.062968529168,1321.6841425043535,1920.851342988348,8479.280025958404,1880.2914533114747,9948.097748986858,6021.886605486694,9543.51910038828,1677.4955184946102,3501.9095031591933,3468.661334584763,6005.198615054265,5384.3331422563715,1540.7016788193216,9982.205089822906,7317.798356495775,5351.13098353921,8357.079372563496,5267.663310372595,8218.616715060525,3049.6689401255785,2781.8451994581537,7674.427964370913,7458.035501912733,6276.495893685562,9646.898261005907,7501.523668284127,9811.098271007406,7737.454052466201,1958.4578239395432,2010.0188424545968,8881.230432114307,5066.263162760326,5232.891541024369,7258.118213255769,4881.320621577083,2296.5268698175805,1296.5090367810915,299191.90818792745,143294.35700080617,168392.50551505486,194800.11235920482,13671.180333779568,819350.0633967728],\"type\":\"treemap\"}],                        {\"template\":{\"data\":{\"histogram2dcontour\":[{\"type\":\"histogram2dcontour\",\"colorbar\":{\"outlinewidth\":0,\"ticks\":\"\"},\"colorscale\":[[0.0,\"#0d0887\"],[0.1111111111111111,\"#46039f\"],[0.2222222222222222,\"#7201a8\"],[0.3333333333333333,\"#9c179e\"],[0.4444444444444444,\"#bd3786\"],[0.5555555555555556,\"#d8576b\"],[0.6666666666666666,\"#ed7953\"],[0.7777777777777778,\"#fb9f3a\"],[0.8888888888888888,\"#fdca26\"],[1.0,\"#f0f921\"]]}],\"choropleth\":[{\"type\":\"choropleth\",\"colorbar\":{\"outlinewidth\":0,\"ticks\":\"\"}}],\"histogram2d\":[{\"type\":\"histogram2d\",\"colorbar\":{\"outlinewidth\":0,\"ticks\":\"\"},\"colorscale\":[[0.0,\"#0d0887\"],[0.1111111111111111,\"#46039f\"],[0.2222222222222222,\"#7201a8\"],[0.3333333333333333,\"#9c179e\"],[0.4444444444444444,\"#bd3786\"],[0.5555555555555556,\"#d8576b\"],[0.6666666666666666,\"#ed7953\"],[0.7777777777777778,\"#fb9f3a\"],[0.8888888888888888,\"#fdca26\"],[1.0,\"#f0f921\"]]}],\"heatmap\":[{\"type\":\"heatmap\",\"colorbar\":{\"outlinewidth\":0,\"ticks\":\"\"},\"colorscale\":[[0.0,\"#0d0887\"],[0.1111111111111111,\"#46039f\"],[0.2222222222222222,\"#7201a8\"],[0.3333333333333333,\"#9c179e\"],[0.4444444444444444,\"#bd3786\"],[0.5555555555555556,\"#d8576b\"],[0.6666666666666666,\"#ed7953\"],[0.7777777777777778,\"#fb9f3a\"],[0.8888888888888888,\"#fdca26\"],[1.0,\"#f0f921\"]]}],\"heatmapgl\":[{\"type\":\"heatmapgl\",\"colorbar\":{\"outlinewidth\":0,\"ticks\":\"\"},\"colorscale\":[[0.0,\"#0d0887\"],[0.1111111111111111,\"#46039f\"],[0.2222222222222222,\"#7201a8\"],[0.3333333333333333,\"#9c179e\"],[0.4444444444444444,\"#bd3786\"],[0.5555555555555556,\"#d8576b\"],[0.6666666666666666,\"#ed7953\"],[0.7777777777777778,\"#fb9f3a\"],[0.8888888888888888,\"#fdca26\"],[1.0,\"#f0f921\"]]}],\"contourcarpet\":[{\"type\":\"contourcarpet\",\"colorbar\":{\"outlinewidth\":0,\"ticks\":\"\"}}],\"contour\":[{\"type\":\"contour\",\"colorbar\":{\"outlinewidth\":0,\"ticks\":\"\"},\"colorscale\":[[0.0,\"#0d0887\"],[0.1111111111111111,\"#46039f\"],[0.2222222222222222,\"#7201a8\"],[0.3333333333333333,\"#9c179e\"],[0.4444444444444444,\"#bd3786\"],[0.5555555555555556,\"#d8576b\"],[0.6666666666666666,\"#ed7953\"],[0.7777777777777778,\"#fb9f3a\"],[0.8888888888888888,\"#fdca26\"],[1.0,\"#f0f921\"]]}],\"surface\":[{\"type\":\"surface\",\"colorbar\":{\"outlinewidth\":0,\"ticks\":\"\"},\"colorscale\":[[0.0,\"#0d0887\"],[0.1111111111111111,\"#46039f\"],[0.2222222222222222,\"#7201a8\"],[0.3333333333333333,\"#9c179e\"],[0.4444444444444444,\"#bd3786\"],[0.5555555555555556,\"#d8576b\"],[0.6666666666666666,\"#ed7953\"],[0.7777777777777778,\"#fb9f3a\"],[0.8888888888888888,\"#fdca26\"],[1.0,\"#f0f921\"]]}],\"mesh3d\":[{\"type\":\"mesh3d\",\"colorbar\":{\"outlinewidth\":0,\"ticks\":\"\"}}],\"scatter\":[{\"fillpattern\":{\"fillmode\":\"overlay\",\"size\":10,\"solidity\":0.2},\"type\":\"scatter\"}],\"parcoords\":[{\"type\":\"parcoords\",\"line\":{\"colorbar\":{\"outlinewidth\":0,\"ticks\":\"\"}}}],\"scatterpolargl\":[{\"type\":\"scatterpolargl\",\"marker\":{\"colorbar\":{\"outlinewidth\":0,\"ticks\":\"\"}}}],\"bar\":[{\"error_x\":{\"color\":\"#2a3f5f\"},\"error_y\":{\"color\":\"#2a3f5f\"},\"marker\":{\"line\":{\"color\":\"#E5ECF6\",\"width\":0.5},\"pattern\":{\"fillmode\":\"overlay\",\"size\":10,\"solidity\":0.2}},\"type\":\"bar\"}],\"scattergeo\":[{\"type\":\"scattergeo\",\"marker\":{\"colorbar\":{\"outlinewidth\":0,\"ticks\":\"\"}}}],\"scatterpolar\":[{\"type\":\"scatterpolar\",\"marker\":{\"colorbar\":{\"outlinewidth\":0,\"ticks\":\"\"}}}],\"histogram\":[{\"marker\":{\"pattern\":{\"fillmode\":\"overlay\",\"size\":10,\"solidity\":0.2}},\"type\":\"histogram\"}],\"scattergl\":[{\"type\":\"scattergl\",\"marker\":{\"colorbar\":{\"outlinewidth\":0,\"ticks\":\"\"}}}],\"scatter3d\":[{\"type\":\"scatter3d\",\"line\":{\"colorbar\":{\"outlinewidth\":0,\"ticks\":\"\"}},\"marker\":{\"colorbar\":{\"outlinewidth\":0,\"ticks\":\"\"}}}],\"scattermapbox\":[{\"type\":\"scattermapbox\",\"marker\":{\"colorbar\":{\"outlinewidth\":0,\"ticks\":\"\"}}}],\"scatterternary\":[{\"type\":\"scatterternary\",\"marker\":{\"colorbar\":{\"outlinewidth\":0,\"ticks\":\"\"}}}],\"scattercarpet\":[{\"type\":\"scattercarpet\",\"marker\":{\"colorbar\":{\"outlinewidth\":0,\"ticks\":\"\"}}}],\"carpet\":[{\"aaxis\":{\"endlinecolor\":\"#2a3f5f\",\"gridcolor\":\"white\",\"linecolor\":\"white\",\"minorgridcolor\":\"white\",\"startlinecolor\":\"#2a3f5f\"},\"baxis\":{\"endlinecolor\":\"#2a3f5f\",\"gridcolor\":\"white\",\"linecolor\":\"white\",\"minorgridcolor\":\"white\",\"startlinecolor\":\"#2a3f5f\"},\"type\":\"carpet\"}],\"table\":[{\"cells\":{\"fill\":{\"color\":\"#EBF0F8\"},\"line\":{\"color\":\"white\"}},\"header\":{\"fill\":{\"color\":\"#C8D4E3\"},\"line\":{\"color\":\"white\"}},\"type\":\"table\"}],\"barpolar\":[{\"marker\":{\"line\":{\"color\":\"#E5ECF6\",\"width\":0.5},\"pattern\":{\"fillmode\":\"overlay\",\"size\":10,\"solidity\":0.2}},\"type\":\"barpolar\"}],\"pie\":[{\"automargin\":true,\"type\":\"pie\"}]},\"layout\":{\"autotypenumbers\":\"strict\",\"colorway\":[\"#636efa\",\"#EF553B\",\"#00cc96\",\"#ab63fa\",\"#FFA15A\",\"#19d3f3\",\"#FF6692\",\"#B6E880\",\"#FF97FF\",\"#FECB52\"],\"font\":{\"color\":\"#2a3f5f\"},\"hovermode\":\"closest\",\"hoverlabel\":{\"align\":\"left\"},\"paper_bgcolor\":\"white\",\"plot_bgcolor\":\"#E5ECF6\",\"polar\":{\"bgcolor\":\"#E5ECF6\",\"angularaxis\":{\"gridcolor\":\"white\",\"linecolor\":\"white\",\"ticks\":\"\"},\"radialaxis\":{\"gridcolor\":\"white\",\"linecolor\":\"white\",\"ticks\":\"\"}},\"ternary\":{\"bgcolor\":\"#E5ECF6\",\"aaxis\":{\"gridcolor\":\"white\",\"linecolor\":\"white\",\"ticks\":\"\"},\"baxis\":{\"gridcolor\":\"white\",\"linecolor\":\"white\",\"ticks\":\"\"},\"caxis\":{\"gridcolor\":\"white\",\"linecolor\":\"white\",\"ticks\":\"\"}},\"coloraxis\":{\"colorbar\":{\"outlinewidth\":0,\"ticks\":\"\"}},\"colorscale\":{\"sequential\":[[0.0,\"#0d0887\"],[0.1111111111111111,\"#46039f\"],[0.2222222222222222,\"#7201a8\"],[0.3333333333333333,\"#9c179e\"],[0.4444444444444444,\"#bd3786\"],[0.5555555555555556,\"#d8576b\"],[0.6666666666666666,\"#ed7953\"],[0.7777777777777778,\"#fb9f3a\"],[0.8888888888888888,\"#fdca26\"],[1.0,\"#f0f921\"]],\"sequentialminus\":[[0.0,\"#0d0887\"],[0.1111111111111111,\"#46039f\"],[0.2222222222222222,\"#7201a8\"],[0.3333333333333333,\"#9c179e\"],[0.4444444444444444,\"#bd3786\"],[0.5555555555555556,\"#d8576b\"],[0.6666666666666666,\"#ed7953\"],[0.7777777777777778,\"#fb9f3a\"],[0.8888888888888888,\"#fdca26\"],[1.0,\"#f0f921\"]],\"diverging\":[[0,\"#8e0152\"],[0.1,\"#c51b7d\"],[0.2,\"#de77ae\"],[0.3,\"#f1b6da\"],[0.4,\"#fde0ef\"],[0.5,\"#f7f7f7\"],[0.6,\"#e6f5d0\"],[0.7,\"#b8e186\"],[0.8,\"#7fbc41\"],[0.9,\"#4d9221\"],[1,\"#276419\"]]},\"xaxis\":{\"gridcolor\":\"white\",\"linecolor\":\"white\",\"ticks\":\"\",\"title\":{\"standoff\":15},\"zerolinecolor\":\"white\",\"automargin\":true,\"zerolinewidth\":2},\"yaxis\":{\"gridcolor\":\"white\",\"linecolor\":\"white\",\"ticks\":\"\",\"title\":{\"standoff\":15},\"zerolinecolor\":\"white\",\"automargin\":true,\"zerolinewidth\":2},\"scene\":{\"xaxis\":{\"backgroundcolor\":\"#E5ECF6\",\"gridcolor\":\"white\",\"linecolor\":\"white\",\"showbackground\":true,\"ticks\":\"\",\"zerolinecolor\":\"white\",\"gridwidth\":2},\"yaxis\":{\"backgroundcolor\":\"#E5ECF6\",\"gridcolor\":\"white\",\"linecolor\":\"white\",\"showbackground\":true,\"ticks\":\"\",\"zerolinecolor\":\"white\",\"gridwidth\":2},\"zaxis\":{\"backgroundcolor\":\"#E5ECF6\",\"gridcolor\":\"white\",\"linecolor\":\"white\",\"showbackground\":true,\"ticks\":\"\",\"zerolinecolor\":\"white\",\"gridwidth\":2}},\"shapedefaults\":{\"line\":{\"color\":\"#2a3f5f\"}},\"annotationdefaults\":{\"arrowcolor\":\"#2a3f5f\",\"arrowhead\":0,\"arrowwidth\":1},\"geo\":{\"bgcolor\":\"white\",\"landcolor\":\"#E5ECF6\",\"subunitcolor\":\"white\",\"showland\":true,\"showlakes\":true,\"lakecolor\":\"white\"},\"title\":{\"x\":0.05},\"mapbox\":{\"style\":\"light\"}}},\"coloraxis\":{\"colorbar\":{\"title\":{\"text\":\"defense\"}},\"colorscale\":[[0.0,\"rgb(247,251,255)\"],[0.125,\"rgb(222,235,247)\"],[0.25,\"rgb(198,219,239)\"],[0.375,\"rgb(158,202,225)\"],[0.5,\"rgb(107,174,214)\"],[0.625,\"rgb(66,146,198)\"],[0.75,\"rgb(33,113,181)\"],[0.875,\"rgb(8,81,156)\"],[1.0,\"rgb(8,48,107)\"]]},\"legend\":{\"tracegroupgap\":0},\"title\":{\"text\":\"2007 D\\u00fcnya Savunma Harcamalar\\u0131\"}},                        {\"responsive\": true}                    ).then(function(){\n",
       "                            \n",
       "var gd = document.getElementById('4ac569ab-7ec8-4944-a88b-23ec2a5f3570');\n",
       "var x = new MutationObserver(function (mutations, observer) {{\n",
       "        var display = window.getComputedStyle(gd).display;\n",
       "        if (!display || display === 'none') {{\n",
       "            console.log([gd, 'removed!']);\n",
       "            Plotly.purge(gd);\n",
       "            observer.disconnect();\n",
       "        }}\n",
       "}});\n",
       "\n",
       "// Listen for the removal of the full notebook cells\n",
       "var notebookContainer = gd.closest('#notebook-container');\n",
       "if (notebookContainer) {{\n",
       "    x.observe(notebookContainer, {childList: true});\n",
       "}}\n",
       "\n",
       "// Listen for the clearing of the current output cell\n",
       "var outputEl = gd.closest('.output');\n",
       "if (outputEl) {{\n",
       "    x.observe(outputEl, {childList: true});\n",
       "}}\n",
       "\n",
       "                        })                };                });            </script>        </div>"
      ]
     },
     "metadata": {},
     "output_type": "display_data"
    }
   ],
   "source": [
    "# Örnek olarak, savunma harcamalarını temsil eden rastgele veriler ekliyoruz\n",
    "# Gerçek verilerle değiştirmeniz gerekebilir\n",
    "import numpy as np\n",
    "np.random.seed(0)\n",
    "gap['defense'] = np.random.uniform(1000, 10000, size=len(gap))\n",
    "\n",
    "# 2007 yılındaki verileri filtreleme\n",
    "temp_df = gap[gap['year'] == 2007]\n",
    "\n",
    "# Treemap görselleştirmesi\n",
    "fig = px.treemap(temp_df, \n",
    "                 path=[px.Constant('World'), 'continent', 'country'], \n",
    "                 values='defense',  # Savunma harcamaları\n",
    "                 color='defense',  # Renk savunma harcamalarını gösterir\n",
    "                 color_continuous_scale='Blues',\n",
    "                 title='2007 Dünya Savunma Harcamaları')\n",
    "\n",
    "# Görselleştirmeyi gösterme\n",
    "fig.show()"
   ]
  },
  {
   "cell_type": "code",
   "execution_count": 9,
   "id": "a5b39b56",
   "metadata": {},
   "outputs": [
    {
     "data": {
      "application/vnd.plotly.v1+json": {
       "config": {
        "plotlyServerURL": "https://plot.ly"
       },
       "data": [
        {
         "branchvalues": "total",
         "customdata": [
          [
           31889923
          ],
          [
           3600523
          ],
          [
           33333216
          ],
          [
           12420476
          ],
          [
           40301927
          ],
          [
           20434176
          ],
          [
           8199783
          ],
          [
           708573
          ],
          [
           150448339
          ],
          [
           10392226
          ],
          [
           8078314
          ],
          [
           9119152
          ],
          [
           4552198
          ],
          [
           1639131
          ],
          [
           190010647
          ],
          [
           7322858
          ],
          [
           14326203
          ],
          [
           8390505
          ],
          [
           14131858
          ],
          [
           17696293
          ],
          [
           33390141
          ],
          [
           4369038
          ],
          [
           10238807
          ],
          [
           16284741
          ],
          [
           1318683096
          ],
          [
           44227550
          ],
          [
           710960
          ],
          [
           64606759
          ],
          [
           3800610
          ],
          [
           4133884
          ],
          [
           18013409
          ],
          [
           4493312
          ],
          [
           11416987
          ],
          [
           10228744
          ],
          [
           5468120
          ],
          [
           496374
          ],
          [
           9319622
          ],
          [
           13755680
          ],
          [
           80264543
          ],
          [
           6939688
          ],
          [
           551201
          ],
          [
           4906585
          ],
          [
           76511887
          ],
          [
           5238460
          ],
          [
           61083916
          ],
          [
           1454867
          ],
          [
           1688359
          ],
          [
           82400996
          ],
          [
           22873338
          ],
          [
           10706290
          ],
          [
           12572928
          ],
          [
           9947814
          ],
          [
           1472041
          ],
          [
           8502814
          ],
          [
           7483763
          ],
          [
           6980412
          ],
          [
           9956108
          ],
          [
           301931
          ],
          [
           1110396331
          ],
          [
           223547000
          ],
          [
           69453570
          ],
          [
           27499638
          ],
          [
           4109086
          ],
          [
           6426679
          ],
          [
           58147733
          ],
          [
           2780132
          ],
          [
           127467972
          ],
          [
           6053193
          ],
          [
           35610177
          ],
          [
           23301725
          ],
          [
           49044790
          ],
          [
           2505559
          ],
          [
           3921278
          ],
          [
           2012649
          ],
          [
           3193942
          ],
          [
           6036914
          ],
          [
           19167654
          ],
          [
           13327079
          ],
          [
           24821286
          ],
          [
           12031795
          ],
          [
           3270065
          ],
          [
           1250882
          ],
          [
           108700890.99999999
          ],
          [
           2874127
          ],
          [
           684736
          ],
          [
           33757175
          ],
          [
           19951656
          ],
          [
           47761980
          ],
          [
           2055080
          ],
          [
           28901790
          ],
          [
           16570613
          ],
          [
           4115771
          ],
          [
           5675356
          ],
          [
           12894865
          ],
          [
           135031164
          ],
          [
           4627926
          ],
          [
           3204897
          ],
          [
           169270617
          ],
          [
           3242173
          ],
          [
           6667147
          ],
          [
           28674757
          ],
          [
           91077287
          ],
          [
           38518241
          ],
          [
           10642836
          ],
          [
           3942491
          ],
          [
           798094
          ],
          [
           22276056
          ],
          [
           8860588
          ],
          [
           199579
          ],
          [
           27601038
          ],
          [
           12267493
          ],
          [
           10150265
          ],
          [
           6144562
          ],
          [
           4553009
          ],
          [
           5447502
          ],
          [
           2009245
          ],
          [
           9118773
          ],
          [
           43997828
          ],
          [
           40448191
          ],
          [
           20378239
          ],
          [
           42292929
          ],
          [
           1133066
          ],
          [
           9031088
          ],
          [
           7554661
          ],
          [
           19314747
          ],
          [
           23174294
          ],
          [
           38139640
          ],
          [
           65068149
          ],
          [
           5701579
          ],
          [
           1056608
          ],
          [
           10276158
          ],
          [
           71158647
          ],
          [
           29170398
          ],
          [
           60776238
          ],
          [
           301139947
          ],
          [
           3447496
          ],
          [
           26084662
          ],
          [
           85262356
          ],
          [
           4018332
          ],
          [
           22211743
          ],
          [
           11746035
          ],
          [
           12311143
          ],
          [
           51941599.57997472
          ],
          [
           162462569.95602512
          ],
          [
           819914126.2938106
          ],
          [
           47152668.63854205
          ],
          [
           17698413.75720351
          ],
          [
           535570794.94230616
          ]
         ],
         "domain": {
          "x": [
           0,
           1
          ],
          "y": [
           0,
           1
          ]
         },
         "hovertemplate": "labels=%{label}<br>pop_sum=%{value}<br>parent=%{parent}<br>id=%{id}<br>pop=%{color}<extra></extra>",
         "ids": [
          "World/Asia/Afghanistan",
          "World/Europe/Albania",
          "World/Africa/Algeria",
          "World/Africa/Angola",
          "World/Americas/Argentina",
          "World/Oceania/Australia",
          "World/Europe/Austria",
          "World/Asia/Bahrain",
          "World/Asia/Bangladesh",
          "World/Europe/Belgium",
          "World/Africa/Benin",
          "World/Americas/Bolivia",
          "World/Europe/Bosnia and Herzegovina",
          "World/Africa/Botswana",
          "World/Americas/Brazil",
          "World/Europe/Bulgaria",
          "World/Africa/Burkina Faso",
          "World/Africa/Burundi",
          "World/Asia/Cambodia",
          "World/Africa/Cameroon",
          "World/Americas/Canada",
          "World/Africa/Central African Republic",
          "World/Africa/Chad",
          "World/Americas/Chile",
          "World/Asia/China",
          "World/Americas/Colombia",
          "World/Africa/Comoros",
          "World/Africa/Congo, Dem. Rep.",
          "World/Africa/Congo, Rep.",
          "World/Americas/Costa Rica",
          "World/Africa/Cote d'Ivoire",
          "World/Europe/Croatia",
          "World/Americas/Cuba",
          "World/Europe/Czech Republic",
          "World/Europe/Denmark",
          "World/Africa/Djibouti",
          "World/Americas/Dominican Republic",
          "World/Americas/Ecuador",
          "World/Africa/Egypt",
          "World/Americas/El Salvador",
          "World/Africa/Equatorial Guinea",
          "World/Africa/Eritrea",
          "World/Africa/Ethiopia",
          "World/Europe/Finland",
          "World/Europe/France",
          "World/Africa/Gabon",
          "World/Africa/Gambia",
          "World/Europe/Germany",
          "World/Africa/Ghana",
          "World/Europe/Greece",
          "World/Americas/Guatemala",
          "World/Africa/Guinea",
          "World/Africa/Guinea-Bissau",
          "World/Americas/Haiti",
          "World/Americas/Honduras",
          "World/Asia/Hong Kong, China",
          "World/Europe/Hungary",
          "World/Europe/Iceland",
          "World/Asia/India",
          "World/Asia/Indonesia",
          "World/Asia/Iran",
          "World/Asia/Iraq",
          "World/Europe/Ireland",
          "World/Asia/Israel",
          "World/Europe/Italy",
          "World/Americas/Jamaica",
          "World/Asia/Japan",
          "World/Asia/Jordan",
          "World/Africa/Kenya",
          "World/Asia/Korea, Dem. Rep.",
          "World/Asia/Korea, Rep.",
          "World/Asia/Kuwait",
          "World/Asia/Lebanon",
          "World/Africa/Lesotho",
          "World/Africa/Liberia",
          "World/Africa/Libya",
          "World/Africa/Madagascar",
          "World/Africa/Malawi",
          "World/Asia/Malaysia",
          "World/Africa/Mali",
          "World/Africa/Mauritania",
          "World/Africa/Mauritius",
          "World/Americas/Mexico",
          "World/Asia/Mongolia",
          "World/Europe/Montenegro",
          "World/Africa/Morocco",
          "World/Africa/Mozambique",
          "World/Asia/Myanmar",
          "World/Africa/Namibia",
          "World/Asia/Nepal",
          "World/Europe/Netherlands",
          "World/Oceania/New Zealand",
          "World/Americas/Nicaragua",
          "World/Africa/Niger",
          "World/Africa/Nigeria",
          "World/Europe/Norway",
          "World/Asia/Oman",
          "World/Asia/Pakistan",
          "World/Americas/Panama",
          "World/Americas/Paraguay",
          "World/Americas/Peru",
          "World/Asia/Philippines",
          "World/Europe/Poland",
          "World/Europe/Portugal",
          "World/Americas/Puerto Rico",
          "World/Africa/Reunion",
          "World/Europe/Romania",
          "World/Africa/Rwanda",
          "World/Africa/Sao Tome and Principe",
          "World/Asia/Saudi Arabia",
          "World/Africa/Senegal",
          "World/Europe/Serbia",
          "World/Africa/Sierra Leone",
          "World/Asia/Singapore",
          "World/Europe/Slovak Republic",
          "World/Europe/Slovenia",
          "World/Africa/Somalia",
          "World/Africa/South Africa",
          "World/Europe/Spain",
          "World/Asia/Sri Lanka",
          "World/Africa/Sudan",
          "World/Africa/Swaziland",
          "World/Europe/Sweden",
          "World/Europe/Switzerland",
          "World/Asia/Syria",
          "World/Asia/Taiwan",
          "World/Africa/Tanzania",
          "World/Asia/Thailand",
          "World/Africa/Togo",
          "World/Americas/Trinidad and Tobago",
          "World/Africa/Tunisia",
          "World/Europe/Turkey",
          "World/Africa/Uganda",
          "World/Europe/United Kingdom",
          "World/Americas/United States",
          "World/Americas/Uruguay",
          "World/Americas/Venezuela",
          "World/Asia/Vietnam",
          "World/Asia/West Bank and Gaza",
          "World/Asia/Yemen, Rep.",
          "World/Africa/Zambia",
          "World/Africa/Zimbabwe",
          "World/Africa",
          "World/Americas",
          "World/Asia",
          "World/Europe",
          "World/Oceania",
          "World"
         ],
         "labels": [
          "Afghanistan",
          "Albania",
          "Algeria",
          "Angola",
          "Argentina",
          "Australia",
          "Austria",
          "Bahrain",
          "Bangladesh",
          "Belgium",
          "Benin",
          "Bolivia",
          "Bosnia and Herzegovina",
          "Botswana",
          "Brazil",
          "Bulgaria",
          "Burkina Faso",
          "Burundi",
          "Cambodia",
          "Cameroon",
          "Canada",
          "Central African Republic",
          "Chad",
          "Chile",
          "China",
          "Colombia",
          "Comoros",
          "Congo, Dem. Rep.",
          "Congo, Rep.",
          "Costa Rica",
          "Cote d'Ivoire",
          "Croatia",
          "Cuba",
          "Czech Republic",
          "Denmark",
          "Djibouti",
          "Dominican Republic",
          "Ecuador",
          "Egypt",
          "El Salvador",
          "Equatorial Guinea",
          "Eritrea",
          "Ethiopia",
          "Finland",
          "France",
          "Gabon",
          "Gambia",
          "Germany",
          "Ghana",
          "Greece",
          "Guatemala",
          "Guinea",
          "Guinea-Bissau",
          "Haiti",
          "Honduras",
          "Hong Kong, China",
          "Hungary",
          "Iceland",
          "India",
          "Indonesia",
          "Iran",
          "Iraq",
          "Ireland",
          "Israel",
          "Italy",
          "Jamaica",
          "Japan",
          "Jordan",
          "Kenya",
          "Korea, Dem. Rep.",
          "Korea, Rep.",
          "Kuwait",
          "Lebanon",
          "Lesotho",
          "Liberia",
          "Libya",
          "Madagascar",
          "Malawi",
          "Malaysia",
          "Mali",
          "Mauritania",
          "Mauritius",
          "Mexico",
          "Mongolia",
          "Montenegro",
          "Morocco",
          "Mozambique",
          "Myanmar",
          "Namibia",
          "Nepal",
          "Netherlands",
          "New Zealand",
          "Nicaragua",
          "Niger",
          "Nigeria",
          "Norway",
          "Oman",
          "Pakistan",
          "Panama",
          "Paraguay",
          "Peru",
          "Philippines",
          "Poland",
          "Portugal",
          "Puerto Rico",
          "Reunion",
          "Romania",
          "Rwanda",
          "Sao Tome and Principe",
          "Saudi Arabia",
          "Senegal",
          "Serbia",
          "Sierra Leone",
          "Singapore",
          "Slovak Republic",
          "Slovenia",
          "Somalia",
          "South Africa",
          "Spain",
          "Sri Lanka",
          "Sudan",
          "Swaziland",
          "Sweden",
          "Switzerland",
          "Syria",
          "Taiwan",
          "Tanzania",
          "Thailand",
          "Togo",
          "Trinidad and Tobago",
          "Tunisia",
          "Turkey",
          "Uganda",
          "United Kingdom",
          "United States",
          "Uruguay",
          "Venezuela",
          "Vietnam",
          "West Bank and Gaza",
          "Yemen, Rep.",
          "Zambia",
          "Zimbabwe",
          "Africa",
          "Americas",
          "Asia",
          "Europe",
          "Oceania",
          "World"
         ],
         "marker": {
          "coloraxis": "coloraxis",
          "colors": [
           31889923,
           3600523,
           33333216,
           12420476,
           40301927,
           20434176,
           8199783,
           708573,
           150448339,
           10392226,
           8078314,
           9119152,
           4552198,
           1639131,
           190010647,
           7322858,
           14326203,
           8390505,
           14131858,
           17696293,
           33390141,
           4369038,
           10238807,
           16284741,
           1318683096,
           44227550,
           710960,
           64606759,
           3800610,
           4133884,
           18013409,
           4493312,
           11416987,
           10228744,
           5468120,
           496374,
           9319622,
           13755680,
           80264543,
           6939688,
           551201,
           4906585,
           76511887,
           5238460,
           61083916,
           1454867,
           1688359,
           82400996,
           22873338,
           10706290,
           12572928,
           9947814,
           1472041,
           8502814,
           7483763,
           6980412,
           9956108,
           301931,
           1110396331,
           223547000,
           69453570,
           27499638,
           4109086,
           6426679,
           58147733,
           2780132,
           127467972,
           6053193,
           35610177,
           23301725,
           49044790,
           2505559,
           3921278,
           2012649,
           3193942,
           6036914,
           19167654,
           13327079,
           24821286,
           12031795,
           3270065,
           1250882,
           108700890.99999999,
           2874127,
           684736,
           33757175,
           19951656,
           47761980,
           2055080,
           28901790,
           16570613,
           4115771,
           5675356,
           12894865,
           135031164,
           4627926,
           3204897,
           169270617,
           3242173,
           6667147,
           28674757,
           91077287,
           38518241,
           10642836,
           3942491,
           798094,
           22276056,
           8860588,
           199579,
           27601038,
           12267493,
           10150265,
           6144562,
           4553009,
           5447502,
           2009245,
           9118773,
           43997828,
           40448191,
           20378239,
           42292929,
           1133066,
           9031088,
           7554661,
           19314747,
           23174294,
           38139640,
           65068149,
           5701579,
           1056608,
           10276158,
           71158647,
           29170398,
           60776238,
           301139947,
           3447496,
           26084662,
           85262356,
           4018332,
           22211743,
           11746035,
           12311143,
           51941599.57997472,
           162462569.95602512,
           819914126.2938106,
           47152668.63854205,
           17698413.75720351,
           535570794.94230616
          ]
         },
         "name": "",
         "parents": [
          "World/Asia",
          "World/Europe",
          "World/Africa",
          "World/Africa",
          "World/Americas",
          "World/Oceania",
          "World/Europe",
          "World/Asia",
          "World/Asia",
          "World/Europe",
          "World/Africa",
          "World/Americas",
          "World/Europe",
          "World/Africa",
          "World/Americas",
          "World/Europe",
          "World/Africa",
          "World/Africa",
          "World/Asia",
          "World/Africa",
          "World/Americas",
          "World/Africa",
          "World/Africa",
          "World/Americas",
          "World/Asia",
          "World/Americas",
          "World/Africa",
          "World/Africa",
          "World/Africa",
          "World/Americas",
          "World/Africa",
          "World/Europe",
          "World/Americas",
          "World/Europe",
          "World/Europe",
          "World/Africa",
          "World/Americas",
          "World/Americas",
          "World/Africa",
          "World/Americas",
          "World/Africa",
          "World/Africa",
          "World/Africa",
          "World/Europe",
          "World/Europe",
          "World/Africa",
          "World/Africa",
          "World/Europe",
          "World/Africa",
          "World/Europe",
          "World/Americas",
          "World/Africa",
          "World/Africa",
          "World/Americas",
          "World/Americas",
          "World/Asia",
          "World/Europe",
          "World/Europe",
          "World/Asia",
          "World/Asia",
          "World/Asia",
          "World/Asia",
          "World/Europe",
          "World/Asia",
          "World/Europe",
          "World/Americas",
          "World/Asia",
          "World/Asia",
          "World/Africa",
          "World/Asia",
          "World/Asia",
          "World/Asia",
          "World/Asia",
          "World/Africa",
          "World/Africa",
          "World/Africa",
          "World/Africa",
          "World/Africa",
          "World/Asia",
          "World/Africa",
          "World/Africa",
          "World/Africa",
          "World/Americas",
          "World/Asia",
          "World/Europe",
          "World/Africa",
          "World/Africa",
          "World/Asia",
          "World/Africa",
          "World/Asia",
          "World/Europe",
          "World/Oceania",
          "World/Americas",
          "World/Africa",
          "World/Africa",
          "World/Europe",
          "World/Asia",
          "World/Asia",
          "World/Americas",
          "World/Americas",
          "World/Americas",
          "World/Asia",
          "World/Europe",
          "World/Europe",
          "World/Americas",
          "World/Africa",
          "World/Europe",
          "World/Africa",
          "World/Africa",
          "World/Asia",
          "World/Africa",
          "World/Europe",
          "World/Africa",
          "World/Asia",
          "World/Europe",
          "World/Europe",
          "World/Africa",
          "World/Africa",
          "World/Europe",
          "World/Asia",
          "World/Africa",
          "World/Africa",
          "World/Europe",
          "World/Europe",
          "World/Asia",
          "World/Asia",
          "World/Africa",
          "World/Asia",
          "World/Africa",
          "World/Americas",
          "World/Africa",
          "World/Europe",
          "World/Africa",
          "World/Europe",
          "World/Americas",
          "World/Americas",
          "World/Americas",
          "World/Asia",
          "World/Asia",
          "World/Asia",
          "World/Africa",
          "World/Africa",
          "World",
          "World",
          "World",
          "World",
          "World",
          ""
         ],
         "type": "treemap",
         "values": [
          31889923,
          3600523,
          33333216,
          12420476,
          40301927,
          20434176,
          8199783,
          708573,
          150448339,
          10392226,
          8078314,
          9119152,
          4552198,
          1639131,
          190010647,
          7322858,
          14326203,
          8390505,
          14131858,
          17696293,
          33390141,
          4369038,
          10238807,
          16284741,
          1318683096,
          44227550,
          710960,
          64606759,
          3800610,
          4133884,
          18013409,
          4493312,
          11416987,
          10228744,
          5468120,
          496374,
          9319622,
          13755680,
          80264543,
          6939688,
          551201,
          4906585,
          76511887,
          5238460,
          61083916,
          1454867,
          1688359,
          82400996,
          22873338,
          10706290,
          12572928,
          9947814,
          1472041,
          8502814,
          7483763,
          6980412,
          9956108,
          301931,
          1110396331,
          223547000,
          69453570,
          27499638,
          4109086,
          6426679,
          58147733,
          2780132,
          127467972,
          6053193,
          35610177,
          23301725,
          49044790,
          2505559,
          3921278,
          2012649,
          3193942,
          6036914,
          19167654,
          13327079,
          24821286,
          12031795,
          3270065,
          1250882,
          108700891,
          2874127,
          684736,
          33757175,
          19951656,
          47761980,
          2055080,
          28901790,
          16570613,
          4115771,
          5675356,
          12894865,
          135031164,
          4627926,
          3204897,
          169270617,
          3242173,
          6667147,
          28674757,
          91077287,
          38518241,
          10642836,
          3942491,
          798094,
          22276056,
          8860588,
          199579,
          27601038,
          12267493,
          10150265,
          6144562,
          4553009,
          5447502,
          2009245,
          9118773,
          43997828,
          40448191,
          20378239,
          42292929,
          1133066,
          9031088,
          7554661,
          19314747,
          23174294,
          38139640,
          65068149,
          5701579,
          1056608,
          10276158,
          71158647,
          29170398,
          60776238,
          301139947,
          3447496,
          26084662,
          85262356,
          4018332,
          22211743,
          11746035,
          12311143,
          929539692,
          898871184,
          3811953827,
          586098529,
          24549947,
          6251013179
         ]
        }
       ],
       "layout": {
        "coloraxis": {
         "colorbar": {
          "title": {
           "text": "pop"
          }
         },
         "colorscale": [
          [
           0,
           "rgb(255,245,235)"
          ],
          [
           0.125,
           "rgb(254,230,206)"
          ],
          [
           0.25,
           "rgb(253,208,162)"
          ],
          [
           0.375,
           "rgb(253,174,107)"
          ],
          [
           0.5,
           "rgb(253,141,60)"
          ],
          [
           0.625,
           "rgb(241,105,19)"
          ],
          [
           0.75,
           "rgb(217,72,1)"
          ],
          [
           0.875,
           "rgb(166,54,3)"
          ],
          [
           1,
           "rgb(127,39,4)"
          ]
         ]
        },
        "legend": {
         "tracegroupgap": 0
        },
        "template": {
         "data": {
          "bar": [
           {
            "error_x": {
             "color": "#2a3f5f"
            },
            "error_y": {
             "color": "#2a3f5f"
            },
            "marker": {
             "line": {
              "color": "#E5ECF6",
              "width": 0.5
             },
             "pattern": {
              "fillmode": "overlay",
              "size": 10,
              "solidity": 0.2
             }
            },
            "type": "bar"
           }
          ],
          "barpolar": [
           {
            "marker": {
             "line": {
              "color": "#E5ECF6",
              "width": 0.5
             },
             "pattern": {
              "fillmode": "overlay",
              "size": 10,
              "solidity": 0.2
             }
            },
            "type": "barpolar"
           }
          ],
          "carpet": [
           {
            "aaxis": {
             "endlinecolor": "#2a3f5f",
             "gridcolor": "white",
             "linecolor": "white",
             "minorgridcolor": "white",
             "startlinecolor": "#2a3f5f"
            },
            "baxis": {
             "endlinecolor": "#2a3f5f",
             "gridcolor": "white",
             "linecolor": "white",
             "minorgridcolor": "white",
             "startlinecolor": "#2a3f5f"
            },
            "type": "carpet"
           }
          ],
          "choropleth": [
           {
            "colorbar": {
             "outlinewidth": 0,
             "ticks": ""
            },
            "type": "choropleth"
           }
          ],
          "contour": [
           {
            "colorbar": {
             "outlinewidth": 0,
             "ticks": ""
            },
            "colorscale": [
             [
              0,
              "#0d0887"
             ],
             [
              0.1111111111111111,
              "#46039f"
             ],
             [
              0.2222222222222222,
              "#7201a8"
             ],
             [
              0.3333333333333333,
              "#9c179e"
             ],
             [
              0.4444444444444444,
              "#bd3786"
             ],
             [
              0.5555555555555556,
              "#d8576b"
             ],
             [
              0.6666666666666666,
              "#ed7953"
             ],
             [
              0.7777777777777778,
              "#fb9f3a"
             ],
             [
              0.8888888888888888,
              "#fdca26"
             ],
             [
              1,
              "#f0f921"
             ]
            ],
            "type": "contour"
           }
          ],
          "contourcarpet": [
           {
            "colorbar": {
             "outlinewidth": 0,
             "ticks": ""
            },
            "type": "contourcarpet"
           }
          ],
          "heatmap": [
           {
            "colorbar": {
             "outlinewidth": 0,
             "ticks": ""
            },
            "colorscale": [
             [
              0,
              "#0d0887"
             ],
             [
              0.1111111111111111,
              "#46039f"
             ],
             [
              0.2222222222222222,
              "#7201a8"
             ],
             [
              0.3333333333333333,
              "#9c179e"
             ],
             [
              0.4444444444444444,
              "#bd3786"
             ],
             [
              0.5555555555555556,
              "#d8576b"
             ],
             [
              0.6666666666666666,
              "#ed7953"
             ],
             [
              0.7777777777777778,
              "#fb9f3a"
             ],
             [
              0.8888888888888888,
              "#fdca26"
             ],
             [
              1,
              "#f0f921"
             ]
            ],
            "type": "heatmap"
           }
          ],
          "heatmapgl": [
           {
            "colorbar": {
             "outlinewidth": 0,
             "ticks": ""
            },
            "colorscale": [
             [
              0,
              "#0d0887"
             ],
             [
              0.1111111111111111,
              "#46039f"
             ],
             [
              0.2222222222222222,
              "#7201a8"
             ],
             [
              0.3333333333333333,
              "#9c179e"
             ],
             [
              0.4444444444444444,
              "#bd3786"
             ],
             [
              0.5555555555555556,
              "#d8576b"
             ],
             [
              0.6666666666666666,
              "#ed7953"
             ],
             [
              0.7777777777777778,
              "#fb9f3a"
             ],
             [
              0.8888888888888888,
              "#fdca26"
             ],
             [
              1,
              "#f0f921"
             ]
            ],
            "type": "heatmapgl"
           }
          ],
          "histogram": [
           {
            "marker": {
             "pattern": {
              "fillmode": "overlay",
              "size": 10,
              "solidity": 0.2
             }
            },
            "type": "histogram"
           }
          ],
          "histogram2d": [
           {
            "colorbar": {
             "outlinewidth": 0,
             "ticks": ""
            },
            "colorscale": [
             [
              0,
              "#0d0887"
             ],
             [
              0.1111111111111111,
              "#46039f"
             ],
             [
              0.2222222222222222,
              "#7201a8"
             ],
             [
              0.3333333333333333,
              "#9c179e"
             ],
             [
              0.4444444444444444,
              "#bd3786"
             ],
             [
              0.5555555555555556,
              "#d8576b"
             ],
             [
              0.6666666666666666,
              "#ed7953"
             ],
             [
              0.7777777777777778,
              "#fb9f3a"
             ],
             [
              0.8888888888888888,
              "#fdca26"
             ],
             [
              1,
              "#f0f921"
             ]
            ],
            "type": "histogram2d"
           }
          ],
          "histogram2dcontour": [
           {
            "colorbar": {
             "outlinewidth": 0,
             "ticks": ""
            },
            "colorscale": [
             [
              0,
              "#0d0887"
             ],
             [
              0.1111111111111111,
              "#46039f"
             ],
             [
              0.2222222222222222,
              "#7201a8"
             ],
             [
              0.3333333333333333,
              "#9c179e"
             ],
             [
              0.4444444444444444,
              "#bd3786"
             ],
             [
              0.5555555555555556,
              "#d8576b"
             ],
             [
              0.6666666666666666,
              "#ed7953"
             ],
             [
              0.7777777777777778,
              "#fb9f3a"
             ],
             [
              0.8888888888888888,
              "#fdca26"
             ],
             [
              1,
              "#f0f921"
             ]
            ],
            "type": "histogram2dcontour"
           }
          ],
          "mesh3d": [
           {
            "colorbar": {
             "outlinewidth": 0,
             "ticks": ""
            },
            "type": "mesh3d"
           }
          ],
          "parcoords": [
           {
            "line": {
             "colorbar": {
              "outlinewidth": 0,
              "ticks": ""
             }
            },
            "type": "parcoords"
           }
          ],
          "pie": [
           {
            "automargin": true,
            "type": "pie"
           }
          ],
          "scatter": [
           {
            "fillpattern": {
             "fillmode": "overlay",
             "size": 10,
             "solidity": 0.2
            },
            "type": "scatter"
           }
          ],
          "scatter3d": [
           {
            "line": {
             "colorbar": {
              "outlinewidth": 0,
              "ticks": ""
             }
            },
            "marker": {
             "colorbar": {
              "outlinewidth": 0,
              "ticks": ""
             }
            },
            "type": "scatter3d"
           }
          ],
          "scattercarpet": [
           {
            "marker": {
             "colorbar": {
              "outlinewidth": 0,
              "ticks": ""
             }
            },
            "type": "scattercarpet"
           }
          ],
          "scattergeo": [
           {
            "marker": {
             "colorbar": {
              "outlinewidth": 0,
              "ticks": ""
             }
            },
            "type": "scattergeo"
           }
          ],
          "scattergl": [
           {
            "marker": {
             "colorbar": {
              "outlinewidth": 0,
              "ticks": ""
             }
            },
            "type": "scattergl"
           }
          ],
          "scattermapbox": [
           {
            "marker": {
             "colorbar": {
              "outlinewidth": 0,
              "ticks": ""
             }
            },
            "type": "scattermapbox"
           }
          ],
          "scatterpolar": [
           {
            "marker": {
             "colorbar": {
              "outlinewidth": 0,
              "ticks": ""
             }
            },
            "type": "scatterpolar"
           }
          ],
          "scatterpolargl": [
           {
            "marker": {
             "colorbar": {
              "outlinewidth": 0,
              "ticks": ""
             }
            },
            "type": "scatterpolargl"
           }
          ],
          "scatterternary": [
           {
            "marker": {
             "colorbar": {
              "outlinewidth": 0,
              "ticks": ""
             }
            },
            "type": "scatterternary"
           }
          ],
          "surface": [
           {
            "colorbar": {
             "outlinewidth": 0,
             "ticks": ""
            },
            "colorscale": [
             [
              0,
              "#0d0887"
             ],
             [
              0.1111111111111111,
              "#46039f"
             ],
             [
              0.2222222222222222,
              "#7201a8"
             ],
             [
              0.3333333333333333,
              "#9c179e"
             ],
             [
              0.4444444444444444,
              "#bd3786"
             ],
             [
              0.5555555555555556,
              "#d8576b"
             ],
             [
              0.6666666666666666,
              "#ed7953"
             ],
             [
              0.7777777777777778,
              "#fb9f3a"
             ],
             [
              0.8888888888888888,
              "#fdca26"
             ],
             [
              1,
              "#f0f921"
             ]
            ],
            "type": "surface"
           }
          ],
          "table": [
           {
            "cells": {
             "fill": {
              "color": "#EBF0F8"
             },
             "line": {
              "color": "white"
             }
            },
            "header": {
             "fill": {
              "color": "#C8D4E3"
             },
             "line": {
              "color": "white"
             }
            },
            "type": "table"
           }
          ]
         },
         "layout": {
          "annotationdefaults": {
           "arrowcolor": "#2a3f5f",
           "arrowhead": 0,
           "arrowwidth": 1
          },
          "autotypenumbers": "strict",
          "coloraxis": {
           "colorbar": {
            "outlinewidth": 0,
            "ticks": ""
           }
          },
          "colorscale": {
           "diverging": [
            [
             0,
             "#8e0152"
            ],
            [
             0.1,
             "#c51b7d"
            ],
            [
             0.2,
             "#de77ae"
            ],
            [
             0.3,
             "#f1b6da"
            ],
            [
             0.4,
             "#fde0ef"
            ],
            [
             0.5,
             "#f7f7f7"
            ],
            [
             0.6,
             "#e6f5d0"
            ],
            [
             0.7,
             "#b8e186"
            ],
            [
             0.8,
             "#7fbc41"
            ],
            [
             0.9,
             "#4d9221"
            ],
            [
             1,
             "#276419"
            ]
           ],
           "sequential": [
            [
             0,
             "#0d0887"
            ],
            [
             0.1111111111111111,
             "#46039f"
            ],
            [
             0.2222222222222222,
             "#7201a8"
            ],
            [
             0.3333333333333333,
             "#9c179e"
            ],
            [
             0.4444444444444444,
             "#bd3786"
            ],
            [
             0.5555555555555556,
             "#d8576b"
            ],
            [
             0.6666666666666666,
             "#ed7953"
            ],
            [
             0.7777777777777778,
             "#fb9f3a"
            ],
            [
             0.8888888888888888,
             "#fdca26"
            ],
            [
             1,
             "#f0f921"
            ]
           ],
           "sequentialminus": [
            [
             0,
             "#0d0887"
            ],
            [
             0.1111111111111111,
             "#46039f"
            ],
            [
             0.2222222222222222,
             "#7201a8"
            ],
            [
             0.3333333333333333,
             "#9c179e"
            ],
            [
             0.4444444444444444,
             "#bd3786"
            ],
            [
             0.5555555555555556,
             "#d8576b"
            ],
            [
             0.6666666666666666,
             "#ed7953"
            ],
            [
             0.7777777777777778,
             "#fb9f3a"
            ],
            [
             0.8888888888888888,
             "#fdca26"
            ],
            [
             1,
             "#f0f921"
            ]
           ]
          },
          "colorway": [
           "#636efa",
           "#EF553B",
           "#00cc96",
           "#ab63fa",
           "#FFA15A",
           "#19d3f3",
           "#FF6692",
           "#B6E880",
           "#FF97FF",
           "#FECB52"
          ],
          "font": {
           "color": "#2a3f5f"
          },
          "geo": {
           "bgcolor": "white",
           "lakecolor": "white",
           "landcolor": "#E5ECF6",
           "showlakes": true,
           "showland": true,
           "subunitcolor": "white"
          },
          "hoverlabel": {
           "align": "left"
          },
          "hovermode": "closest",
          "mapbox": {
           "style": "light"
          },
          "paper_bgcolor": "white",
          "plot_bgcolor": "#E5ECF6",
          "polar": {
           "angularaxis": {
            "gridcolor": "white",
            "linecolor": "white",
            "ticks": ""
           },
           "bgcolor": "#E5ECF6",
           "radialaxis": {
            "gridcolor": "white",
            "linecolor": "white",
            "ticks": ""
           }
          },
          "scene": {
           "xaxis": {
            "backgroundcolor": "#E5ECF6",
            "gridcolor": "white",
            "gridwidth": 2,
            "linecolor": "white",
            "showbackground": true,
            "ticks": "",
            "zerolinecolor": "white"
           },
           "yaxis": {
            "backgroundcolor": "#E5ECF6",
            "gridcolor": "white",
            "gridwidth": 2,
            "linecolor": "white",
            "showbackground": true,
            "ticks": "",
            "zerolinecolor": "white"
           },
           "zaxis": {
            "backgroundcolor": "#E5ECF6",
            "gridcolor": "white",
            "gridwidth": 2,
            "linecolor": "white",
            "showbackground": true,
            "ticks": "",
            "zerolinecolor": "white"
           }
          },
          "shapedefaults": {
           "line": {
            "color": "#2a3f5f"
           }
          },
          "ternary": {
           "aaxis": {
            "gridcolor": "white",
            "linecolor": "white",
            "ticks": ""
           },
           "baxis": {
            "gridcolor": "white",
            "linecolor": "white",
            "ticks": ""
           },
           "bgcolor": "#E5ECF6",
           "caxis": {
            "gridcolor": "white",
            "linecolor": "white",
            "ticks": ""
           }
          },
          "title": {
           "x": 0.05
          },
          "xaxis": {
           "automargin": true,
           "gridcolor": "white",
           "linecolor": "white",
           "ticks": "",
           "title": {
            "standoff": 15
           },
           "zerolinecolor": "white",
           "zerolinewidth": 2
          },
          "yaxis": {
           "automargin": true,
           "gridcolor": "white",
           "linecolor": "white",
           "ticks": "",
           "title": {
            "standoff": 15
           },
           "zerolinecolor": "white",
           "zerolinewidth": 2
          }
         }
        },
        "title": {
         "text": "2007 Dünya Nüfusu"
        }
       }
      },
      "text/html": [
       "<div>                            <div id=\"7fa6b045-578a-423d-ac36-3e88d5b1e826\" class=\"plotly-graph-div\" style=\"height:525px; width:100%;\"></div>            <script type=\"text/javascript\">                require([\"plotly\"], function(Plotly) {                    window.PLOTLYENV=window.PLOTLYENV || {};                                    if (document.getElementById(\"7fa6b045-578a-423d-ac36-3e88d5b1e826\")) {                    Plotly.newPlot(                        \"7fa6b045-578a-423d-ac36-3e88d5b1e826\",                        [{\"branchvalues\":\"total\",\"customdata\":[[31889923.0],[3600523.0],[33333216.0],[12420476.0],[40301927.0],[20434176.0],[8199783.0],[708573.0],[150448339.0],[10392226.0],[8078314.0],[9119152.0],[4552198.0],[1639131.0],[190010647.0],[7322858.0],[14326203.0],[8390505.0],[14131858.0],[17696293.0],[33390141.0],[4369038.0],[10238807.0],[16284741.0],[1318683096.0],[44227550.0],[710960.0],[64606759.0],[3800610.0],[4133884.0],[18013409.0],[4493312.0],[11416987.0],[10228744.0],[5468120.0],[496374.0],[9319622.0],[13755680.0],[80264543.0],[6939688.0],[551201.0],[4906585.0],[76511887.0],[5238460.0],[61083916.0],[1454867.0],[1688359.0],[82400996.0],[22873338.0],[10706290.0],[12572928.0],[9947814.0],[1472041.0],[8502814.0],[7483763.0],[6980412.0],[9956108.0],[301931.0],[1110396331.0],[223547000.0],[69453570.0],[27499638.0],[4109086.0],[6426679.0],[58147733.0],[2780132.0],[127467972.0],[6053193.0],[35610177.0],[23301725.0],[49044790.0],[2505559.0],[3921278.0],[2012649.0],[3193942.0],[6036914.0],[19167654.0],[13327079.0],[24821286.0],[12031795.0],[3270065.0],[1250882.0],[108700890.99999999],[2874127.0],[684736.0],[33757175.0],[19951656.0],[47761980.0],[2055080.0],[28901790.0],[16570613.0],[4115771.0],[5675356.0],[12894865.0],[135031164.0],[4627926.0],[3204897.0],[169270617.0],[3242173.0],[6667147.0],[28674757.0],[91077287.0],[38518241.0],[10642836.0],[3942491.0],[798094.0],[22276056.0],[8860588.0],[199579.0],[27601038.0],[12267493.0],[10150265.0],[6144562.0],[4553009.0],[5447502.0],[2009245.0],[9118773.0],[43997828.0],[40448191.0],[20378239.0],[42292929.0],[1133066.0],[9031088.0],[7554661.0],[19314747.0],[23174294.0],[38139640.0],[65068149.0],[5701579.0],[1056608.0],[10276158.0],[71158647.0],[29170398.0],[60776238.0],[301139947.0],[3447496.0],[26084662.0],[85262356.0],[4018332.0],[22211743.0],[11746035.0],[12311143.0],[51941599.57997472],[162462569.95602512],[819914126.2938106],[47152668.63854205],[17698413.75720351],[535570794.94230616]],\"domain\":{\"x\":[0.0,1.0],\"y\":[0.0,1.0]},\"hovertemplate\":\"labels=%{label}<br>pop_sum=%{value}<br>parent=%{parent}<br>id=%{id}<br>pop=%{color}<extra></extra>\",\"ids\":[\"World/Asia/Afghanistan\",\"World/Europe/Albania\",\"World/Africa/Algeria\",\"World/Africa/Angola\",\"World/Americas/Argentina\",\"World/Oceania/Australia\",\"World/Europe/Austria\",\"World/Asia/Bahrain\",\"World/Asia/Bangladesh\",\"World/Europe/Belgium\",\"World/Africa/Benin\",\"World/Americas/Bolivia\",\"World/Europe/Bosnia and Herzegovina\",\"World/Africa/Botswana\",\"World/Americas/Brazil\",\"World/Europe/Bulgaria\",\"World/Africa/Burkina Faso\",\"World/Africa/Burundi\",\"World/Asia/Cambodia\",\"World/Africa/Cameroon\",\"World/Americas/Canada\",\"World/Africa/Central African Republic\",\"World/Africa/Chad\",\"World/Americas/Chile\",\"World/Asia/China\",\"World/Americas/Colombia\",\"World/Africa/Comoros\",\"World/Africa/Congo, Dem. Rep.\",\"World/Africa/Congo, Rep.\",\"World/Americas/Costa Rica\",\"World/Africa/Cote d'Ivoire\",\"World/Europe/Croatia\",\"World/Americas/Cuba\",\"World/Europe/Czech Republic\",\"World/Europe/Denmark\",\"World/Africa/Djibouti\",\"World/Americas/Dominican Republic\",\"World/Americas/Ecuador\",\"World/Africa/Egypt\",\"World/Americas/El Salvador\",\"World/Africa/Equatorial Guinea\",\"World/Africa/Eritrea\",\"World/Africa/Ethiopia\",\"World/Europe/Finland\",\"World/Europe/France\",\"World/Africa/Gabon\",\"World/Africa/Gambia\",\"World/Europe/Germany\",\"World/Africa/Ghana\",\"World/Europe/Greece\",\"World/Americas/Guatemala\",\"World/Africa/Guinea\",\"World/Africa/Guinea-Bissau\",\"World/Americas/Haiti\",\"World/Americas/Honduras\",\"World/Asia/Hong Kong, China\",\"World/Europe/Hungary\",\"World/Europe/Iceland\",\"World/Asia/India\",\"World/Asia/Indonesia\",\"World/Asia/Iran\",\"World/Asia/Iraq\",\"World/Europe/Ireland\",\"World/Asia/Israel\",\"World/Europe/Italy\",\"World/Americas/Jamaica\",\"World/Asia/Japan\",\"World/Asia/Jordan\",\"World/Africa/Kenya\",\"World/Asia/Korea, Dem. Rep.\",\"World/Asia/Korea, Rep.\",\"World/Asia/Kuwait\",\"World/Asia/Lebanon\",\"World/Africa/Lesotho\",\"World/Africa/Liberia\",\"World/Africa/Libya\",\"World/Africa/Madagascar\",\"World/Africa/Malawi\",\"World/Asia/Malaysia\",\"World/Africa/Mali\",\"World/Africa/Mauritania\",\"World/Africa/Mauritius\",\"World/Americas/Mexico\",\"World/Asia/Mongolia\",\"World/Europe/Montenegro\",\"World/Africa/Morocco\",\"World/Africa/Mozambique\",\"World/Asia/Myanmar\",\"World/Africa/Namibia\",\"World/Asia/Nepal\",\"World/Europe/Netherlands\",\"World/Oceania/New Zealand\",\"World/Americas/Nicaragua\",\"World/Africa/Niger\",\"World/Africa/Nigeria\",\"World/Europe/Norway\",\"World/Asia/Oman\",\"World/Asia/Pakistan\",\"World/Americas/Panama\",\"World/Americas/Paraguay\",\"World/Americas/Peru\",\"World/Asia/Philippines\",\"World/Europe/Poland\",\"World/Europe/Portugal\",\"World/Americas/Puerto Rico\",\"World/Africa/Reunion\",\"World/Europe/Romania\",\"World/Africa/Rwanda\",\"World/Africa/Sao Tome and Principe\",\"World/Asia/Saudi Arabia\",\"World/Africa/Senegal\",\"World/Europe/Serbia\",\"World/Africa/Sierra Leone\",\"World/Asia/Singapore\",\"World/Europe/Slovak Republic\",\"World/Europe/Slovenia\",\"World/Africa/Somalia\",\"World/Africa/South Africa\",\"World/Europe/Spain\",\"World/Asia/Sri Lanka\",\"World/Africa/Sudan\",\"World/Africa/Swaziland\",\"World/Europe/Sweden\",\"World/Europe/Switzerland\",\"World/Asia/Syria\",\"World/Asia/Taiwan\",\"World/Africa/Tanzania\",\"World/Asia/Thailand\",\"World/Africa/Togo\",\"World/Americas/Trinidad and Tobago\",\"World/Africa/Tunisia\",\"World/Europe/Turkey\",\"World/Africa/Uganda\",\"World/Europe/United Kingdom\",\"World/Americas/United States\",\"World/Americas/Uruguay\",\"World/Americas/Venezuela\",\"World/Asia/Vietnam\",\"World/Asia/West Bank and Gaza\",\"World/Asia/Yemen, Rep.\",\"World/Africa/Zambia\",\"World/Africa/Zimbabwe\",\"World/Africa\",\"World/Americas\",\"World/Asia\",\"World/Europe\",\"World/Oceania\",\"World\"],\"labels\":[\"Afghanistan\",\"Albania\",\"Algeria\",\"Angola\",\"Argentina\",\"Australia\",\"Austria\",\"Bahrain\",\"Bangladesh\",\"Belgium\",\"Benin\",\"Bolivia\",\"Bosnia and Herzegovina\",\"Botswana\",\"Brazil\",\"Bulgaria\",\"Burkina Faso\",\"Burundi\",\"Cambodia\",\"Cameroon\",\"Canada\",\"Central African Republic\",\"Chad\",\"Chile\",\"China\",\"Colombia\",\"Comoros\",\"Congo, Dem. Rep.\",\"Congo, Rep.\",\"Costa Rica\",\"Cote d'Ivoire\",\"Croatia\",\"Cuba\",\"Czech Republic\",\"Denmark\",\"Djibouti\",\"Dominican Republic\",\"Ecuador\",\"Egypt\",\"El Salvador\",\"Equatorial Guinea\",\"Eritrea\",\"Ethiopia\",\"Finland\",\"France\",\"Gabon\",\"Gambia\",\"Germany\",\"Ghana\",\"Greece\",\"Guatemala\",\"Guinea\",\"Guinea-Bissau\",\"Haiti\",\"Honduras\",\"Hong Kong, China\",\"Hungary\",\"Iceland\",\"India\",\"Indonesia\",\"Iran\",\"Iraq\",\"Ireland\",\"Israel\",\"Italy\",\"Jamaica\",\"Japan\",\"Jordan\",\"Kenya\",\"Korea, Dem. Rep.\",\"Korea, Rep.\",\"Kuwait\",\"Lebanon\",\"Lesotho\",\"Liberia\",\"Libya\",\"Madagascar\",\"Malawi\",\"Malaysia\",\"Mali\",\"Mauritania\",\"Mauritius\",\"Mexico\",\"Mongolia\",\"Montenegro\",\"Morocco\",\"Mozambique\",\"Myanmar\",\"Namibia\",\"Nepal\",\"Netherlands\",\"New Zealand\",\"Nicaragua\",\"Niger\",\"Nigeria\",\"Norway\",\"Oman\",\"Pakistan\",\"Panama\",\"Paraguay\",\"Peru\",\"Philippines\",\"Poland\",\"Portugal\",\"Puerto Rico\",\"Reunion\",\"Romania\",\"Rwanda\",\"Sao Tome and Principe\",\"Saudi Arabia\",\"Senegal\",\"Serbia\",\"Sierra Leone\",\"Singapore\",\"Slovak Republic\",\"Slovenia\",\"Somalia\",\"South Africa\",\"Spain\",\"Sri Lanka\",\"Sudan\",\"Swaziland\",\"Sweden\",\"Switzerland\",\"Syria\",\"Taiwan\",\"Tanzania\",\"Thailand\",\"Togo\",\"Trinidad and Tobago\",\"Tunisia\",\"Turkey\",\"Uganda\",\"United Kingdom\",\"United States\",\"Uruguay\",\"Venezuela\",\"Vietnam\",\"West Bank and Gaza\",\"Yemen, Rep.\",\"Zambia\",\"Zimbabwe\",\"Africa\",\"Americas\",\"Asia\",\"Europe\",\"Oceania\",\"World\"],\"marker\":{\"coloraxis\":\"coloraxis\",\"colors\":[31889923.0,3600523.0,33333216.0,12420476.0,40301927.0,20434176.0,8199783.0,708573.0,150448339.0,10392226.0,8078314.0,9119152.0,4552198.0,1639131.0,190010647.0,7322858.0,14326203.0,8390505.0,14131858.0,17696293.0,33390141.0,4369038.0,10238807.0,16284741.0,1318683096.0,44227550.0,710960.0,64606759.0,3800610.0,4133884.0,18013409.0,4493312.0,11416987.0,10228744.0,5468120.0,496374.0,9319622.0,13755680.0,80264543.0,6939688.0,551201.0,4906585.0,76511887.0,5238460.0,61083916.0,1454867.0,1688359.0,82400996.0,22873338.0,10706290.0,12572928.0,9947814.0,1472041.0,8502814.0,7483763.0,6980412.0,9956108.0,301931.0,1110396331.0,223547000.0,69453570.0,27499638.0,4109086.0,6426679.0,58147733.0,2780132.0,127467972.0,6053193.0,35610177.0,23301725.0,49044790.0,2505559.0,3921278.0,2012649.0,3193942.0,6036914.0,19167654.0,13327079.0,24821286.0,12031795.0,3270065.0,1250882.0,108700890.99999999,2874127.0,684736.0,33757175.0,19951656.0,47761980.0,2055080.0,28901790.0,16570613.0,4115771.0,5675356.0,12894865.0,135031164.0,4627926.0,3204897.0,169270617.0,3242173.0,6667147.0,28674757.0,91077287.0,38518241.0,10642836.0,3942491.0,798094.0,22276056.0,8860588.0,199579.0,27601038.0,12267493.0,10150265.0,6144562.0,4553009.0,5447502.0,2009245.0,9118773.0,43997828.0,40448191.0,20378239.0,42292929.0,1133066.0,9031088.0,7554661.0,19314747.0,23174294.0,38139640.0,65068149.0,5701579.0,1056608.0,10276158.0,71158647.0,29170398.0,60776238.0,301139947.0,3447496.0,26084662.0,85262356.0,4018332.0,22211743.0,11746035.0,12311143.0,51941599.57997472,162462569.95602512,819914126.2938106,47152668.63854205,17698413.75720351,535570794.94230616]},\"name\":\"\",\"parents\":[\"World/Asia\",\"World/Europe\",\"World/Africa\",\"World/Africa\",\"World/Americas\",\"World/Oceania\",\"World/Europe\",\"World/Asia\",\"World/Asia\",\"World/Europe\",\"World/Africa\",\"World/Americas\",\"World/Europe\",\"World/Africa\",\"World/Americas\",\"World/Europe\",\"World/Africa\",\"World/Africa\",\"World/Asia\",\"World/Africa\",\"World/Americas\",\"World/Africa\",\"World/Africa\",\"World/Americas\",\"World/Asia\",\"World/Americas\",\"World/Africa\",\"World/Africa\",\"World/Africa\",\"World/Americas\",\"World/Africa\",\"World/Europe\",\"World/Americas\",\"World/Europe\",\"World/Europe\",\"World/Africa\",\"World/Americas\",\"World/Americas\",\"World/Africa\",\"World/Americas\",\"World/Africa\",\"World/Africa\",\"World/Africa\",\"World/Europe\",\"World/Europe\",\"World/Africa\",\"World/Africa\",\"World/Europe\",\"World/Africa\",\"World/Europe\",\"World/Americas\",\"World/Africa\",\"World/Africa\",\"World/Americas\",\"World/Americas\",\"World/Asia\",\"World/Europe\",\"World/Europe\",\"World/Asia\",\"World/Asia\",\"World/Asia\",\"World/Asia\",\"World/Europe\",\"World/Asia\",\"World/Europe\",\"World/Americas\",\"World/Asia\",\"World/Asia\",\"World/Africa\",\"World/Asia\",\"World/Asia\",\"World/Asia\",\"World/Asia\",\"World/Africa\",\"World/Africa\",\"World/Africa\",\"World/Africa\",\"World/Africa\",\"World/Asia\",\"World/Africa\",\"World/Africa\",\"World/Africa\",\"World/Americas\",\"World/Asia\",\"World/Europe\",\"World/Africa\",\"World/Africa\",\"World/Asia\",\"World/Africa\",\"World/Asia\",\"World/Europe\",\"World/Oceania\",\"World/Americas\",\"World/Africa\",\"World/Africa\",\"World/Europe\",\"World/Asia\",\"World/Asia\",\"World/Americas\",\"World/Americas\",\"World/Americas\",\"World/Asia\",\"World/Europe\",\"World/Europe\",\"World/Americas\",\"World/Africa\",\"World/Europe\",\"World/Africa\",\"World/Africa\",\"World/Asia\",\"World/Africa\",\"World/Europe\",\"World/Africa\",\"World/Asia\",\"World/Europe\",\"World/Europe\",\"World/Africa\",\"World/Africa\",\"World/Europe\",\"World/Asia\",\"World/Africa\",\"World/Africa\",\"World/Europe\",\"World/Europe\",\"World/Asia\",\"World/Asia\",\"World/Africa\",\"World/Asia\",\"World/Africa\",\"World/Americas\",\"World/Africa\",\"World/Europe\",\"World/Africa\",\"World/Europe\",\"World/Americas\",\"World/Americas\",\"World/Americas\",\"World/Asia\",\"World/Asia\",\"World/Asia\",\"World/Africa\",\"World/Africa\",\"World\",\"World\",\"World\",\"World\",\"World\",\"\"],\"values\":[31889923,3600523,33333216,12420476,40301927,20434176,8199783,708573,150448339,10392226,8078314,9119152,4552198,1639131,190010647,7322858,14326203,8390505,14131858,17696293,33390141,4369038,10238807,16284741,1318683096,44227550,710960,64606759,3800610,4133884,18013409,4493312,11416987,10228744,5468120,496374,9319622,13755680,80264543,6939688,551201,4906585,76511887,5238460,61083916,1454867,1688359,82400996,22873338,10706290,12572928,9947814,1472041,8502814,7483763,6980412,9956108,301931,1110396331,223547000,69453570,27499638,4109086,6426679,58147733,2780132,127467972,6053193,35610177,23301725,49044790,2505559,3921278,2012649,3193942,6036914,19167654,13327079,24821286,12031795,3270065,1250882,108700891,2874127,684736,33757175,19951656,47761980,2055080,28901790,16570613,4115771,5675356,12894865,135031164,4627926,3204897,169270617,3242173,6667147,28674757,91077287,38518241,10642836,3942491,798094,22276056,8860588,199579,27601038,12267493,10150265,6144562,4553009,5447502,2009245,9118773,43997828,40448191,20378239,42292929,1133066,9031088,7554661,19314747,23174294,38139640,65068149,5701579,1056608,10276158,71158647,29170398,60776238,301139947,3447496,26084662,85262356,4018332,22211743,11746035,12311143,929539692,898871184,3811953827,586098529,24549947,6251013179],\"type\":\"treemap\"}],                        {\"template\":{\"data\":{\"histogram2dcontour\":[{\"type\":\"histogram2dcontour\",\"colorbar\":{\"outlinewidth\":0,\"ticks\":\"\"},\"colorscale\":[[0.0,\"#0d0887\"],[0.1111111111111111,\"#46039f\"],[0.2222222222222222,\"#7201a8\"],[0.3333333333333333,\"#9c179e\"],[0.4444444444444444,\"#bd3786\"],[0.5555555555555556,\"#d8576b\"],[0.6666666666666666,\"#ed7953\"],[0.7777777777777778,\"#fb9f3a\"],[0.8888888888888888,\"#fdca26\"],[1.0,\"#f0f921\"]]}],\"choropleth\":[{\"type\":\"choropleth\",\"colorbar\":{\"outlinewidth\":0,\"ticks\":\"\"}}],\"histogram2d\":[{\"type\":\"histogram2d\",\"colorbar\":{\"outlinewidth\":0,\"ticks\":\"\"},\"colorscale\":[[0.0,\"#0d0887\"],[0.1111111111111111,\"#46039f\"],[0.2222222222222222,\"#7201a8\"],[0.3333333333333333,\"#9c179e\"],[0.4444444444444444,\"#bd3786\"],[0.5555555555555556,\"#d8576b\"],[0.6666666666666666,\"#ed7953\"],[0.7777777777777778,\"#fb9f3a\"],[0.8888888888888888,\"#fdca26\"],[1.0,\"#f0f921\"]]}],\"heatmap\":[{\"type\":\"heatmap\",\"colorbar\":{\"outlinewidth\":0,\"ticks\":\"\"},\"colorscale\":[[0.0,\"#0d0887\"],[0.1111111111111111,\"#46039f\"],[0.2222222222222222,\"#7201a8\"],[0.3333333333333333,\"#9c179e\"],[0.4444444444444444,\"#bd3786\"],[0.5555555555555556,\"#d8576b\"],[0.6666666666666666,\"#ed7953\"],[0.7777777777777778,\"#fb9f3a\"],[0.8888888888888888,\"#fdca26\"],[1.0,\"#f0f921\"]]}],\"heatmapgl\":[{\"type\":\"heatmapgl\",\"colorbar\":{\"outlinewidth\":0,\"ticks\":\"\"},\"colorscale\":[[0.0,\"#0d0887\"],[0.1111111111111111,\"#46039f\"],[0.2222222222222222,\"#7201a8\"],[0.3333333333333333,\"#9c179e\"],[0.4444444444444444,\"#bd3786\"],[0.5555555555555556,\"#d8576b\"],[0.6666666666666666,\"#ed7953\"],[0.7777777777777778,\"#fb9f3a\"],[0.8888888888888888,\"#fdca26\"],[1.0,\"#f0f921\"]]}],\"contourcarpet\":[{\"type\":\"contourcarpet\",\"colorbar\":{\"outlinewidth\":0,\"ticks\":\"\"}}],\"contour\":[{\"type\":\"contour\",\"colorbar\":{\"outlinewidth\":0,\"ticks\":\"\"},\"colorscale\":[[0.0,\"#0d0887\"],[0.1111111111111111,\"#46039f\"],[0.2222222222222222,\"#7201a8\"],[0.3333333333333333,\"#9c179e\"],[0.4444444444444444,\"#bd3786\"],[0.5555555555555556,\"#d8576b\"],[0.6666666666666666,\"#ed7953\"],[0.7777777777777778,\"#fb9f3a\"],[0.8888888888888888,\"#fdca26\"],[1.0,\"#f0f921\"]]}],\"surface\":[{\"type\":\"surface\",\"colorbar\":{\"outlinewidth\":0,\"ticks\":\"\"},\"colorscale\":[[0.0,\"#0d0887\"],[0.1111111111111111,\"#46039f\"],[0.2222222222222222,\"#7201a8\"],[0.3333333333333333,\"#9c179e\"],[0.4444444444444444,\"#bd3786\"],[0.5555555555555556,\"#d8576b\"],[0.6666666666666666,\"#ed7953\"],[0.7777777777777778,\"#fb9f3a\"],[0.8888888888888888,\"#fdca26\"],[1.0,\"#f0f921\"]]}],\"mesh3d\":[{\"type\":\"mesh3d\",\"colorbar\":{\"outlinewidth\":0,\"ticks\":\"\"}}],\"scatter\":[{\"fillpattern\":{\"fillmode\":\"overlay\",\"size\":10,\"solidity\":0.2},\"type\":\"scatter\"}],\"parcoords\":[{\"type\":\"parcoords\",\"line\":{\"colorbar\":{\"outlinewidth\":0,\"ticks\":\"\"}}}],\"scatterpolargl\":[{\"type\":\"scatterpolargl\",\"marker\":{\"colorbar\":{\"outlinewidth\":0,\"ticks\":\"\"}}}],\"bar\":[{\"error_x\":{\"color\":\"#2a3f5f\"},\"error_y\":{\"color\":\"#2a3f5f\"},\"marker\":{\"line\":{\"color\":\"#E5ECF6\",\"width\":0.5},\"pattern\":{\"fillmode\":\"overlay\",\"size\":10,\"solidity\":0.2}},\"type\":\"bar\"}],\"scattergeo\":[{\"type\":\"scattergeo\",\"marker\":{\"colorbar\":{\"outlinewidth\":0,\"ticks\":\"\"}}}],\"scatterpolar\":[{\"type\":\"scatterpolar\",\"marker\":{\"colorbar\":{\"outlinewidth\":0,\"ticks\":\"\"}}}],\"histogram\":[{\"marker\":{\"pattern\":{\"fillmode\":\"overlay\",\"size\":10,\"solidity\":0.2}},\"type\":\"histogram\"}],\"scattergl\":[{\"type\":\"scattergl\",\"marker\":{\"colorbar\":{\"outlinewidth\":0,\"ticks\":\"\"}}}],\"scatter3d\":[{\"type\":\"scatter3d\",\"line\":{\"colorbar\":{\"outlinewidth\":0,\"ticks\":\"\"}},\"marker\":{\"colorbar\":{\"outlinewidth\":0,\"ticks\":\"\"}}}],\"scattermapbox\":[{\"type\":\"scattermapbox\",\"marker\":{\"colorbar\":{\"outlinewidth\":0,\"ticks\":\"\"}}}],\"scatterternary\":[{\"type\":\"scatterternary\",\"marker\":{\"colorbar\":{\"outlinewidth\":0,\"ticks\":\"\"}}}],\"scattercarpet\":[{\"type\":\"scattercarpet\",\"marker\":{\"colorbar\":{\"outlinewidth\":0,\"ticks\":\"\"}}}],\"carpet\":[{\"aaxis\":{\"endlinecolor\":\"#2a3f5f\",\"gridcolor\":\"white\",\"linecolor\":\"white\",\"minorgridcolor\":\"white\",\"startlinecolor\":\"#2a3f5f\"},\"baxis\":{\"endlinecolor\":\"#2a3f5f\",\"gridcolor\":\"white\",\"linecolor\":\"white\",\"minorgridcolor\":\"white\",\"startlinecolor\":\"#2a3f5f\"},\"type\":\"carpet\"}],\"table\":[{\"cells\":{\"fill\":{\"color\":\"#EBF0F8\"},\"line\":{\"color\":\"white\"}},\"header\":{\"fill\":{\"color\":\"#C8D4E3\"},\"line\":{\"color\":\"white\"}},\"type\":\"table\"}],\"barpolar\":[{\"marker\":{\"line\":{\"color\":\"#E5ECF6\",\"width\":0.5},\"pattern\":{\"fillmode\":\"overlay\",\"size\":10,\"solidity\":0.2}},\"type\":\"barpolar\"}],\"pie\":[{\"automargin\":true,\"type\":\"pie\"}]},\"layout\":{\"autotypenumbers\":\"strict\",\"colorway\":[\"#636efa\",\"#EF553B\",\"#00cc96\",\"#ab63fa\",\"#FFA15A\",\"#19d3f3\",\"#FF6692\",\"#B6E880\",\"#FF97FF\",\"#FECB52\"],\"font\":{\"color\":\"#2a3f5f\"},\"hovermode\":\"closest\",\"hoverlabel\":{\"align\":\"left\"},\"paper_bgcolor\":\"white\",\"plot_bgcolor\":\"#E5ECF6\",\"polar\":{\"bgcolor\":\"#E5ECF6\",\"angularaxis\":{\"gridcolor\":\"white\",\"linecolor\":\"white\",\"ticks\":\"\"},\"radialaxis\":{\"gridcolor\":\"white\",\"linecolor\":\"white\",\"ticks\":\"\"}},\"ternary\":{\"bgcolor\":\"#E5ECF6\",\"aaxis\":{\"gridcolor\":\"white\",\"linecolor\":\"white\",\"ticks\":\"\"},\"baxis\":{\"gridcolor\":\"white\",\"linecolor\":\"white\",\"ticks\":\"\"},\"caxis\":{\"gridcolor\":\"white\",\"linecolor\":\"white\",\"ticks\":\"\"}},\"coloraxis\":{\"colorbar\":{\"outlinewidth\":0,\"ticks\":\"\"}},\"colorscale\":{\"sequential\":[[0.0,\"#0d0887\"],[0.1111111111111111,\"#46039f\"],[0.2222222222222222,\"#7201a8\"],[0.3333333333333333,\"#9c179e\"],[0.4444444444444444,\"#bd3786\"],[0.5555555555555556,\"#d8576b\"],[0.6666666666666666,\"#ed7953\"],[0.7777777777777778,\"#fb9f3a\"],[0.8888888888888888,\"#fdca26\"],[1.0,\"#f0f921\"]],\"sequentialminus\":[[0.0,\"#0d0887\"],[0.1111111111111111,\"#46039f\"],[0.2222222222222222,\"#7201a8\"],[0.3333333333333333,\"#9c179e\"],[0.4444444444444444,\"#bd3786\"],[0.5555555555555556,\"#d8576b\"],[0.6666666666666666,\"#ed7953\"],[0.7777777777777778,\"#fb9f3a\"],[0.8888888888888888,\"#fdca26\"],[1.0,\"#f0f921\"]],\"diverging\":[[0,\"#8e0152\"],[0.1,\"#c51b7d\"],[0.2,\"#de77ae\"],[0.3,\"#f1b6da\"],[0.4,\"#fde0ef\"],[0.5,\"#f7f7f7\"],[0.6,\"#e6f5d0\"],[0.7,\"#b8e186\"],[0.8,\"#7fbc41\"],[0.9,\"#4d9221\"],[1,\"#276419\"]]},\"xaxis\":{\"gridcolor\":\"white\",\"linecolor\":\"white\",\"ticks\":\"\",\"title\":{\"standoff\":15},\"zerolinecolor\":\"white\",\"automargin\":true,\"zerolinewidth\":2},\"yaxis\":{\"gridcolor\":\"white\",\"linecolor\":\"white\",\"ticks\":\"\",\"title\":{\"standoff\":15},\"zerolinecolor\":\"white\",\"automargin\":true,\"zerolinewidth\":2},\"scene\":{\"xaxis\":{\"backgroundcolor\":\"#E5ECF6\",\"gridcolor\":\"white\",\"linecolor\":\"white\",\"showbackground\":true,\"ticks\":\"\",\"zerolinecolor\":\"white\",\"gridwidth\":2},\"yaxis\":{\"backgroundcolor\":\"#E5ECF6\",\"gridcolor\":\"white\",\"linecolor\":\"white\",\"showbackground\":true,\"ticks\":\"\",\"zerolinecolor\":\"white\",\"gridwidth\":2},\"zaxis\":{\"backgroundcolor\":\"#E5ECF6\",\"gridcolor\":\"white\",\"linecolor\":\"white\",\"showbackground\":true,\"ticks\":\"\",\"zerolinecolor\":\"white\",\"gridwidth\":2}},\"shapedefaults\":{\"line\":{\"color\":\"#2a3f5f\"}},\"annotationdefaults\":{\"arrowcolor\":\"#2a3f5f\",\"arrowhead\":0,\"arrowwidth\":1},\"geo\":{\"bgcolor\":\"white\",\"landcolor\":\"#E5ECF6\",\"subunitcolor\":\"white\",\"showland\":true,\"showlakes\":true,\"lakecolor\":\"white\"},\"title\":{\"x\":0.05},\"mapbox\":{\"style\":\"light\"}}},\"coloraxis\":{\"colorbar\":{\"title\":{\"text\":\"pop\"}},\"colorscale\":[[0.0,\"rgb(255,245,235)\"],[0.125,\"rgb(254,230,206)\"],[0.25,\"rgb(253,208,162)\"],[0.375,\"rgb(253,174,107)\"],[0.5,\"rgb(253,141,60)\"],[0.625,\"rgb(241,105,19)\"],[0.75,\"rgb(217,72,1)\"],[0.875,\"rgb(166,54,3)\"],[1.0,\"rgb(127,39,4)\"]]},\"legend\":{\"tracegroupgap\":0},\"title\":{\"text\":\"2007 D\\u00fcnya N\\u00fcfusu\"}},                        {\"responsive\": true}                    ).then(function(){\n",
       "                            \n",
       "var gd = document.getElementById('7fa6b045-578a-423d-ac36-3e88d5b1e826');\n",
       "var x = new MutationObserver(function (mutations, observer) {{\n",
       "        var display = window.getComputedStyle(gd).display;\n",
       "        if (!display || display === 'none') {{\n",
       "            console.log([gd, 'removed!']);\n",
       "            Plotly.purge(gd);\n",
       "            observer.disconnect();\n",
       "        }}\n",
       "}});\n",
       "\n",
       "// Listen for the removal of the full notebook cells\n",
       "var notebookContainer = gd.closest('#notebook-container');\n",
       "if (notebookContainer) {{\n",
       "    x.observe(notebookContainer, {childList: true});\n",
       "}}\n",
       "\n",
       "// Listen for the clearing of the current output cell\n",
       "var outputEl = gd.closest('.output');\n",
       "if (outputEl) {{\n",
       "    x.observe(outputEl, {childList: true});\n",
       "}}\n",
       "\n",
       "                        })                };                });            </script>        </div>"
      ]
     },
     "metadata": {},
     "output_type": "display_data"
    }
   ],
   "source": [
    "# Treemap görselleştirmesi\n",
    "fig = px.treemap(temp_df, \n",
    "                 path=[px.Constant('World'), 'continent', 'country'], \n",
    "                 values='pop',  # Nüfus\n",
    "                 color='pop',  # Renk nüfusu gösterir\n",
    "                 color_continuous_scale='Oranges',\n",
    "                 title='2007 Dünya Nüfusu')\n",
    "\n",
    "# Görselleştirmeyi gösterme\n",
    "fig.show()"
   ]
  }
 ],
 "metadata": {
  "kernelspec": {
   "display_name": "Python 3 (ipykernel)",
   "language": "python",
   "name": "python3"
  },
  "language_info": {
   "codemirror_mode": {
    "name": "ipython",
    "version": 3
   },
   "file_extension": ".py",
   "mimetype": "text/x-python",
   "name": "python",
   "nbconvert_exporter": "python",
   "pygments_lexer": "ipython3",
   "version": "3.11.5"
  }
 },
 "nbformat": 4,
 "nbformat_minor": 5
}
